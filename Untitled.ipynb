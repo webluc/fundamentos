{
 "cells": [
  {
   "cell_type": "code",
   "execution_count": 1,
   "id": "1ae45619",
   "metadata": {
    "ExecuteTime": {
     "end_time": "2022-07-30T13:03:40.251390Z",
     "start_time": "2022-07-30T13:03:37.381155Z"
    }
   },
   "outputs": [],
   "source": [
    "import pandas as pd"
   ]
  },
  {
   "cell_type": "code",
   "execution_count": 20,
   "id": "d3fb14c5",
   "metadata": {
    "ExecuteTime": {
     "end_time": "2022-07-30T13:48:42.879106Z",
     "start_time": "2022-07-30T13:48:42.866402Z"
    }
   },
   "outputs": [
    {
     "name": "stdout",
     "output_type": "stream",
     "text": [
      "   Courses    Fee Duration  Discount\n",
      "0    Spark  20000    30day      1000\n",
      "1  PySpark  25000   40days      2300\n",
      "2   Hadoop  26000   35days      1500\n",
      "3   Python  22000   40days      1200\n",
      "4   pandas  24000   60days      2500\n",
      "5   Oracle  21000   50days      2100\n",
      "6     Java  22000   55days      2000\n"
     ]
    }
   ],
   "source": [
    "technologies = {\n",
    "    'Courses':[\"Spark\",\"PySpark\",\"Hadoop\",\"Python\",\"pandas\",\"Oracle\",\"Java\"],\n",
    "    'Fee' :[20000,25000,26000,22000,24000,21000,22000],\n",
    "    'Duration':['30day','40days','35days','40days','60days','50days','55days'],\n",
    "    'Discount':[1000,2300,1500,1200,2500,2100,2000]\n",
    "              }\n",
    "df = pd.DataFrame(technologies)\n",
    "print(df)"
   ]
  },
  {
   "cell_type": "code",
   "execution_count": 31,
   "id": "262eed84",
   "metadata": {
    "ExecuteTime": {
     "end_time": "2022-07-30T13:54:51.675235Z",
     "start_time": "2022-07-30T13:54:51.654691Z"
    }
   },
   "outputs": [
    {
     "data": {
      "text/html": [
       "<div>\n",
       "<style scoped>\n",
       "    .dataframe tbody tr th:only-of-type {\n",
       "        vertical-align: middle;\n",
       "    }\n",
       "\n",
       "    .dataframe tbody tr th {\n",
       "        vertical-align: top;\n",
       "    }\n",
       "\n",
       "    .dataframe thead th {\n",
       "        text-align: right;\n",
       "    }\n",
       "</style>\n",
       "<table border=\"1\" class=\"dataframe\">\n",
       "  <thead>\n",
       "    <tr style=\"text-align: right;\">\n",
       "      <th></th>\n",
       "      <th>Courses</th>\n",
       "      <th>Fee</th>\n",
       "      <th>Duration</th>\n",
       "    </tr>\n",
       "  </thead>\n",
       "  <tbody>\n",
       "    <tr>\n",
       "      <th>1</th>\n",
       "      <td>PySpark</td>\n",
       "      <td>25000</td>\n",
       "      <td>40days</td>\n",
       "    </tr>\n",
       "    <tr>\n",
       "      <th>2</th>\n",
       "      <td>Hadoop</td>\n",
       "      <td>26000</td>\n",
       "      <td>35days</td>\n",
       "    </tr>\n",
       "    <tr>\n",
       "      <th>4</th>\n",
       "      <td>pandas</td>\n",
       "      <td>24000</td>\n",
       "      <td>60days</td>\n",
       "    </tr>\n",
       "  </tbody>\n",
       "</table>\n",
       "</div>"
      ],
      "text/plain": [
       "   Courses    Fee Duration\n",
       "1  PySpark  25000   40days\n",
       "2   Hadoop  26000   35days\n",
       "4   pandas  24000   60days"
      ]
     },
     "execution_count": 31,
     "metadata": {},
     "output_type": "execute_result"
    }
   ],
   "source": [
    "df2 = df.loc[ df['Fee'] > 23000 ] \n",
    "df2[['Courses','Fee','Duration']]"
   ]
  },
  {
   "cell_type": "code",
   "execution_count": null,
   "id": "2e68f87f",
   "metadata": {},
   "outputs": [],
   "source": []
  }
 ],
 "metadata": {
  "kernelspec": {
   "display_name": "Python 3 (ipykernel)",
   "language": "python",
   "name": "python3"
  },
  "language_info": {
   "codemirror_mode": {
    "name": "ipython",
    "version": 3
   },
   "file_extension": ".py",
   "mimetype": "text/x-python",
   "name": "python",
   "nbconvert_exporter": "python",
   "pygments_lexer": "ipython3",
   "version": "3.8.5"
  }
 },
 "nbformat": 4,
 "nbformat_minor": 5
}
