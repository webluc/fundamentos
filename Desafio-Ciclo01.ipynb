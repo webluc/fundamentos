{
 "cells": [
  {
   "cell_type": "markdown",
   "metadata": {
    "ExecuteTime": {
     "end_time": "2022-07-20T19:49:34.620816Z",
     "start_time": "2022-07-20T19:49:34.615291Z"
    }
   },
   "source": [
    "# Imports"
   ]
  },
  {
   "cell_type": "code",
   "execution_count": 1,
   "metadata": {
    "ExecuteTime": {
     "end_time": "2022-07-29T12:32:46.028601Z",
     "start_time": "2022-07-29T12:32:45.510501Z"
    }
   },
   "outputs": [],
   "source": [
    "import pandas as pd\n",
    "import numpy as np\n",
    "from tabulate import tabulate\n",
    "\n",
    "pd.set_option('display.float_format', lambda x: '%.3f' % x)"
   ]
  },
  {
   "cell_type": "markdown",
   "metadata": {},
   "source": [
    "# Carregar os dados do csv"
   ]
  },
  {
   "cell_type": "code",
   "execution_count": 2,
   "metadata": {
    "ExecuteTime": {
     "end_time": "2022-07-29T12:32:46.268905Z",
     "start_time": "2022-07-29T12:32:46.035871Z"
    },
    "scrolled": true
   },
   "outputs": [
    {
     "data": {
      "text/html": [
       "<div>\n",
       "<style scoped>\n",
       "    .dataframe tbody tr th:only-of-type {\n",
       "        vertical-align: middle;\n",
       "    }\n",
       "\n",
       "    .dataframe tbody tr th {\n",
       "        vertical-align: top;\n",
       "    }\n",
       "\n",
       "    .dataframe thead th {\n",
       "        text-align: right;\n",
       "    }\n",
       "</style>\n",
       "<table border=\"1\" class=\"dataframe\">\n",
       "  <thead>\n",
       "    <tr style=\"text-align: right;\">\n",
       "      <th></th>\n",
       "      <th>id</th>\n",
       "      <th>name</th>\n",
       "      <th>host_id</th>\n",
       "      <th>host_name</th>\n",
       "      <th>neighbourhood_group</th>\n",
       "      <th>neighbourhood</th>\n",
       "      <th>latitude</th>\n",
       "      <th>longitude</th>\n",
       "      <th>room_type</th>\n",
       "      <th>price</th>\n",
       "      <th>minimum_nights</th>\n",
       "      <th>number_of_reviews</th>\n",
       "      <th>last_review</th>\n",
       "      <th>reviews_per_month</th>\n",
       "      <th>calculated_host_listings_count</th>\n",
       "      <th>availability_365</th>\n",
       "    </tr>\n",
       "  </thead>\n",
       "  <tbody>\n",
       "    <tr>\n",
       "      <th>0</th>\n",
       "      <td>2539</td>\n",
       "      <td>Clean &amp; quiet apt home by the park</td>\n",
       "      <td>2787</td>\n",
       "      <td>John</td>\n",
       "      <td>Brooklyn</td>\n",
       "      <td>Kensington</td>\n",
       "      <td>40.647</td>\n",
       "      <td>-73.972</td>\n",
       "      <td>Private room</td>\n",
       "      <td>149</td>\n",
       "      <td>1</td>\n",
       "      <td>9</td>\n",
       "      <td>2018-10-19</td>\n",
       "      <td>0.210</td>\n",
       "      <td>6</td>\n",
       "      <td>365</td>\n",
       "    </tr>\n",
       "    <tr>\n",
       "      <th>1</th>\n",
       "      <td>2595</td>\n",
       "      <td>Skylit Midtown Castle</td>\n",
       "      <td>2845</td>\n",
       "      <td>Jennifer</td>\n",
       "      <td>Manhattan</td>\n",
       "      <td>Midtown</td>\n",
       "      <td>40.754</td>\n",
       "      <td>-73.984</td>\n",
       "      <td>Entire home/apt</td>\n",
       "      <td>225</td>\n",
       "      <td>1</td>\n",
       "      <td>45</td>\n",
       "      <td>2019-05-21</td>\n",
       "      <td>0.380</td>\n",
       "      <td>2</td>\n",
       "      <td>355</td>\n",
       "    </tr>\n",
       "    <tr>\n",
       "      <th>2</th>\n",
       "      <td>3647</td>\n",
       "      <td>THE VILLAGE OF HARLEM....NEW YORK !</td>\n",
       "      <td>4632</td>\n",
       "      <td>Elisabeth</td>\n",
       "      <td>Manhattan</td>\n",
       "      <td>Harlem</td>\n",
       "      <td>40.809</td>\n",
       "      <td>-73.942</td>\n",
       "      <td>Private room</td>\n",
       "      <td>150</td>\n",
       "      <td>3</td>\n",
       "      <td>0</td>\n",
       "      <td>NaN</td>\n",
       "      <td>NaN</td>\n",
       "      <td>1</td>\n",
       "      <td>365</td>\n",
       "    </tr>\n",
       "    <tr>\n",
       "      <th>3</th>\n",
       "      <td>3831</td>\n",
       "      <td>Cozy Entire Floor of Brownstone</td>\n",
       "      <td>4869</td>\n",
       "      <td>LisaRoxanne</td>\n",
       "      <td>Brooklyn</td>\n",
       "      <td>Clinton Hill</td>\n",
       "      <td>40.685</td>\n",
       "      <td>-73.960</td>\n",
       "      <td>Entire home/apt</td>\n",
       "      <td>89</td>\n",
       "      <td>1</td>\n",
       "      <td>270</td>\n",
       "      <td>2019-07-05</td>\n",
       "      <td>4.640</td>\n",
       "      <td>1</td>\n",
       "      <td>194</td>\n",
       "    </tr>\n",
       "    <tr>\n",
       "      <th>4</th>\n",
       "      <td>5022</td>\n",
       "      <td>Entire Apt: Spacious Studio/Loft by central park</td>\n",
       "      <td>7192</td>\n",
       "      <td>Laura</td>\n",
       "      <td>Manhattan</td>\n",
       "      <td>East Harlem</td>\n",
       "      <td>40.799</td>\n",
       "      <td>-73.944</td>\n",
       "      <td>Entire home/apt</td>\n",
       "      <td>80</td>\n",
       "      <td>10</td>\n",
       "      <td>9</td>\n",
       "      <td>2018-11-19</td>\n",
       "      <td>0.100</td>\n",
       "      <td>1</td>\n",
       "      <td>0</td>\n",
       "    </tr>\n",
       "  </tbody>\n",
       "</table>\n",
       "</div>"
      ],
      "text/plain": [
       "     id                                              name  host_id  \\\n",
       "0  2539                Clean & quiet apt home by the park     2787   \n",
       "1  2595                             Skylit Midtown Castle     2845   \n",
       "2  3647               THE VILLAGE OF HARLEM....NEW YORK !     4632   \n",
       "3  3831                   Cozy Entire Floor of Brownstone     4869   \n",
       "4  5022  Entire Apt: Spacious Studio/Loft by central park     7192   \n",
       "\n",
       "     host_name neighbourhood_group neighbourhood  latitude  longitude  \\\n",
       "0         John            Brooklyn    Kensington    40.647    -73.972   \n",
       "1     Jennifer           Manhattan       Midtown    40.754    -73.984   \n",
       "2    Elisabeth           Manhattan        Harlem    40.809    -73.942   \n",
       "3  LisaRoxanne            Brooklyn  Clinton Hill    40.685    -73.960   \n",
       "4        Laura           Manhattan   East Harlem    40.799    -73.944   \n",
       "\n",
       "         room_type  price  minimum_nights  number_of_reviews last_review  \\\n",
       "0     Private room    149               1                  9  2018-10-19   \n",
       "1  Entire home/apt    225               1                 45  2019-05-21   \n",
       "2     Private room    150               3                  0         NaN   \n",
       "3  Entire home/apt     89               1                270  2019-07-05   \n",
       "4  Entire home/apt     80              10                  9  2018-11-19   \n",
       "\n",
       "   reviews_per_month  calculated_host_listings_count  availability_365  \n",
       "0              0.210                               6               365  \n",
       "1              0.380                               2               355  \n",
       "2                NaN                               1               365  \n",
       "3              4.640                               1               194  \n",
       "4              0.100                               1                 0  "
      ]
     },
     "execution_count": 2,
     "metadata": {},
     "output_type": "execute_result"
    }
   ],
   "source": [
    "df_raw = pd.read_csv('data/AB_NYC_2019.csv')\n",
    "df_raw.head()"
   ]
  },
  {
   "cell_type": "code",
   "execution_count": 60,
   "metadata": {
    "ExecuteTime": {
     "end_time": "2022-07-29T12:35:07.353786Z",
     "start_time": "2022-07-29T12:35:07.281520Z"
    },
    "cell_style": "split",
    "scrolled": false
   },
   "outputs": [
    {
     "data": {
      "text/plain": [
       "id                                    0\n",
       "name                                 16\n",
       "host_id                               0\n",
       "host_name                            21\n",
       "neighbourhood_group                   0\n",
       "neighbourhood                         0\n",
       "latitude                              0\n",
       "longitude                             0\n",
       "room_type                             0\n",
       "price                                 0\n",
       "minimum_nights                        0\n",
       "number_of_reviews                     0\n",
       "last_review                       10052\n",
       "reviews_per_month                 10052\n",
       "calculated_host_listings_count        0\n",
       "availability_365                      0\n",
       "dtype: int64"
      ]
     },
     "execution_count": 60,
     "metadata": {},
     "output_type": "execute_result"
    }
   ],
   "source": [
    "df_raw.isna().sum()"
   ]
  },
  {
   "cell_type": "code",
   "execution_count": 4,
   "metadata": {
    "ExecuteTime": {
     "end_time": "2022-07-29T12:32:46.441290Z",
     "start_time": "2022-07-29T12:32:46.392212Z"
    },
    "cell_style": "split"
   },
   "outputs": [
    {
     "data": {
      "text/plain": [
       "id                                  int64\n",
       "name                               object\n",
       "host_id                             int64\n",
       "host_name                          object\n",
       "neighbourhood_group                object\n",
       "neighbourhood                      object\n",
       "latitude                          float64\n",
       "longitude                         float64\n",
       "room_type                          object\n",
       "price                               int64\n",
       "minimum_nights                      int64\n",
       "number_of_reviews                   int64\n",
       "last_review                        object\n",
       "reviews_per_month                 float64\n",
       "calculated_host_listings_count      int64\n",
       "availability_365                    int64\n",
       "dtype: object"
      ]
     },
     "execution_count": 4,
     "metadata": {},
     "output_type": "execute_result"
    }
   ],
   "source": [
    "df_raw.dtypes"
   ]
  },
  {
   "cell_type": "code",
   "execution_count": 5,
   "metadata": {
    "ExecuteTime": {
     "end_time": "2022-07-29T12:32:46.552310Z",
     "start_time": "2022-07-29T12:32:46.446090Z"
    }
   },
   "outputs": [],
   "source": [
    "df = df_raw.copy()"
   ]
  },
  {
   "cell_type": "code",
   "execution_count": 6,
   "metadata": {
    "ExecuteTime": {
     "end_time": "2022-07-29T12:32:46.671153Z",
     "start_time": "2022-07-29T12:32:46.556084Z"
    }
   },
   "outputs": [
    {
     "data": {
      "text/html": [
       "<div>\n",
       "<style scoped>\n",
       "    .dataframe tbody tr th:only-of-type {\n",
       "        vertical-align: middle;\n",
       "    }\n",
       "\n",
       "    .dataframe tbody tr th {\n",
       "        vertical-align: top;\n",
       "    }\n",
       "\n",
       "    .dataframe thead th {\n",
       "        text-align: right;\n",
       "    }\n",
       "</style>\n",
       "<table border=\"1\" class=\"dataframe\">\n",
       "  <thead>\n",
       "    <tr style=\"text-align: right;\">\n",
       "      <th></th>\n",
       "      <th>id</th>\n",
       "      <th>name</th>\n",
       "      <th>host_id</th>\n",
       "      <th>host_name</th>\n",
       "      <th>neighbourhood_group</th>\n",
       "      <th>neighbourhood</th>\n",
       "      <th>latitude</th>\n",
       "      <th>longitude</th>\n",
       "      <th>room_type</th>\n",
       "      <th>price</th>\n",
       "      <th>minimum_nights</th>\n",
       "      <th>number_of_reviews</th>\n",
       "      <th>last_review</th>\n",
       "      <th>reviews_per_month</th>\n",
       "      <th>calculated_host_listings_count</th>\n",
       "      <th>availability_365</th>\n",
       "    </tr>\n",
       "  </thead>\n",
       "  <tbody>\n",
       "    <tr>\n",
       "      <th>38293</th>\n",
       "      <td>30181691</td>\n",
       "      <td>Sonder | 180 Water | Incredible 2BR + Rooftop</td>\n",
       "      <td>219517861</td>\n",
       "      <td>Sonder (NYC)</td>\n",
       "      <td>Manhattan</td>\n",
       "      <td>Financial District</td>\n",
       "      <td>40.706</td>\n",
       "      <td>-74.006</td>\n",
       "      <td>Entire home/apt</td>\n",
       "      <td>302</td>\n",
       "      <td>29</td>\n",
       "      <td>0</td>\n",
       "      <td>NaN</td>\n",
       "      <td>NaN</td>\n",
       "      <td>327</td>\n",
       "      <td>309</td>\n",
       "    </tr>\n",
       "    <tr>\n",
       "      <th>38294</th>\n",
       "      <td>30181945</td>\n",
       "      <td>Sonder | 180 Water | Premier 1BR + Rooftop</td>\n",
       "      <td>219517861</td>\n",
       "      <td>Sonder (NYC)</td>\n",
       "      <td>Manhattan</td>\n",
       "      <td>Financial District</td>\n",
       "      <td>40.708</td>\n",
       "      <td>-74.006</td>\n",
       "      <td>Entire home/apt</td>\n",
       "      <td>229</td>\n",
       "      <td>29</td>\n",
       "      <td>1</td>\n",
       "      <td>2019-05-29</td>\n",
       "      <td>0.730</td>\n",
       "      <td>327</td>\n",
       "      <td>219</td>\n",
       "    </tr>\n",
       "    <tr>\n",
       "      <th>38588</th>\n",
       "      <td>30347708</td>\n",
       "      <td>Sonder | 180 Water | Charming 1BR + Rooftop</td>\n",
       "      <td>219517861</td>\n",
       "      <td>Sonder (NYC)</td>\n",
       "      <td>Manhattan</td>\n",
       "      <td>Financial District</td>\n",
       "      <td>40.707</td>\n",
       "      <td>-74.004</td>\n",
       "      <td>Entire home/apt</td>\n",
       "      <td>232</td>\n",
       "      <td>29</td>\n",
       "      <td>1</td>\n",
       "      <td>2019-05-21</td>\n",
       "      <td>0.600</td>\n",
       "      <td>327</td>\n",
       "      <td>159</td>\n",
       "    </tr>\n",
       "    <tr>\n",
       "      <th>39769</th>\n",
       "      <td>30937590</td>\n",
       "      <td>Sonder | The Nash | Artsy 1BR + Rooftop</td>\n",
       "      <td>219517861</td>\n",
       "      <td>Sonder (NYC)</td>\n",
       "      <td>Manhattan</td>\n",
       "      <td>Murray Hill</td>\n",
       "      <td>40.748</td>\n",
       "      <td>-73.976</td>\n",
       "      <td>Entire home/apt</td>\n",
       "      <td>262</td>\n",
       "      <td>2</td>\n",
       "      <td>8</td>\n",
       "      <td>2019-06-09</td>\n",
       "      <td>1.860</td>\n",
       "      <td>327</td>\n",
       "      <td>91</td>\n",
       "    </tr>\n",
       "    <tr>\n",
       "      <th>39770</th>\n",
       "      <td>30937591</td>\n",
       "      <td>Sonder | The Nash | Lovely Studio + Rooftop</td>\n",
       "      <td>219517861</td>\n",
       "      <td>Sonder (NYC)</td>\n",
       "      <td>Manhattan</td>\n",
       "      <td>Murray Hill</td>\n",
       "      <td>40.748</td>\n",
       "      <td>-73.975</td>\n",
       "      <td>Entire home/apt</td>\n",
       "      <td>255</td>\n",
       "      <td>2</td>\n",
       "      <td>14</td>\n",
       "      <td>2019-06-10</td>\n",
       "      <td>2.590</td>\n",
       "      <td>327</td>\n",
       "      <td>81</td>\n",
       "    </tr>\n",
       "    <tr>\n",
       "      <th>...</th>\n",
       "      <td>...</td>\n",
       "      <td>...</td>\n",
       "      <td>...</td>\n",
       "      <td>...</td>\n",
       "      <td>...</td>\n",
       "      <td>...</td>\n",
       "      <td>...</td>\n",
       "      <td>...</td>\n",
       "      <td>...</td>\n",
       "      <td>...</td>\n",
       "      <td>...</td>\n",
       "      <td>...</td>\n",
       "      <td>...</td>\n",
       "      <td>...</td>\n",
       "      <td>...</td>\n",
       "      <td>...</td>\n",
       "    </tr>\n",
       "    <tr>\n",
       "      <th>47691</th>\n",
       "      <td>35871510</td>\n",
       "      <td>Sonder | 116 John | Vibrant Studio + Fitness Room</td>\n",
       "      <td>219517861</td>\n",
       "      <td>Sonder (NYC)</td>\n",
       "      <td>Manhattan</td>\n",
       "      <td>Financial District</td>\n",
       "      <td>40.708</td>\n",
       "      <td>-74.006</td>\n",
       "      <td>Entire home/apt</td>\n",
       "      <td>135</td>\n",
       "      <td>29</td>\n",
       "      <td>0</td>\n",
       "      <td>NaN</td>\n",
       "      <td>NaN</td>\n",
       "      <td>327</td>\n",
       "      <td>339</td>\n",
       "    </tr>\n",
       "    <tr>\n",
       "      <th>47692</th>\n",
       "      <td>35871511</td>\n",
       "      <td>Sonder | 116 John | Vibrant 1BR + Fitness Room</td>\n",
       "      <td>219517861</td>\n",
       "      <td>Sonder (NYC)</td>\n",
       "      <td>Manhattan</td>\n",
       "      <td>Financial District</td>\n",
       "      <td>40.707</td>\n",
       "      <td>-74.007</td>\n",
       "      <td>Entire home/apt</td>\n",
       "      <td>165</td>\n",
       "      <td>29</td>\n",
       "      <td>0</td>\n",
       "      <td>NaN</td>\n",
       "      <td>NaN</td>\n",
       "      <td>327</td>\n",
       "      <td>342</td>\n",
       "    </tr>\n",
       "    <tr>\n",
       "      <th>47693</th>\n",
       "      <td>35871515</td>\n",
       "      <td>Sonder | 116 John | Stunning 1BR + Rooftop</td>\n",
       "      <td>219517861</td>\n",
       "      <td>Sonder (NYC)</td>\n",
       "      <td>Manhattan</td>\n",
       "      <td>Financial District</td>\n",
       "      <td>40.708</td>\n",
       "      <td>-74.007</td>\n",
       "      <td>Entire home/apt</td>\n",
       "      <td>165</td>\n",
       "      <td>29</td>\n",
       "      <td>0</td>\n",
       "      <td>NaN</td>\n",
       "      <td>NaN</td>\n",
       "      <td>327</td>\n",
       "      <td>347</td>\n",
       "    </tr>\n",
       "    <tr>\n",
       "      <th>47814</th>\n",
       "      <td>35936418</td>\n",
       "      <td>Sonder | 116 John | Polished Studio + Gym</td>\n",
       "      <td>219517861</td>\n",
       "      <td>Sonder (NYC)</td>\n",
       "      <td>Manhattan</td>\n",
       "      <td>Financial District</td>\n",
       "      <td>40.708</td>\n",
       "      <td>-74.005</td>\n",
       "      <td>Entire home/apt</td>\n",
       "      <td>699</td>\n",
       "      <td>29</td>\n",
       "      <td>0</td>\n",
       "      <td>NaN</td>\n",
       "      <td>NaN</td>\n",
       "      <td>327</td>\n",
       "      <td>327</td>\n",
       "    </tr>\n",
       "    <tr>\n",
       "      <th>47821</th>\n",
       "      <td>35937891</td>\n",
       "      <td>Sonder | 116 John | Simple Studio + Gym</td>\n",
       "      <td>219517861</td>\n",
       "      <td>Sonder (NYC)</td>\n",
       "      <td>Manhattan</td>\n",
       "      <td>Financial District</td>\n",
       "      <td>40.707</td>\n",
       "      <td>-74.006</td>\n",
       "      <td>Entire home/apt</td>\n",
       "      <td>699</td>\n",
       "      <td>29</td>\n",
       "      <td>0</td>\n",
       "      <td>NaN</td>\n",
       "      <td>NaN</td>\n",
       "      <td>327</td>\n",
       "      <td>341</td>\n",
       "    </tr>\n",
       "  </tbody>\n",
       "</table>\n",
       "<p>327 rows × 16 columns</p>\n",
       "</div>"
      ],
      "text/plain": [
       "             id                                               name    host_id  \\\n",
       "38293  30181691      Sonder | 180 Water | Incredible 2BR + Rooftop  219517861   \n",
       "38294  30181945         Sonder | 180 Water | Premier 1BR + Rooftop  219517861   \n",
       "38588  30347708        Sonder | 180 Water | Charming 1BR + Rooftop  219517861   \n",
       "39769  30937590            Sonder | The Nash | Artsy 1BR + Rooftop  219517861   \n",
       "39770  30937591        Sonder | The Nash | Lovely Studio + Rooftop  219517861   \n",
       "...         ...                                                ...        ...   \n",
       "47691  35871510  Sonder | 116 John | Vibrant Studio + Fitness Room  219517861   \n",
       "47692  35871511     Sonder | 116 John | Vibrant 1BR + Fitness Room  219517861   \n",
       "47693  35871515         Sonder | 116 John | Stunning 1BR + Rooftop  219517861   \n",
       "47814  35936418          Sonder | 116 John | Polished Studio + Gym  219517861   \n",
       "47821  35937891            Sonder | 116 John | Simple Studio + Gym  219517861   \n",
       "\n",
       "          host_name neighbourhood_group       neighbourhood  latitude  \\\n",
       "38293  Sonder (NYC)           Manhattan  Financial District    40.706   \n",
       "38294  Sonder (NYC)           Manhattan  Financial District    40.708   \n",
       "38588  Sonder (NYC)           Manhattan  Financial District    40.707   \n",
       "39769  Sonder (NYC)           Manhattan         Murray Hill    40.748   \n",
       "39770  Sonder (NYC)           Manhattan         Murray Hill    40.748   \n",
       "...             ...                 ...                 ...       ...   \n",
       "47691  Sonder (NYC)           Manhattan  Financial District    40.708   \n",
       "47692  Sonder (NYC)           Manhattan  Financial District    40.707   \n",
       "47693  Sonder (NYC)           Manhattan  Financial District    40.708   \n",
       "47814  Sonder (NYC)           Manhattan  Financial District    40.708   \n",
       "47821  Sonder (NYC)           Manhattan  Financial District    40.707   \n",
       "\n",
       "       longitude        room_type  price  minimum_nights  number_of_reviews  \\\n",
       "38293    -74.006  Entire home/apt    302              29                  0   \n",
       "38294    -74.006  Entire home/apt    229              29                  1   \n",
       "38588    -74.004  Entire home/apt    232              29                  1   \n",
       "39769    -73.976  Entire home/apt    262               2                  8   \n",
       "39770    -73.975  Entire home/apt    255               2                 14   \n",
       "...          ...              ...    ...             ...                ...   \n",
       "47691    -74.006  Entire home/apt    135              29                  0   \n",
       "47692    -74.007  Entire home/apt    165              29                  0   \n",
       "47693    -74.007  Entire home/apt    165              29                  0   \n",
       "47814    -74.005  Entire home/apt    699              29                  0   \n",
       "47821    -74.006  Entire home/apt    699              29                  0   \n",
       "\n",
       "      last_review  reviews_per_month  calculated_host_listings_count  \\\n",
       "38293         NaN                NaN                             327   \n",
       "38294  2019-05-29              0.730                             327   \n",
       "38588  2019-05-21              0.600                             327   \n",
       "39769  2019-06-09              1.860                             327   \n",
       "39770  2019-06-10              2.590                             327   \n",
       "...           ...                ...                             ...   \n",
       "47691         NaN                NaN                             327   \n",
       "47692         NaN                NaN                             327   \n",
       "47693         NaN                NaN                             327   \n",
       "47814         NaN                NaN                             327   \n",
       "47821         NaN                NaN                             327   \n",
       "\n",
       "       availability_365  \n",
       "38293               309  \n",
       "38294               219  \n",
       "38588               159  \n",
       "39769                91  \n",
       "39770                81  \n",
       "...                 ...  \n",
       "47691               339  \n",
       "47692               342  \n",
       "47693               347  \n",
       "47814               327  \n",
       "47821               341  \n",
       "\n",
       "[327 rows x 16 columns]"
      ]
     },
     "execution_count": 6,
     "metadata": {},
     "output_type": "execute_result"
    }
   ],
   "source": [
    "#df[['id','host_id']].groupby(['host_id','id']).count().sample(20)\n",
    "\n",
    "df[df['host_id'] == 219517861 ]\n",
    "#df.head( 20 ).sort_values('calculated_host_listings_count', ascending = True)"
   ]
  },
  {
   "cell_type": "markdown",
   "metadata": {
    "ExecuteTime": {
     "end_time": "2022-07-20T20:32:32.311681Z",
     "start_time": "2022-07-20T20:32:32.306489Z"
    }
   },
   "source": [
    "# Problema de Negócio - Respondendo."
   ]
  },
  {
   "cell_type": "code",
   "execution_count": 7,
   "metadata": {
    "ExecuteTime": {
     "end_time": "2022-07-29T12:32:46.753136Z",
     "start_time": "2022-07-29T12:32:46.678638Z"
    }
   },
   "outputs": [],
   "source": [
    "df['last_review'] = pd.to_datetime( df['last_review'] )"
   ]
  },
  {
   "cell_type": "code",
   "execution_count": 8,
   "metadata": {
    "ExecuteTime": {
     "end_time": "2022-07-29T12:32:46.845714Z",
     "start_time": "2022-07-29T12:32:46.756362Z"
    }
   },
   "outputs": [
    {
     "name": "stdout",
     "output_type": "stream",
     "text": [
      "------------------------------  ----------------------------------\n",
      "id                              id do imóvel\n",
      "name                            Descrição do Imóvel\n",
      "host_id                         Id do proprietário\n",
      "host_name                       Nome do Proprietário\n",
      "neighbourhood_group             Região\n",
      "neighbourhood                   Bairro\n",
      "latitude                        latitute\n",
      "longitude                       longitude\n",
      "room_type                       Categoria\n",
      "price                           Preço\n",
      "minimum_nights                  Mínimo de Locação\n",
      "number_of_reviews               Número de Locação/comentarios\n",
      "last_review                     Última Locação\n",
      "reviews_per_month               ??\n",
      "calculated_host_listings_count  Pode ser numero de imoveis do host\n",
      "availability_365                Disponibilidade\n",
      "------------------------------  ----------------------------------\n"
     ]
    }
   ],
   "source": [
    "table_coluns = [[ 'id', 'id do imóvel'],\n",
    "                ['name', 'Descrição do Imóvel' ],\n",
    "                ['host_id','Id do proprietário'],\n",
    "                ['host_name','Nome do Proprietário'],\n",
    "                ['neighbourhood_group','Região'],\n",
    "                ['neighbourhood','Bairro'],\n",
    "                ['latitude','latitute'],\n",
    "                ['longitude','longitude'],\n",
    "                ['room_type', \"Categoria\"],\n",
    "                ['price','Preço'],\n",
    "                ['minimum_nights','Mínimo de Locação'],\n",
    "                ['number_of_reviews','Número de Locação/comentarios'],\n",
    "                ['last_review','Última Locação'],\n",
    "                ['reviews_per_month','??'],\n",
    "                ['calculated_host_listings_count','Pode ser numero de imoveis do host '],\n",
    "                ['availability_365', 'Disponibilidade']\n",
    "            ]\n",
    "\n",
    "print(tabulate(table_coluns))\n",
    "            "
   ]
  },
  {
   "cell_type": "markdown",
   "metadata": {
    "ExecuteTime": {
     "end_time": "2022-07-20T20:22:51.956192Z",
     "start_time": "2022-07-20T20:22:51.886340Z"
    }
   },
   "source": [
    "## 1. Qual o `id` do imóvel com o aluguel (diária) mais caro da base de dados?"
   ]
  },
  {
   "cell_type": "code",
   "execution_count": 9,
   "metadata": {
    "ExecuteTime": {
     "end_time": "2022-07-29T12:32:46.936273Z",
     "start_time": "2022-07-29T12:32:46.851828Z"
    }
   },
   "outputs": [
    {
     "data": {
      "text/plain": [
       "7003697"
      ]
     },
     "execution_count": 9,
     "metadata": {},
     "output_type": "execute_result"
    }
   ],
   "source": [
    "df[['id','price']].sort_values('price', ascending=False).reset_index(drop=True).loc[0,'id']"
   ]
  },
  {
   "cell_type": "markdown",
   "metadata": {
    "ExecuteTime": {
     "end_time": "2022-07-21T14:49:16.875505Z",
     "start_time": "2022-07-21T14:49:16.863960Z"
    }
   },
   "source": [
    "## 2. Qual o `id` do imóvel com o aluguel (diária) mais barato da base de dados?"
   ]
  },
  {
   "cell_type": "code",
   "execution_count": 10,
   "metadata": {
    "ExecuteTime": {
     "end_time": "2022-07-29T12:32:47.026532Z",
     "start_time": "2022-07-29T12:32:46.943835Z"
    }
   },
   "outputs": [
    {
     "data": {
      "text/plain": [
       "20639914"
      ]
     },
     "execution_count": 10,
     "metadata": {},
     "output_type": "execute_result"
    }
   ],
   "source": [
    "df[['id','price']].sort_values('price', ascending=True).reset_index(drop=True).loc[0,'id']"
   ]
  },
  {
   "cell_type": "markdown",
   "metadata": {
    "ExecuteTime": {
     "end_time": "2022-07-21T14:51:26.098335Z",
     "start_time": "2022-07-21T14:51:26.074977Z"
    }
   },
   "source": [
    "## 3. Qual o `id` do imóvel que foi mais locado da base de dados?"
   ]
  },
  {
   "cell_type": "code",
   "execution_count": 11,
   "metadata": {
    "ExecuteTime": {
     "end_time": "2022-07-29T12:32:47.117268Z",
     "start_time": "2022-07-29T12:32:47.034343Z"
    }
   },
   "outputs": [
    {
     "data": {
      "text/plain": [
       "9145202"
      ]
     },
     "execution_count": 11,
     "metadata": {},
     "output_type": "execute_result"
    }
   ],
   "source": [
    "df[['id','number_of_reviews']].sort_values('number_of_reviews', ascending=False ).reset_index( drop=True ).loc[0,'id']"
   ]
  },
  {
   "cell_type": "markdown",
   "metadata": {
    "ExecuteTime": {
     "end_time": "2022-07-21T16:49:05.100273Z",
     "start_time": "2022-07-21T16:49:05.090456Z"
    }
   },
   "source": [
    "## 4. Qual o `id` do imóvel que ficou mais tempo com o anúncio disponível, em dias, para locação na base de dados?"
   ]
  },
  {
   "cell_type": "code",
   "execution_count": 12,
   "metadata": {
    "ExecuteTime": {
     "end_time": "2022-07-29T12:32:47.203674Z",
     "start_time": "2022-07-29T12:32:47.123386Z"
    }
   },
   "outputs": [
    {
     "data": {
      "text/plain": [
       "id                  2539\n",
       "availability_365     365\n",
       "Name: 0, dtype: int64"
      ]
     },
     "execution_count": 12,
     "metadata": {},
     "output_type": "execute_result"
    }
   ],
   "source": [
    "df[['id','availability_365']].sort_values('availability_365', ascending=False).reset_index(drop=True).loc[0,['id','availability_365']]"
   ]
  },
  {
   "cell_type": "markdown",
   "metadata": {},
   "source": [
    "## 5. Qual o `id` do imóvel que ficou menos tempo com o anúncio disponível, em dias, para locação na base de dados?"
   ]
  },
  {
   "cell_type": "code",
   "execution_count": 13,
   "metadata": {
    "ExecuteTime": {
     "end_time": "2022-07-29T12:32:47.292160Z",
     "start_time": "2022-07-29T12:32:47.211058Z"
    }
   },
   "outputs": [
    {
     "data": {
      "text/plain": [
       "id                  19677284\n",
       "availability_365           0\n",
       "Name: 0, dtype: int64"
      ]
     },
     "execution_count": 13,
     "metadata": {},
     "output_type": "execute_result"
    }
   ],
   "source": [
    "df[['id','availability_365']].sort_values('availability_365', ascending=True).reset_index(drop=True).loc[0,['id','availability_365']]"
   ]
  },
  {
   "cell_type": "markdown",
   "metadata": {},
   "source": [
    "## 6. O imóvel com o maior valor de aluguel (diária) da base de dados é o imóvel que possui mais avaliações na base de dados?"
   ]
  },
  {
   "cell_type": "code",
   "execution_count": 14,
   "metadata": {
    "ExecuteTime": {
     "end_time": "2022-07-29T12:32:47.408546Z",
     "start_time": "2022-07-29T12:32:47.294888Z"
    }
   },
   "outputs": [
    {
     "name": "stdout",
     "output_type": "stream",
     "text": [
      "O Imóvel com maior diária é  7003697\n",
      "O Imóvel com melhor avaliação é  9145202\n"
     ]
    }
   ],
   "source": [
    "df_price_max = df[['id','price']].sort_values('price',ascending=False).reset_index(drop=True).loc[0,'id']\n",
    "df_aval_max = df[['id','number_of_reviews']].sort_values('number_of_reviews',ascending=False).reset_index(drop=True).loc[0,'id']\n",
    "\n",
    "print(f'O Imóvel com maior diária é ', df_price_max )\n",
    "print(f'O Imóvel com melhor avaliação é ', df_aval_max )"
   ]
  },
  {
   "cell_type": "markdown",
   "metadata": {},
   "source": [
    "## 7. O imóvel que possui a menor quantidade mínima de diárias para locação é também o imóvel que possui o aluguel mais caro?"
   ]
  },
  {
   "cell_type": "code",
   "execution_count": 15,
   "metadata": {
    "ExecuteTime": {
     "end_time": "2022-07-29T12:32:47.543432Z",
     "start_time": "2022-07-29T12:32:47.412671Z"
    }
   },
   "outputs": [
    {
     "name": "stdout",
     "output_type": "stream",
     "text": [
      "O Imóvel com menor quantidade de diária é  2539\n",
      "O Imóvel com maior diária é  7003697\n"
     ]
    }
   ],
   "source": [
    "df_min_night = df[['id','minimum_nights']].sort_values('minimum_nights',ascending=True).reset_index(drop=True).loc[0,'id']\n",
    "df_price_max = df[['id','price']].sort_values('price',ascending=False).reset_index(drop=True).loc[0,'id']\n",
    "\n",
    "print(f'O Imóvel com menor quantidade de diária é ', df_min_night )\n",
    "print(f'O Imóvel com maior diária é ', df_price_max )"
   ]
  },
  {
   "cell_type": "markdown",
   "metadata": {
    "ExecuteTime": {
     "end_time": "2022-07-21T21:43:21.820333Z",
     "start_time": "2022-07-21T21:43:21.796455Z"
    }
   },
   "source": [
    "## 8. Qual é a média de diárias mínimas para locação de um imóvel?"
   ]
  },
  {
   "cell_type": "code",
   "execution_count": 16,
   "metadata": {
    "ExecuteTime": {
     "end_time": "2022-07-29T12:32:47.639861Z",
     "start_time": "2022-07-29T12:32:47.548849Z"
    }
   },
   "outputs": [
    {
     "data": {
      "text/plain": [
       "152.72"
      ]
     },
     "execution_count": 16,
     "metadata": {},
     "output_type": "execute_result"
    }
   ],
   "source": [
    "np.round(df['price'].mean(),2)"
   ]
  },
  {
   "cell_type": "markdown",
   "metadata": {},
   "source": [
    "## 9. Qual é o `id` do imóvel com a quantidade mínima de diárias para locação da base de dados?"
   ]
  },
  {
   "cell_type": "code",
   "execution_count": 17,
   "metadata": {
    "ExecuteTime": {
     "end_time": "2022-07-29T12:32:47.738828Z",
     "start_time": "2022-07-29T12:32:47.648349Z"
    }
   },
   "outputs": [
    {
     "data": {
      "text/html": [
       "<div>\n",
       "<style scoped>\n",
       "    .dataframe tbody tr th:only-of-type {\n",
       "        vertical-align: middle;\n",
       "    }\n",
       "\n",
       "    .dataframe tbody tr th {\n",
       "        vertical-align: top;\n",
       "    }\n",
       "\n",
       "    .dataframe thead th {\n",
       "        text-align: right;\n",
       "    }\n",
       "</style>\n",
       "<table border=\"1\" class=\"dataframe\">\n",
       "  <thead>\n",
       "    <tr style=\"text-align: right;\">\n",
       "      <th></th>\n",
       "      <th>id</th>\n",
       "      <th>minimum_nights</th>\n",
       "    </tr>\n",
       "  </thead>\n",
       "  <tbody>\n",
       "    <tr>\n",
       "      <th>0</th>\n",
       "      <td>2539</td>\n",
       "      <td>1</td>\n",
       "    </tr>\n",
       "    <tr>\n",
       "      <th>1</th>\n",
       "      <td>12990578</td>\n",
       "      <td>1</td>\n",
       "    </tr>\n",
       "    <tr>\n",
       "      <th>2</th>\n",
       "      <td>13001082</td>\n",
       "      <td>1</td>\n",
       "    </tr>\n",
       "    <tr>\n",
       "      <th>3</th>\n",
       "      <td>13006002</td>\n",
       "      <td>1</td>\n",
       "    </tr>\n",
       "    <tr>\n",
       "      <th>4</th>\n",
       "      <td>13007839</td>\n",
       "      <td>1</td>\n",
       "    </tr>\n",
       "    <tr>\n",
       "      <th>...</th>\n",
       "      <td>...</td>\n",
       "      <td>...</td>\n",
       "    </tr>\n",
       "    <tr>\n",
       "      <th>48890</th>\n",
       "      <td>10053943</td>\n",
       "      <td>999</td>\n",
       "    </tr>\n",
       "    <tr>\n",
       "      <th>48891</th>\n",
       "      <td>20990053</td>\n",
       "      <td>999</td>\n",
       "    </tr>\n",
       "    <tr>\n",
       "      <th>48892</th>\n",
       "      <td>30378211</td>\n",
       "      <td>999</td>\n",
       "    </tr>\n",
       "    <tr>\n",
       "      <th>48893</th>\n",
       "      <td>1615764</td>\n",
       "      <td>1000</td>\n",
       "    </tr>\n",
       "    <tr>\n",
       "      <th>48894</th>\n",
       "      <td>4204302</td>\n",
       "      <td>1250</td>\n",
       "    </tr>\n",
       "  </tbody>\n",
       "</table>\n",
       "<p>48895 rows × 2 columns</p>\n",
       "</div>"
      ],
      "text/plain": [
       "             id  minimum_nights\n",
       "0          2539               1\n",
       "1      12990578               1\n",
       "2      13001082               1\n",
       "3      13006002               1\n",
       "4      13007839               1\n",
       "...         ...             ...\n",
       "48890  10053943             999\n",
       "48891  20990053             999\n",
       "48892  30378211             999\n",
       "48893   1615764            1000\n",
       "48894   4204302            1250\n",
       "\n",
       "[48895 rows x 2 columns]"
      ]
     },
     "execution_count": 17,
     "metadata": {},
     "output_type": "execute_result"
    }
   ],
   "source": [
    "df[['id','minimum_nights']].sort_values('minimum_nights',ascending=True).reset_index(drop=True)\n"
   ]
  },
  {
   "cell_type": "markdown",
   "metadata": {},
   "source": [
    "## 10.Qual é o `id` do host que possui o imóvel mais alugado na base de dados?"
   ]
  },
  {
   "cell_type": "code",
   "execution_count": 18,
   "metadata": {
    "ExecuteTime": {
     "end_time": "2022-07-29T12:32:47.817151Z",
     "start_time": "2022-07-29T12:32:47.741062Z"
    }
   },
   "outputs": [
    {
     "data": {
      "text/html": [
       "<div>\n",
       "<style scoped>\n",
       "    .dataframe tbody tr th:only-of-type {\n",
       "        vertical-align: middle;\n",
       "    }\n",
       "\n",
       "    .dataframe tbody tr th {\n",
       "        vertical-align: top;\n",
       "    }\n",
       "\n",
       "    .dataframe thead th {\n",
       "        text-align: right;\n",
       "    }\n",
       "</style>\n",
       "<table border=\"1\" class=\"dataframe\">\n",
       "  <thead>\n",
       "    <tr style=\"text-align: right;\">\n",
       "      <th></th>\n",
       "      <th>host_id</th>\n",
       "      <th>number_of_reviews</th>\n",
       "    </tr>\n",
       "  </thead>\n",
       "  <tbody>\n",
       "    <tr>\n",
       "      <th>0</th>\n",
       "      <td>47621202</td>\n",
       "      <td>629</td>\n",
       "    </tr>\n",
       "    <tr>\n",
       "      <th>1</th>\n",
       "      <td>4734398</td>\n",
       "      <td>607</td>\n",
       "    </tr>\n",
       "    <tr>\n",
       "      <th>2</th>\n",
       "      <td>4734398</td>\n",
       "      <td>597</td>\n",
       "    </tr>\n",
       "    <tr>\n",
       "      <th>3</th>\n",
       "      <td>4734398</td>\n",
       "      <td>594</td>\n",
       "    </tr>\n",
       "    <tr>\n",
       "      <th>4</th>\n",
       "      <td>47621202</td>\n",
       "      <td>576</td>\n",
       "    </tr>\n",
       "    <tr>\n",
       "      <th>...</th>\n",
       "      <td>...</td>\n",
       "      <td>...</td>\n",
       "    </tr>\n",
       "    <tr>\n",
       "      <th>48890</th>\n",
       "      <td>14005489</td>\n",
       "      <td>0</td>\n",
       "    </tr>\n",
       "    <tr>\n",
       "      <th>48891</th>\n",
       "      <td>50255130</td>\n",
       "      <td>0</td>\n",
       "    </tr>\n",
       "    <tr>\n",
       "      <th>48892</th>\n",
       "      <td>50252837</td>\n",
       "      <td>0</td>\n",
       "    </tr>\n",
       "    <tr>\n",
       "      <th>48893</th>\n",
       "      <td>50054847</td>\n",
       "      <td>0</td>\n",
       "    </tr>\n",
       "    <tr>\n",
       "      <th>48894</th>\n",
       "      <td>68119814</td>\n",
       "      <td>0</td>\n",
       "    </tr>\n",
       "  </tbody>\n",
       "</table>\n",
       "<p>48895 rows × 2 columns</p>\n",
       "</div>"
      ],
      "text/plain": [
       "        host_id  number_of_reviews\n",
       "0      47621202                629\n",
       "1       4734398                607\n",
       "2       4734398                597\n",
       "3       4734398                594\n",
       "4      47621202                576\n",
       "...         ...                ...\n",
       "48890  14005489                  0\n",
       "48891  50255130                  0\n",
       "48892  50252837                  0\n",
       "48893  50054847                  0\n",
       "48894  68119814                  0\n",
       "\n",
       "[48895 rows x 2 columns]"
      ]
     },
     "execution_count": 18,
     "metadata": {},
     "output_type": "execute_result"
    }
   ],
   "source": [
    "df[['host_id','number_of_reviews']].sort_values('number_of_reviews', ascending=False).reset_index(drop=True)"
   ]
  },
  {
   "cell_type": "markdown",
   "metadata": {},
   "source": [
    "## 11. Qual é o `id` do host que possui o imóvel menos alugado na base de dado"
   ]
  },
  {
   "cell_type": "code",
   "execution_count": 19,
   "metadata": {
    "ExecuteTime": {
     "end_time": "2022-07-29T12:32:47.892864Z",
     "start_time": "2022-07-29T12:32:47.822131Z"
    }
   },
   "outputs": [
    {
     "data": {
      "text/html": [
       "<div>\n",
       "<style scoped>\n",
       "    .dataframe tbody tr th:only-of-type {\n",
       "        vertical-align: middle;\n",
       "    }\n",
       "\n",
       "    .dataframe tbody tr th {\n",
       "        vertical-align: top;\n",
       "    }\n",
       "\n",
       "    .dataframe thead th {\n",
       "        text-align: right;\n",
       "    }\n",
       "</style>\n",
       "<table border=\"1\" class=\"dataframe\">\n",
       "  <thead>\n",
       "    <tr style=\"text-align: right;\">\n",
       "      <th></th>\n",
       "      <th>host_id</th>\n",
       "      <th>number_of_reviews</th>\n",
       "    </tr>\n",
       "  </thead>\n",
       "  <tbody>\n",
       "    <tr>\n",
       "      <th>0</th>\n",
       "      <td>68119814</td>\n",
       "      <td>0</td>\n",
       "    </tr>\n",
       "    <tr>\n",
       "      <th>1</th>\n",
       "      <td>1819657</td>\n",
       "      <td>0</td>\n",
       "    </tr>\n",
       "    <tr>\n",
       "      <th>2</th>\n",
       "      <td>68585649</td>\n",
       "      <td>0</td>\n",
       "    </tr>\n",
       "    <tr>\n",
       "      <th>3</th>\n",
       "      <td>232169947</td>\n",
       "      <td>0</td>\n",
       "    </tr>\n",
       "    <tr>\n",
       "      <th>4</th>\n",
       "      <td>27894798</td>\n",
       "      <td>0</td>\n",
       "    </tr>\n",
       "    <tr>\n",
       "      <th>...</th>\n",
       "      <td>...</td>\n",
       "      <td>...</td>\n",
       "    </tr>\n",
       "    <tr>\n",
       "      <th>48890</th>\n",
       "      <td>47621202</td>\n",
       "      <td>576</td>\n",
       "    </tr>\n",
       "    <tr>\n",
       "      <th>48891</th>\n",
       "      <td>4734398</td>\n",
       "      <td>594</td>\n",
       "    </tr>\n",
       "    <tr>\n",
       "      <th>48892</th>\n",
       "      <td>4734398</td>\n",
       "      <td>597</td>\n",
       "    </tr>\n",
       "    <tr>\n",
       "      <th>48893</th>\n",
       "      <td>4734398</td>\n",
       "      <td>607</td>\n",
       "    </tr>\n",
       "    <tr>\n",
       "      <th>48894</th>\n",
       "      <td>47621202</td>\n",
       "      <td>629</td>\n",
       "    </tr>\n",
       "  </tbody>\n",
       "</table>\n",
       "<p>48895 rows × 2 columns</p>\n",
       "</div>"
      ],
      "text/plain": [
       "         host_id  number_of_reviews\n",
       "0       68119814                  0\n",
       "1        1819657                  0\n",
       "2       68585649                  0\n",
       "3      232169947                  0\n",
       "4       27894798                  0\n",
       "...          ...                ...\n",
       "48890   47621202                576\n",
       "48891    4734398                594\n",
       "48892    4734398                597\n",
       "48893    4734398                607\n",
       "48894   47621202                629\n",
       "\n",
       "[48895 rows x 2 columns]"
      ]
     },
     "execution_count": 19,
     "metadata": {},
     "output_type": "execute_result"
    }
   ],
   "source": [
    "df[['host_id','number_of_reviews']].sort_values('number_of_reviews', ascending=True).reset_index(drop=True)\n"
   ]
  },
  {
   "cell_type": "markdown",
   "metadata": {},
   "source": [
    "## 12.Qual é o `id` do host que possui o imóvel com mais avaliações na base de dados?"
   ]
  },
  {
   "cell_type": "code",
   "execution_count": 20,
   "metadata": {
    "ExecuteTime": {
     "end_time": "2022-07-29T12:32:47.975300Z",
     "start_time": "2022-07-29T12:32:47.901466Z"
    }
   },
   "outputs": [
    {
     "data": {
      "text/html": [
       "<div>\n",
       "<style scoped>\n",
       "    .dataframe tbody tr th:only-of-type {\n",
       "        vertical-align: middle;\n",
       "    }\n",
       "\n",
       "    .dataframe tbody tr th {\n",
       "        vertical-align: top;\n",
       "    }\n",
       "\n",
       "    .dataframe thead th {\n",
       "        text-align: right;\n",
       "    }\n",
       "</style>\n",
       "<table border=\"1\" class=\"dataframe\">\n",
       "  <thead>\n",
       "    <tr style=\"text-align: right;\">\n",
       "      <th></th>\n",
       "      <th>host_id</th>\n",
       "      <th>number_of_reviews</th>\n",
       "    </tr>\n",
       "  </thead>\n",
       "  <tbody>\n",
       "    <tr>\n",
       "      <th>0</th>\n",
       "      <td>47621202</td>\n",
       "      <td>629</td>\n",
       "    </tr>\n",
       "    <tr>\n",
       "      <th>1</th>\n",
       "      <td>4734398</td>\n",
       "      <td>607</td>\n",
       "    </tr>\n",
       "    <tr>\n",
       "      <th>2</th>\n",
       "      <td>4734398</td>\n",
       "      <td>597</td>\n",
       "    </tr>\n",
       "    <tr>\n",
       "      <th>3</th>\n",
       "      <td>4734398</td>\n",
       "      <td>594</td>\n",
       "    </tr>\n",
       "    <tr>\n",
       "      <th>4</th>\n",
       "      <td>47621202</td>\n",
       "      <td>576</td>\n",
       "    </tr>\n",
       "    <tr>\n",
       "      <th>...</th>\n",
       "      <td>...</td>\n",
       "      <td>...</td>\n",
       "    </tr>\n",
       "    <tr>\n",
       "      <th>48890</th>\n",
       "      <td>14005489</td>\n",
       "      <td>0</td>\n",
       "    </tr>\n",
       "    <tr>\n",
       "      <th>48891</th>\n",
       "      <td>50255130</td>\n",
       "      <td>0</td>\n",
       "    </tr>\n",
       "    <tr>\n",
       "      <th>48892</th>\n",
       "      <td>50252837</td>\n",
       "      <td>0</td>\n",
       "    </tr>\n",
       "    <tr>\n",
       "      <th>48893</th>\n",
       "      <td>50054847</td>\n",
       "      <td>0</td>\n",
       "    </tr>\n",
       "    <tr>\n",
       "      <th>48894</th>\n",
       "      <td>68119814</td>\n",
       "      <td>0</td>\n",
       "    </tr>\n",
       "  </tbody>\n",
       "</table>\n",
       "<p>48895 rows × 2 columns</p>\n",
       "</div>"
      ],
      "text/plain": [
       "        host_id  number_of_reviews\n",
       "0      47621202                629\n",
       "1       4734398                607\n",
       "2       4734398                597\n",
       "3       4734398                594\n",
       "4      47621202                576\n",
       "...         ...                ...\n",
       "48890  14005489                  0\n",
       "48891  50255130                  0\n",
       "48892  50252837                  0\n",
       "48893  50054847                  0\n",
       "48894  68119814                  0\n",
       "\n",
       "[48895 rows x 2 columns]"
      ]
     },
     "execution_count": 20,
     "metadata": {},
     "output_type": "execute_result"
    }
   ],
   "source": [
    "df[['host_id','number_of_reviews']].sort_values('number_of_reviews',ascending=False).reset_index(drop=True)\n"
   ]
  },
  {
   "cell_type": "markdown",
   "metadata": {},
   "source": [
    "## 13.Qual é o `id` do host que possui a maior quantidade de imóveis cadastrados na base de dados?"
   ]
  },
  {
   "cell_type": "code",
   "execution_count": 21,
   "metadata": {
    "ExecuteTime": {
     "end_time": "2022-07-29T12:32:48.055882Z",
     "start_time": "2022-07-29T12:32:47.981336Z"
    }
   },
   "outputs": [
    {
     "data": {
      "text/html": [
       "<div>\n",
       "<style scoped>\n",
       "    .dataframe tbody tr th:only-of-type {\n",
       "        vertical-align: middle;\n",
       "    }\n",
       "\n",
       "    .dataframe tbody tr th {\n",
       "        vertical-align: top;\n",
       "    }\n",
       "\n",
       "    .dataframe thead th {\n",
       "        text-align: right;\n",
       "    }\n",
       "</style>\n",
       "<table border=\"1\" class=\"dataframe\">\n",
       "  <thead>\n",
       "    <tr style=\"text-align: right;\">\n",
       "      <th></th>\n",
       "      <th>host_id</th>\n",
       "      <th>id</th>\n",
       "    </tr>\n",
       "  </thead>\n",
       "  <tbody>\n",
       "    <tr>\n",
       "      <th>0</th>\n",
       "      <td>219517861</td>\n",
       "      <td>327</td>\n",
       "    </tr>\n",
       "    <tr>\n",
       "      <th>1</th>\n",
       "      <td>107434423</td>\n",
       "      <td>232</td>\n",
       "    </tr>\n",
       "    <tr>\n",
       "      <th>2</th>\n",
       "      <td>30283594</td>\n",
       "      <td>121</td>\n",
       "    </tr>\n",
       "    <tr>\n",
       "      <th>3</th>\n",
       "      <td>137358866</td>\n",
       "      <td>103</td>\n",
       "    </tr>\n",
       "    <tr>\n",
       "      <th>4</th>\n",
       "      <td>16098958</td>\n",
       "      <td>96</td>\n",
       "    </tr>\n",
       "    <tr>\n",
       "      <th>...</th>\n",
       "      <td>...</td>\n",
       "      <td>...</td>\n",
       "    </tr>\n",
       "    <tr>\n",
       "      <th>37452</th>\n",
       "      <td>13540183</td>\n",
       "      <td>1</td>\n",
       "    </tr>\n",
       "    <tr>\n",
       "      <th>37453</th>\n",
       "      <td>13538150</td>\n",
       "      <td>1</td>\n",
       "    </tr>\n",
       "    <tr>\n",
       "      <th>37454</th>\n",
       "      <td>13535952</td>\n",
       "      <td>1</td>\n",
       "    </tr>\n",
       "    <tr>\n",
       "      <th>37455</th>\n",
       "      <td>13533446</td>\n",
       "      <td>1</td>\n",
       "    </tr>\n",
       "    <tr>\n",
       "      <th>37456</th>\n",
       "      <td>274321313</td>\n",
       "      <td>1</td>\n",
       "    </tr>\n",
       "  </tbody>\n",
       "</table>\n",
       "<p>37457 rows × 2 columns</p>\n",
       "</div>"
      ],
      "text/plain": [
       "         host_id   id\n",
       "0      219517861  327\n",
       "1      107434423  232\n",
       "2       30283594  121\n",
       "3      137358866  103\n",
       "4       16098958   96\n",
       "...          ...  ...\n",
       "37452   13540183    1\n",
       "37453   13538150    1\n",
       "37454   13535952    1\n",
       "37455   13533446    1\n",
       "37456  274321313    1\n",
       "\n",
       "[37457 rows x 2 columns]"
      ]
     },
     "execution_count": 21,
     "metadata": {},
     "output_type": "execute_result"
    }
   ],
   "source": [
    "df[['id','host_id']].groupby('host_id').count().sort_values('id', ascending=False ).reset_index()"
   ]
  },
  {
   "cell_type": "markdown",
   "metadata": {},
   "source": [
    "## 14.Qual o `id` do host que possui o imóvel com a última avaliação feita na base de dados?"
   ]
  },
  {
   "cell_type": "code",
   "execution_count": 22,
   "metadata": {
    "ExecuteTime": {
     "end_time": "2022-07-29T12:32:48.146710Z",
     "start_time": "2022-07-29T12:32:48.061921Z"
    }
   },
   "outputs": [
    {
     "data": {
      "text/html": [
       "<div>\n",
       "<style scoped>\n",
       "    .dataframe tbody tr th:only-of-type {\n",
       "        vertical-align: middle;\n",
       "    }\n",
       "\n",
       "    .dataframe tbody tr th {\n",
       "        vertical-align: top;\n",
       "    }\n",
       "\n",
       "    .dataframe thead th {\n",
       "        text-align: right;\n",
       "    }\n",
       "</style>\n",
       "<table border=\"1\" class=\"dataframe\">\n",
       "  <thead>\n",
       "    <tr style=\"text-align: right;\">\n",
       "      <th></th>\n",
       "      <th>host_id</th>\n",
       "      <th>last_review</th>\n",
       "    </tr>\n",
       "  </thead>\n",
       "  <tbody>\n",
       "    <tr>\n",
       "      <th>0</th>\n",
       "      <td>74162901</td>\n",
       "      <td>2019-07-08</td>\n",
       "    </tr>\n",
       "    <tr>\n",
       "      <th>1</th>\n",
       "      <td>42540127</td>\n",
       "      <td>2019-07-08</td>\n",
       "    </tr>\n",
       "    <tr>\n",
       "      <th>2</th>\n",
       "      <td>258536261</td>\n",
       "      <td>2019-07-08</td>\n",
       "    </tr>\n",
       "    <tr>\n",
       "      <th>3</th>\n",
       "      <td>59642348</td>\n",
       "      <td>2019-07-08</td>\n",
       "    </tr>\n",
       "    <tr>\n",
       "      <th>4</th>\n",
       "      <td>85773188</td>\n",
       "      <td>2019-07-08</td>\n",
       "    </tr>\n",
       "    <tr>\n",
       "      <th>...</th>\n",
       "      <td>...</td>\n",
       "      <td>...</td>\n",
       "    </tr>\n",
       "    <tr>\n",
       "      <th>48890</th>\n",
       "      <td>8232441</td>\n",
       "      <td>NaT</td>\n",
       "    </tr>\n",
       "    <tr>\n",
       "      <th>48891</th>\n",
       "      <td>6570630</td>\n",
       "      <td>NaT</td>\n",
       "    </tr>\n",
       "    <tr>\n",
       "      <th>48892</th>\n",
       "      <td>23492952</td>\n",
       "      <td>NaT</td>\n",
       "    </tr>\n",
       "    <tr>\n",
       "      <th>48893</th>\n",
       "      <td>30985759</td>\n",
       "      <td>NaT</td>\n",
       "    </tr>\n",
       "    <tr>\n",
       "      <th>48894</th>\n",
       "      <td>68119814</td>\n",
       "      <td>NaT</td>\n",
       "    </tr>\n",
       "  </tbody>\n",
       "</table>\n",
       "<p>48895 rows × 2 columns</p>\n",
       "</div>"
      ],
      "text/plain": [
       "         host_id last_review\n",
       "0       74162901  2019-07-08\n",
       "1       42540127  2019-07-08\n",
       "2      258536261  2019-07-08\n",
       "3       59642348  2019-07-08\n",
       "4       85773188  2019-07-08\n",
       "...          ...         ...\n",
       "48890    8232441         NaT\n",
       "48891    6570630         NaT\n",
       "48892   23492952         NaT\n",
       "48893   30985759         NaT\n",
       "48894   68119814         NaT\n",
       "\n",
       "[48895 rows x 2 columns]"
      ]
     },
     "execution_count": 22,
     "metadata": {},
     "output_type": "execute_result"
    }
   ],
   "source": [
    "df[['host_id','last_review']].sort_values('last_review', ascending=False).reset_index(drop=True)\n"
   ]
  },
  {
   "cell_type": "markdown",
   "metadata": {},
   "source": [
    "## 15.Qual o `id` do host que possui mais imóveis ativos dentro da base de dados?"
   ]
  },
  {
   "cell_type": "code",
   "execution_count": 23,
   "metadata": {
    "ExecuteTime": {
     "end_time": "2022-07-29T12:32:48.346592Z",
     "start_time": "2022-07-29T12:32:48.149224Z"
    }
   },
   "outputs": [
    {
     "data": {
      "text/html": [
       "<div>\n",
       "<style scoped>\n",
       "    .dataframe tbody tr th:only-of-type {\n",
       "        vertical-align: middle;\n",
       "    }\n",
       "\n",
       "    .dataframe tbody tr th {\n",
       "        vertical-align: top;\n",
       "    }\n",
       "\n",
       "    .dataframe thead th {\n",
       "        text-align: right;\n",
       "    }\n",
       "</style>\n",
       "<table border=\"1\" class=\"dataframe\">\n",
       "  <thead>\n",
       "    <tr style=\"text-align: right;\">\n",
       "      <th></th>\n",
       "      <th>host_id</th>\n",
       "      <th>number_of_reviews</th>\n",
       "    </tr>\n",
       "  </thead>\n",
       "  <tbody>\n",
       "    <tr>\n",
       "      <th>0</th>\n",
       "      <td>37312959</td>\n",
       "      <td>2273</td>\n",
       "    </tr>\n",
       "    <tr>\n",
       "      <th>1</th>\n",
       "      <td>344035</td>\n",
       "      <td>2205</td>\n",
       "    </tr>\n",
       "    <tr>\n",
       "      <th>2</th>\n",
       "      <td>26432133</td>\n",
       "      <td>2017</td>\n",
       "    </tr>\n",
       "    <tr>\n",
       "      <th>3</th>\n",
       "      <td>35524316</td>\n",
       "      <td>1971</td>\n",
       "    </tr>\n",
       "    <tr>\n",
       "      <th>4</th>\n",
       "      <td>40176101</td>\n",
       "      <td>1818</td>\n",
       "    </tr>\n",
       "    <tr>\n",
       "      <th>...</th>\n",
       "      <td>...</td>\n",
       "      <td>...</td>\n",
       "    </tr>\n",
       "    <tr>\n",
       "      <th>30246</th>\n",
       "      <td>25376759</td>\n",
       "      <td>1</td>\n",
       "    </tr>\n",
       "    <tr>\n",
       "      <th>30247</th>\n",
       "      <td>25394253</td>\n",
       "      <td>1</td>\n",
       "    </tr>\n",
       "    <tr>\n",
       "      <th>30248</th>\n",
       "      <td>170413197</td>\n",
       "      <td>1</td>\n",
       "    </tr>\n",
       "    <tr>\n",
       "      <th>30249</th>\n",
       "      <td>25475028</td>\n",
       "      <td>1</td>\n",
       "    </tr>\n",
       "    <tr>\n",
       "      <th>30250</th>\n",
       "      <td>2438</td>\n",
       "      <td>1</td>\n",
       "    </tr>\n",
       "  </tbody>\n",
       "</table>\n",
       "<p>30251 rows × 2 columns</p>\n",
       "</div>"
      ],
      "text/plain": [
       "         host_id  number_of_reviews\n",
       "0       37312959               2273\n",
       "1         344035               2205\n",
       "2       26432133               2017\n",
       "3       35524316               1971\n",
       "4       40176101               1818\n",
       "...          ...                ...\n",
       "30246   25376759                  1\n",
       "30247   25394253                  1\n",
       "30248  170413197                  1\n",
       "30249   25475028                  1\n",
       "30250       2438                  1\n",
       "\n",
       "[30251 rows x 2 columns]"
      ]
     },
     "execution_count": 23,
     "metadata": {},
     "output_type": "execute_result"
    }
   ],
   "source": [
    "df_ativos = df[df['number_of_reviews'] > 0 ]\n",
    "\n",
    "df_ativos[['host_id','number_of_reviews']].groupby('host_id').sum().sort_values('number_of_reviews', ascending=False ).reset_index()"
   ]
  },
  {
   "cell_type": "markdown",
   "metadata": {},
   "source": [
    "## 16.O host que possui mais imóveis é o host que também possui mais avaliações?"
   ]
  },
  {
   "cell_type": "code",
   "execution_count": 24,
   "metadata": {
    "ExecuteTime": {
     "end_time": "2022-07-29T12:32:48.531072Z",
     "start_time": "2022-07-29T12:32:48.349265Z"
    }
   },
   "outputs": [
    {
     "name": "stdout",
     "output_type": "stream",
     "text": [
      "219517861\n",
      "37312959\n"
     ]
    }
   ],
   "source": [
    "max_host_imovel = df[['host_id','id']].groupby('host_id').sum().sort_values('id',ascending=False).reset_index().loc[0,'host_id']\n",
    "max_host_aval = df[['host_id','number_of_reviews']].groupby('host_id').sum().sort_values('number_of_reviews',ascending=False).reset_index().loc[0,'host_id']\n",
    "\n",
    "print( max_host_imovel)\n",
    "print( max_host_aval )"
   ]
  },
  {
   "cell_type": "markdown",
   "metadata": {},
   "source": [
    "## 17.Qual é a categoria que mais possui imóveis dentro da base de dados?"
   ]
  },
  {
   "cell_type": "code",
   "execution_count": 25,
   "metadata": {
    "ExecuteTime": {
     "end_time": "2022-07-29T12:32:48.612602Z",
     "start_time": "2022-07-29T12:32:48.533511Z"
    }
   },
   "outputs": [
    {
     "data": {
      "text/html": [
       "<div>\n",
       "<style scoped>\n",
       "    .dataframe tbody tr th:only-of-type {\n",
       "        vertical-align: middle;\n",
       "    }\n",
       "\n",
       "    .dataframe tbody tr th {\n",
       "        vertical-align: top;\n",
       "    }\n",
       "\n",
       "    .dataframe thead th {\n",
       "        text-align: right;\n",
       "    }\n",
       "</style>\n",
       "<table border=\"1\" class=\"dataframe\">\n",
       "  <thead>\n",
       "    <tr style=\"text-align: right;\">\n",
       "      <th></th>\n",
       "      <th>room_type</th>\n",
       "      <th>id</th>\n",
       "    </tr>\n",
       "  </thead>\n",
       "  <tbody>\n",
       "    <tr>\n",
       "      <th>0</th>\n",
       "      <td>Entire home/apt</td>\n",
       "      <td>25409</td>\n",
       "    </tr>\n",
       "    <tr>\n",
       "      <th>1</th>\n",
       "      <td>Private room</td>\n",
       "      <td>22326</td>\n",
       "    </tr>\n",
       "    <tr>\n",
       "      <th>2</th>\n",
       "      <td>Shared room</td>\n",
       "      <td>1160</td>\n",
       "    </tr>\n",
       "  </tbody>\n",
       "</table>\n",
       "</div>"
      ],
      "text/plain": [
       "         room_type     id\n",
       "0  Entire home/apt  25409\n",
       "1     Private room  22326\n",
       "2      Shared room   1160"
      ]
     },
     "execution_count": 25,
     "metadata": {},
     "output_type": "execute_result"
    }
   ],
   "source": [
    "df[['id','room_type',]].groupby('room_type').count().sort_values('id',ascending= False).reset_index()"
   ]
  },
  {
   "cell_type": "markdown",
   "metadata": {},
   "source": [
    "## 18.Qual é a categoria que menos possui imóveis dentro da base de dados?"
   ]
  },
  {
   "cell_type": "code",
   "execution_count": 26,
   "metadata": {
    "ExecuteTime": {
     "end_time": "2022-07-29T12:32:48.706650Z",
     "start_time": "2022-07-29T12:32:48.618029Z"
    }
   },
   "outputs": [
    {
     "data": {
      "text/html": [
       "<div>\n",
       "<style scoped>\n",
       "    .dataframe tbody tr th:only-of-type {\n",
       "        vertical-align: middle;\n",
       "    }\n",
       "\n",
       "    .dataframe tbody tr th {\n",
       "        vertical-align: top;\n",
       "    }\n",
       "\n",
       "    .dataframe thead th {\n",
       "        text-align: right;\n",
       "    }\n",
       "</style>\n",
       "<table border=\"1\" class=\"dataframe\">\n",
       "  <thead>\n",
       "    <tr style=\"text-align: right;\">\n",
       "      <th></th>\n",
       "      <th>room_type</th>\n",
       "      <th>id</th>\n",
       "    </tr>\n",
       "  </thead>\n",
       "  <tbody>\n",
       "    <tr>\n",
       "      <th>0</th>\n",
       "      <td>Shared room</td>\n",
       "      <td>1160</td>\n",
       "    </tr>\n",
       "    <tr>\n",
       "      <th>1</th>\n",
       "      <td>Private room</td>\n",
       "      <td>22326</td>\n",
       "    </tr>\n",
       "    <tr>\n",
       "      <th>2</th>\n",
       "      <td>Entire home/apt</td>\n",
       "      <td>25409</td>\n",
       "    </tr>\n",
       "  </tbody>\n",
       "</table>\n",
       "</div>"
      ],
      "text/plain": [
       "         room_type     id\n",
       "0      Shared room   1160\n",
       "1     Private room  22326\n",
       "2  Entire home/apt  25409"
      ]
     },
     "execution_count": 26,
     "metadata": {},
     "output_type": "execute_result"
    }
   ],
   "source": [
    "df[['id','room_type',]].groupby('room_type').count().sort_values('id',ascending= True).reset_index()"
   ]
  },
  {
   "cell_type": "markdown",
   "metadata": {},
   "source": [
    "## 19.A região de Manhattan é a região que mais possui imóveis ativos para locação, da categoria `Private room`?"
   ]
  },
  {
   "cell_type": "code",
   "execution_count": 27,
   "metadata": {
    "ExecuteTime": {
     "end_time": "2022-07-29T12:32:50.185045Z",
     "start_time": "2022-07-29T12:32:48.709335Z"
    }
   },
   "outputs": [
    {
     "data": {
      "text/html": [
       "<div>\n",
       "<style scoped>\n",
       "    .dataframe tbody tr th:only-of-type {\n",
       "        vertical-align: middle;\n",
       "    }\n",
       "\n",
       "    .dataframe tbody tr th {\n",
       "        vertical-align: top;\n",
       "    }\n",
       "\n",
       "    .dataframe thead th {\n",
       "        text-align: right;\n",
       "    }\n",
       "</style>\n",
       "<table border=\"1\" class=\"dataframe\">\n",
       "  <thead>\n",
       "    <tr style=\"text-align: right;\">\n",
       "      <th></th>\n",
       "      <th>neighbourhood_group</th>\n",
       "      <th>number_of_reviews</th>\n",
       "    </tr>\n",
       "  </thead>\n",
       "  <tbody>\n",
       "    <tr>\n",
       "      <th>0</th>\n",
       "      <td>Brooklyn</td>\n",
       "      <td>486574</td>\n",
       "    </tr>\n",
       "    <tr>\n",
       "      <th>1</th>\n",
       "      <td>Manhattan</td>\n",
       "      <td>454569</td>\n",
       "    </tr>\n",
       "    <tr>\n",
       "      <th>2</th>\n",
       "      <td>Queens</td>\n",
       "      <td>156950</td>\n",
       "    </tr>\n",
       "    <tr>\n",
       "      <th>3</th>\n",
       "      <td>Bronx</td>\n",
       "      <td>28371</td>\n",
       "    </tr>\n",
       "    <tr>\n",
       "      <th>4</th>\n",
       "      <td>Staten Island</td>\n",
       "      <td>11541</td>\n",
       "    </tr>\n",
       "  </tbody>\n",
       "</table>\n",
       "</div>"
      ],
      "text/plain": [
       "  neighbourhood_group  number_of_reviews\n",
       "0            Brooklyn             486574\n",
       "1           Manhattan             454569\n",
       "2              Queens             156950\n",
       "3               Bronx              28371\n",
       "4       Staten Island              11541"
      ]
     },
     "execution_count": 27,
     "metadata": {},
     "output_type": "execute_result"
    }
   ],
   "source": [
    "df_ativos = df[df['number_of_reviews'] > 0 ]\n",
    "df_ativos[['neighbourhood_group','number_of_reviews']].groupby('neighbourhood_group').sum().sort_values('number_of_reviews', ascending=False).reset_index()\n"
   ]
  },
  {
   "cell_type": "markdown",
   "metadata": {},
   "source": [
    "## 20.Qual a categoria de imóvel que possui a maior média de tempo de disponibilidade para serem locados da região do `Bronx`? Considere somente imóveis ativos"
   ]
  },
  {
   "cell_type": "code",
   "execution_count": 28,
   "metadata": {
    "ExecuteTime": {
     "end_time": "2022-07-29T12:32:50.315439Z",
     "start_time": "2022-07-29T12:32:50.188063Z"
    }
   },
   "outputs": [
    {
     "data": {
      "text/html": [
       "<div>\n",
       "<style scoped>\n",
       "    .dataframe tbody tr th:only-of-type {\n",
       "        vertical-align: middle;\n",
       "    }\n",
       "\n",
       "    .dataframe tbody tr th {\n",
       "        vertical-align: top;\n",
       "    }\n",
       "\n",
       "    .dataframe thead th {\n",
       "        text-align: right;\n",
       "    }\n",
       "</style>\n",
       "<table border=\"1\" class=\"dataframe\">\n",
       "  <thead>\n",
       "    <tr style=\"text-align: right;\">\n",
       "      <th></th>\n",
       "      <th>minimum_nights</th>\n",
       "    </tr>\n",
       "    <tr>\n",
       "      <th>room_type</th>\n",
       "      <th></th>\n",
       "    </tr>\n",
       "  </thead>\n",
       "  <tbody>\n",
       "    <tr>\n",
       "      <th>Entire home/apt</th>\n",
       "      <td>5.638</td>\n",
       "    </tr>\n",
       "    <tr>\n",
       "      <th>Private room</th>\n",
       "      <td>3.078</td>\n",
       "    </tr>\n",
       "    <tr>\n",
       "      <th>Shared room</th>\n",
       "      <td>2.093</td>\n",
       "    </tr>\n",
       "  </tbody>\n",
       "</table>\n",
       "</div>"
      ],
      "text/plain": [
       "                 minimum_nights\n",
       "room_type                      \n",
       "Entire home/apt           5.638\n",
       "Private room              3.078\n",
       "Shared room               2.093"
      ]
     },
     "execution_count": 28,
     "metadata": {},
     "output_type": "execute_result"
    }
   ],
   "source": [
    "df_bronx = df.loc[ ( df['number_of_reviews'] > 0 ) & (df['neighbourhood_group'] == 'Bronx')] \n",
    "df_bronx[['room_type','minimum_nights']].groupby('room_type').mean()"
   ]
  },
  {
   "cell_type": "markdown",
   "metadata": {},
   "source": [
    "## 21.Qual a categoria de imóvel ativo que possui o maior valor de aluguel (diária) na região de `Manhattan`?"
   ]
  },
  {
   "cell_type": "code",
   "execution_count": 29,
   "metadata": {
    "ExecuteTime": {
     "end_time": "2022-07-29T12:32:50.409023Z",
     "start_time": "2022-07-29T12:32:50.318374Z"
    }
   },
   "outputs": [
    {
     "data": {
      "text/html": [
       "<div>\n",
       "<style scoped>\n",
       "    .dataframe tbody tr th:only-of-type {\n",
       "        vertical-align: middle;\n",
       "    }\n",
       "\n",
       "    .dataframe tbody tr th {\n",
       "        vertical-align: top;\n",
       "    }\n",
       "\n",
       "    .dataframe thead th {\n",
       "        text-align: right;\n",
       "    }\n",
       "</style>\n",
       "<table border=\"1\" class=\"dataframe\">\n",
       "  <thead>\n",
       "    <tr style=\"text-align: right;\">\n",
       "      <th></th>\n",
       "      <th>room_type</th>\n",
       "      <th>price</th>\n",
       "    </tr>\n",
       "  </thead>\n",
       "  <tbody>\n",
       "    <tr>\n",
       "      <th>0</th>\n",
       "      <td>Entire home/apt</td>\n",
       "      <td>2294312</td>\n",
       "    </tr>\n",
       "    <tr>\n",
       "      <th>1</th>\n",
       "      <td>Private room</td>\n",
       "      <td>672560</td>\n",
       "    </tr>\n",
       "    <tr>\n",
       "      <th>2</th>\n",
       "      <td>Shared room</td>\n",
       "      <td>27761</td>\n",
       "    </tr>\n",
       "  </tbody>\n",
       "</table>\n",
       "</div>"
      ],
      "text/plain": [
       "         room_type    price\n",
       "0  Entire home/apt  2294312\n",
       "1     Private room   672560\n",
       "2      Shared room    27761"
      ]
     },
     "execution_count": 29,
     "metadata": {},
     "output_type": "execute_result"
    }
   ],
   "source": [
    "df_manhattan = df.loc[  ( df['number_of_reviews'] > 0 ) & (df['neighbourhood_group'] == 'Manhattan') ]\n",
    "df_manhattan[['room_type','price']].groupby('room_type').sum().reset_index()"
   ]
  },
  {
   "cell_type": "markdown",
   "metadata": {},
   "source": [
    "## 22.A categoria de imóvel `Private Room` é a categoria que fica mais tempo disponível para locação?"
   ]
  },
  {
   "cell_type": "code",
   "execution_count": 30,
   "metadata": {
    "ExecuteTime": {
     "end_time": "2022-07-29T12:32:50.508510Z",
     "start_time": "2022-07-29T12:32:50.411811Z"
    }
   },
   "outputs": [
    {
     "data": {
      "text/html": [
       "<div>\n",
       "<style scoped>\n",
       "    .dataframe tbody tr th:only-of-type {\n",
       "        vertical-align: middle;\n",
       "    }\n",
       "\n",
       "    .dataframe tbody tr th {\n",
       "        vertical-align: top;\n",
       "    }\n",
       "\n",
       "    .dataframe thead th {\n",
       "        text-align: right;\n",
       "    }\n",
       "</style>\n",
       "<table border=\"1\" class=\"dataframe\">\n",
       "  <thead>\n",
       "    <tr style=\"text-align: right;\">\n",
       "      <th></th>\n",
       "      <th>room_type</th>\n",
       "      <th>availability_365</th>\n",
       "    </tr>\n",
       "  </thead>\n",
       "  <tbody>\n",
       "    <tr>\n",
       "      <th>0</th>\n",
       "      <td>Entire home/apt</td>\n",
       "      <td>2843783</td>\n",
       "    </tr>\n",
       "    <tr>\n",
       "      <th>1</th>\n",
       "      <td>Private room</td>\n",
       "      <td>2482739</td>\n",
       "    </tr>\n",
       "    <tr>\n",
       "      <th>2</th>\n",
       "      <td>Shared room</td>\n",
       "      <td>187921</td>\n",
       "    </tr>\n",
       "  </tbody>\n",
       "</table>\n",
       "</div>"
      ],
      "text/plain": [
       "         room_type  availability_365\n",
       "0  Entire home/apt           2843783\n",
       "1     Private room           2482739\n",
       "2      Shared room            187921"
      ]
     },
     "execution_count": 30,
     "metadata": {},
     "output_type": "execute_result"
    }
   ],
   "source": [
    "df[['room_type','availability_365']].groupby('room_type').sum().reset_index()"
   ]
  },
  {
   "cell_type": "markdown",
   "metadata": {},
   "source": [
    "## 23.Qual a categoria de imóvel que fica mais tempo disponível, na média, para locação?"
   ]
  },
  {
   "cell_type": "code",
   "execution_count": 31,
   "metadata": {
    "ExecuteTime": {
     "end_time": "2022-07-29T12:32:50.649557Z",
     "start_time": "2022-07-29T12:32:50.520304Z"
    }
   },
   "outputs": [
    {
     "data": {
      "text/plain": [
       "'Private room'"
      ]
     },
     "execution_count": 31,
     "metadata": {},
     "output_type": "execute_result"
    }
   ],
   "source": [
    "df[['room_type','availability_365']].groupby('room_type').mean().sort_values('availability_365',ascending=True).reset_index().loc[0,'room_type']"
   ]
  },
  {
   "cell_type": "markdown",
   "metadata": {},
   "source": [
    "## 24. A categoria de imóvel que fica menos tempo disponível, na média, para locação é a categoria que possui, em média, o menor aluguel (diária)?"
   ]
  },
  {
   "cell_type": "code",
   "execution_count": 32,
   "metadata": {
    "ExecuteTime": {
     "end_time": "2022-07-29T12:32:50.735168Z",
     "start_time": "2022-07-29T12:32:50.656328Z"
    }
   },
   "outputs": [
    {
     "data": {
      "text/html": [
       "<div>\n",
       "<style scoped>\n",
       "    .dataframe tbody tr th:only-of-type {\n",
       "        vertical-align: middle;\n",
       "    }\n",
       "\n",
       "    .dataframe tbody tr th {\n",
       "        vertical-align: top;\n",
       "    }\n",
       "\n",
       "    .dataframe thead th {\n",
       "        text-align: right;\n",
       "    }\n",
       "</style>\n",
       "<table border=\"1\" class=\"dataframe\">\n",
       "  <thead>\n",
       "    <tr style=\"text-align: right;\">\n",
       "      <th></th>\n",
       "      <th>room_type</th>\n",
       "      <th>availability_365</th>\n",
       "      <th>price</th>\n",
       "    </tr>\n",
       "  </thead>\n",
       "  <tbody>\n",
       "    <tr>\n",
       "      <th>0</th>\n",
       "      <td>Entire home/apt</td>\n",
       "      <td>111.920</td>\n",
       "      <td>211.794</td>\n",
       "    </tr>\n",
       "    <tr>\n",
       "      <th>1</th>\n",
       "      <td>Private room</td>\n",
       "      <td>111.204</td>\n",
       "      <td>89.781</td>\n",
       "    </tr>\n",
       "    <tr>\n",
       "      <th>2</th>\n",
       "      <td>Shared room</td>\n",
       "      <td>162.001</td>\n",
       "      <td>70.128</td>\n",
       "    </tr>\n",
       "  </tbody>\n",
       "</table>\n",
       "</div>"
      ],
      "text/plain": [
       "         room_type  availability_365   price\n",
       "0  Entire home/apt           111.920 211.794\n",
       "1     Private room           111.204  89.781\n",
       "2      Shared room           162.001  70.128"
      ]
     },
     "execution_count": 32,
     "metadata": {},
     "output_type": "execute_result"
    }
   ],
   "source": [
    "df[['room_type','availability_365','price']].groupby('room_type').mean().reset_index()"
   ]
  },
  {
   "cell_type": "markdown",
   "metadata": {},
   "source": [
    "## 25. A categoria de imóvel `Entire home/apt` é a categoria que possui, na média, o maior valor de aluguel?"
   ]
  },
  {
   "cell_type": "code",
   "execution_count": 33,
   "metadata": {
    "ExecuteTime": {
     "end_time": "2022-07-29T12:32:50.849738Z",
     "start_time": "2022-07-29T12:32:50.740263Z"
    }
   },
   "outputs": [
    {
     "data": {
      "text/html": [
       "<div>\n",
       "<style scoped>\n",
       "    .dataframe tbody tr th:only-of-type {\n",
       "        vertical-align: middle;\n",
       "    }\n",
       "\n",
       "    .dataframe tbody tr th {\n",
       "        vertical-align: top;\n",
       "    }\n",
       "\n",
       "    .dataframe thead th {\n",
       "        text-align: right;\n",
       "    }\n",
       "</style>\n",
       "<table border=\"1\" class=\"dataframe\">\n",
       "  <thead>\n",
       "    <tr style=\"text-align: right;\">\n",
       "      <th></th>\n",
       "      <th>room_type</th>\n",
       "      <th>availability_365</th>\n",
       "      <th>price</th>\n",
       "    </tr>\n",
       "  </thead>\n",
       "  <tbody>\n",
       "    <tr>\n",
       "      <th>0</th>\n",
       "      <td>Entire home/apt</td>\n",
       "      <td>111.920</td>\n",
       "      <td>211.794</td>\n",
       "    </tr>\n",
       "    <tr>\n",
       "      <th>1</th>\n",
       "      <td>Private room</td>\n",
       "      <td>111.204</td>\n",
       "      <td>89.781</td>\n",
       "    </tr>\n",
       "    <tr>\n",
       "      <th>2</th>\n",
       "      <td>Shared room</td>\n",
       "      <td>162.001</td>\n",
       "      <td>70.128</td>\n",
       "    </tr>\n",
       "  </tbody>\n",
       "</table>\n",
       "</div>"
      ],
      "text/plain": [
       "         room_type  availability_365   price\n",
       "0  Entire home/apt           111.920 211.794\n",
       "1     Private room           111.204  89.781\n",
       "2      Shared room           162.001  70.128"
      ]
     },
     "execution_count": 33,
     "metadata": {},
     "output_type": "execute_result"
    }
   ],
   "source": [
    "df[['room_type','availability_365','price']].groupby('room_type').mean().sort_values('price',ascending=False).reset_index()"
   ]
  },
  {
   "cell_type": "markdown",
   "metadata": {},
   "source": [
    "## 26. A categoria de imóvel `Entire home/apt` é a categoria que possui, na média, menos locações?"
   ]
  },
  {
   "cell_type": "code",
   "execution_count": 34,
   "metadata": {
    "ExecuteTime": {
     "end_time": "2022-07-29T12:32:50.979363Z",
     "start_time": "2022-07-29T12:32:50.854640Z"
    }
   },
   "outputs": [
    {
     "data": {
      "text/html": [
       "<div>\n",
       "<style scoped>\n",
       "    .dataframe tbody tr th:only-of-type {\n",
       "        vertical-align: middle;\n",
       "    }\n",
       "\n",
       "    .dataframe tbody tr th {\n",
       "        vertical-align: top;\n",
       "    }\n",
       "\n",
       "    .dataframe thead th {\n",
       "        text-align: right;\n",
       "    }\n",
       "</style>\n",
       "<table border=\"1\" class=\"dataframe\">\n",
       "  <thead>\n",
       "    <tr style=\"text-align: right;\">\n",
       "      <th></th>\n",
       "      <th>room_type</th>\n",
       "      <th>number_of_reviews</th>\n",
       "    </tr>\n",
       "  </thead>\n",
       "  <tbody>\n",
       "    <tr>\n",
       "      <th>0</th>\n",
       "      <td>Private room</td>\n",
       "      <td>24.113</td>\n",
       "    </tr>\n",
       "    <tr>\n",
       "      <th>1</th>\n",
       "      <td>Entire home/apt</td>\n",
       "      <td>22.842</td>\n",
       "    </tr>\n",
       "    <tr>\n",
       "      <th>2</th>\n",
       "      <td>Shared room</td>\n",
       "      <td>16.600</td>\n",
       "    </tr>\n",
       "  </tbody>\n",
       "</table>\n",
       "</div>"
      ],
      "text/plain": [
       "         room_type  number_of_reviews\n",
       "0     Private room             24.113\n",
       "1  Entire home/apt             22.842\n",
       "2      Shared room             16.600"
      ]
     },
     "execution_count": 34,
     "metadata": {},
     "output_type": "execute_result"
    }
   ],
   "source": [
    "df[['room_type','number_of_reviews']].groupby('room_type').mean().sort_values('number_of_reviews',ascending=False).reset_index()"
   ]
  },
  {
   "cell_type": "markdown",
   "metadata": {},
   "source": [
    "##  27.A categoria de imóvel `Private Room` na região de `Manhattan`, na média, é a categoria que possui o menor valor (diária) de locação, comparado as outras categorias na mesma região?"
   ]
  },
  {
   "cell_type": "code",
   "execution_count": 35,
   "metadata": {
    "ExecuteTime": {
     "end_time": "2022-07-29T12:32:51.113380Z",
     "start_time": "2022-07-29T12:32:50.983884Z"
    }
   },
   "outputs": [
    {
     "data": {
      "text/html": [
       "<div>\n",
       "<style scoped>\n",
       "    .dataframe tbody tr th:only-of-type {\n",
       "        vertical-align: middle;\n",
       "    }\n",
       "\n",
       "    .dataframe tbody tr th {\n",
       "        vertical-align: top;\n",
       "    }\n",
       "\n",
       "    .dataframe thead th {\n",
       "        text-align: right;\n",
       "    }\n",
       "</style>\n",
       "<table border=\"1\" class=\"dataframe\">\n",
       "  <thead>\n",
       "    <tr style=\"text-align: right;\">\n",
       "      <th></th>\n",
       "      <th>room_type</th>\n",
       "      <th>price</th>\n",
       "    </tr>\n",
       "  </thead>\n",
       "  <tbody>\n",
       "    <tr>\n",
       "      <th>0</th>\n",
       "      <td>Entire home/apt</td>\n",
       "      <td>249.239</td>\n",
       "    </tr>\n",
       "    <tr>\n",
       "      <th>1</th>\n",
       "      <td>Private room</td>\n",
       "      <td>116.777</td>\n",
       "    </tr>\n",
       "    <tr>\n",
       "      <th>2</th>\n",
       "      <td>Shared room</td>\n",
       "      <td>88.977</td>\n",
       "    </tr>\n",
       "  </tbody>\n",
       "</table>\n",
       "</div>"
      ],
      "text/plain": [
       "         room_type   price\n",
       "0  Entire home/apt 249.239\n",
       "1     Private room 116.777\n",
       "2      Shared room  88.977"
      ]
     },
     "execution_count": 35,
     "metadata": {},
     "output_type": "execute_result"
    }
   ],
   "source": [
    "df_manhattan = df.loc[df['neighbourhood_group'] == 'Manhattan']\n",
    "df_manhattan[['room_type','price']].groupby('room_type').mean().reset_index()"
   ]
  },
  {
   "cell_type": "markdown",
   "metadata": {
    "ExecuteTime": {
     "end_time": "2022-07-24T21:09:32.510029Z",
     "start_time": "2022-07-24T21:09:32.472645Z"
    }
   },
   "source": [
    "## 28. Qual a região que possui a maior quantidade de imóveis?"
   ]
  },
  {
   "cell_type": "code",
   "execution_count": 36,
   "metadata": {
    "ExecuteTime": {
     "end_time": "2022-07-29T12:32:51.257830Z",
     "start_time": "2022-07-29T12:32:51.117814Z"
    }
   },
   "outputs": [
    {
     "data": {
      "text/html": [
       "<div>\n",
       "<style scoped>\n",
       "    .dataframe tbody tr th:only-of-type {\n",
       "        vertical-align: middle;\n",
       "    }\n",
       "\n",
       "    .dataframe tbody tr th {\n",
       "        vertical-align: top;\n",
       "    }\n",
       "\n",
       "    .dataframe thead th {\n",
       "        text-align: right;\n",
       "    }\n",
       "</style>\n",
       "<table border=\"1\" class=\"dataframe\">\n",
       "  <thead>\n",
       "    <tr style=\"text-align: right;\">\n",
       "      <th></th>\n",
       "      <th>neighbourhood_group</th>\n",
       "      <th>id</th>\n",
       "    </tr>\n",
       "  </thead>\n",
       "  <tbody>\n",
       "    <tr>\n",
       "      <th>0</th>\n",
       "      <td>Manhattan</td>\n",
       "      <td>21661</td>\n",
       "    </tr>\n",
       "    <tr>\n",
       "      <th>1</th>\n",
       "      <td>Brooklyn</td>\n",
       "      <td>20104</td>\n",
       "    </tr>\n",
       "    <tr>\n",
       "      <th>2</th>\n",
       "      <td>Queens</td>\n",
       "      <td>5666</td>\n",
       "    </tr>\n",
       "    <tr>\n",
       "      <th>3</th>\n",
       "      <td>Bronx</td>\n",
       "      <td>1091</td>\n",
       "    </tr>\n",
       "    <tr>\n",
       "      <th>4</th>\n",
       "      <td>Staten Island</td>\n",
       "      <td>373</td>\n",
       "    </tr>\n",
       "  </tbody>\n",
       "</table>\n",
       "</div>"
      ],
      "text/plain": [
       "  neighbourhood_group     id\n",
       "0           Manhattan  21661\n",
       "1            Brooklyn  20104\n",
       "2              Queens   5666\n",
       "3               Bronx   1091\n",
       "4       Staten Island    373"
      ]
     },
     "execution_count": 36,
     "metadata": {},
     "output_type": "execute_result"
    }
   ],
   "source": [
    "df[['neighbourhood_group','id']].groupby('neighbourhood_group').count().sort_values('id',ascending=False).reset_index()"
   ]
  },
  {
   "cell_type": "markdown",
   "metadata": {
    "ExecuteTime": {
     "end_time": "2022-07-24T21:11:07.828779Z",
     "start_time": "2022-07-24T21:11:07.815092Z"
    }
   },
   "source": [
    "## 29. Qual a região que possui a menor quantidade de imóveis?"
   ]
  },
  {
   "cell_type": "code",
   "execution_count": 37,
   "metadata": {
    "ExecuteTime": {
     "end_time": "2022-07-29T12:32:51.413745Z",
     "start_time": "2022-07-29T12:32:51.263912Z"
    }
   },
   "outputs": [
    {
     "data": {
      "text/html": [
       "<div>\n",
       "<style scoped>\n",
       "    .dataframe tbody tr th:only-of-type {\n",
       "        vertical-align: middle;\n",
       "    }\n",
       "\n",
       "    .dataframe tbody tr th {\n",
       "        vertical-align: top;\n",
       "    }\n",
       "\n",
       "    .dataframe thead th {\n",
       "        text-align: right;\n",
       "    }\n",
       "</style>\n",
       "<table border=\"1\" class=\"dataframe\">\n",
       "  <thead>\n",
       "    <tr style=\"text-align: right;\">\n",
       "      <th></th>\n",
       "      <th>neighbourhood_group</th>\n",
       "      <th>id</th>\n",
       "    </tr>\n",
       "  </thead>\n",
       "  <tbody>\n",
       "    <tr>\n",
       "      <th>0</th>\n",
       "      <td>Staten Island</td>\n",
       "      <td>373</td>\n",
       "    </tr>\n",
       "    <tr>\n",
       "      <th>1</th>\n",
       "      <td>Bronx</td>\n",
       "      <td>1091</td>\n",
       "    </tr>\n",
       "    <tr>\n",
       "      <th>2</th>\n",
       "      <td>Queens</td>\n",
       "      <td>5666</td>\n",
       "    </tr>\n",
       "    <tr>\n",
       "      <th>3</th>\n",
       "      <td>Brooklyn</td>\n",
       "      <td>20104</td>\n",
       "    </tr>\n",
       "    <tr>\n",
       "      <th>4</th>\n",
       "      <td>Manhattan</td>\n",
       "      <td>21661</td>\n",
       "    </tr>\n",
       "  </tbody>\n",
       "</table>\n",
       "</div>"
      ],
      "text/plain": [
       "  neighbourhood_group     id\n",
       "0       Staten Island    373\n",
       "1               Bronx   1091\n",
       "2              Queens   5666\n",
       "3            Brooklyn  20104\n",
       "4           Manhattan  21661"
      ]
     },
     "execution_count": 37,
     "metadata": {},
     "output_type": "execute_result"
    }
   ],
   "source": [
    "df[['neighbourhood_group','id']].groupby('neighbourhood_group').count().sort_values('id',ascending=True).reset_index()"
   ]
  },
  {
   "cell_type": "markdown",
   "metadata": {},
   "source": [
    "## 30.A região que possui a maior quantidade de imóveis é também a região que possui os imóveis mais locados?"
   ]
  },
  {
   "cell_type": "code",
   "execution_count": 38,
   "metadata": {
    "ExecuteTime": {
     "end_time": "2022-07-29T12:32:51.738262Z",
     "start_time": "2022-07-29T12:32:51.420283Z"
    }
   },
   "outputs": [
    {
     "data": {
      "text/html": [
       "<div>\n",
       "<style scoped>\n",
       "    .dataframe tbody tr th:only-of-type {\n",
       "        vertical-align: middle;\n",
       "    }\n",
       "\n",
       "    .dataframe tbody tr th {\n",
       "        vertical-align: top;\n",
       "    }\n",
       "\n",
       "    .dataframe thead th {\n",
       "        text-align: right;\n",
       "    }\n",
       "</style>\n",
       "<table border=\"1\" class=\"dataframe\">\n",
       "  <thead>\n",
       "    <tr style=\"text-align: right;\">\n",
       "      <th></th>\n",
       "      <th>neighbourhood_group</th>\n",
       "      <th>id</th>\n",
       "      <th>number_of_reviews</th>\n",
       "    </tr>\n",
       "  </thead>\n",
       "  <tbody>\n",
       "    <tr>\n",
       "      <th>0</th>\n",
       "      <td>Manhattan</td>\n",
       "      <td>21661</td>\n",
       "      <td>454569</td>\n",
       "    </tr>\n",
       "    <tr>\n",
       "      <th>1</th>\n",
       "      <td>Brooklyn</td>\n",
       "      <td>20104</td>\n",
       "      <td>486574</td>\n",
       "    </tr>\n",
       "    <tr>\n",
       "      <th>2</th>\n",
       "      <td>Queens</td>\n",
       "      <td>5666</td>\n",
       "      <td>156950</td>\n",
       "    </tr>\n",
       "    <tr>\n",
       "      <th>3</th>\n",
       "      <td>Bronx</td>\n",
       "      <td>1091</td>\n",
       "      <td>28371</td>\n",
       "    </tr>\n",
       "    <tr>\n",
       "      <th>4</th>\n",
       "      <td>Staten Island</td>\n",
       "      <td>373</td>\n",
       "      <td>11541</td>\n",
       "    </tr>\n",
       "  </tbody>\n",
       "</table>\n",
       "</div>"
      ],
      "text/plain": [
       "  neighbourhood_group     id  number_of_reviews\n",
       "0           Manhattan  21661             454569\n",
       "1            Brooklyn  20104             486574\n",
       "2              Queens   5666             156950\n",
       "3               Bronx   1091              28371\n",
       "4       Staten Island    373              11541"
      ]
     },
     "execution_count": 38,
     "metadata": {},
     "output_type": "execute_result"
    }
   ],
   "source": [
    "df1 = df[['neighbourhood_group','id']].groupby('neighbourhood_group').count().sort_values('id',ascending=False).reset_index()\n",
    "df2 = df[['neighbourhood_group','number_of_reviews']].groupby('neighbourhood_group').sum().sort_values('number_of_reviews',ascending=False).reset_index()\n",
    "df_merge = pd.merge( df1, df2 )\n",
    "df_merge"
   ]
  },
  {
   "cell_type": "markdown",
   "metadata": {
    "ExecuteTime": {
     "end_time": "2022-07-27T12:57:29.575767Z",
     "start_time": "2022-07-27T12:57:29.562550Z"
    }
   },
   "source": [
    "## 31.Qual a região que possui a menor quantidade de imóveis locados dentro da base de dados?"
   ]
  },
  {
   "cell_type": "code",
   "execution_count": 39,
   "metadata": {
    "ExecuteTime": {
     "end_time": "2022-07-29T12:32:51.843924Z",
     "start_time": "2022-07-29T12:32:51.743343Z"
    }
   },
   "outputs": [
    {
     "data": {
      "text/html": [
       "<div>\n",
       "<style scoped>\n",
       "    .dataframe tbody tr th:only-of-type {\n",
       "        vertical-align: middle;\n",
       "    }\n",
       "\n",
       "    .dataframe tbody tr th {\n",
       "        vertical-align: top;\n",
       "    }\n",
       "\n",
       "    .dataframe thead th {\n",
       "        text-align: right;\n",
       "    }\n",
       "</style>\n",
       "<table border=\"1\" class=\"dataframe\">\n",
       "  <thead>\n",
       "    <tr style=\"text-align: right;\">\n",
       "      <th></th>\n",
       "      <th>neighbourhood_group</th>\n",
       "      <th>number_of_reviews</th>\n",
       "    </tr>\n",
       "  </thead>\n",
       "  <tbody>\n",
       "    <tr>\n",
       "      <th>0</th>\n",
       "      <td>Brooklyn</td>\n",
       "      <td>486574</td>\n",
       "    </tr>\n",
       "    <tr>\n",
       "      <th>1</th>\n",
       "      <td>Manhattan</td>\n",
       "      <td>454569</td>\n",
       "    </tr>\n",
       "    <tr>\n",
       "      <th>2</th>\n",
       "      <td>Queens</td>\n",
       "      <td>156950</td>\n",
       "    </tr>\n",
       "    <tr>\n",
       "      <th>3</th>\n",
       "      <td>Bronx</td>\n",
       "      <td>28371</td>\n",
       "    </tr>\n",
       "    <tr>\n",
       "      <th>4</th>\n",
       "      <td>Staten Island</td>\n",
       "      <td>11541</td>\n",
       "    </tr>\n",
       "  </tbody>\n",
       "</table>\n",
       "</div>"
      ],
      "text/plain": [
       "  neighbourhood_group  number_of_reviews\n",
       "0            Brooklyn             486574\n",
       "1           Manhattan             454569\n",
       "2              Queens             156950\n",
       "3               Bronx              28371\n",
       "4       Staten Island              11541"
      ]
     },
     "execution_count": 39,
     "metadata": {},
     "output_type": "execute_result"
    }
   ],
   "source": [
    "df2 "
   ]
  },
  {
   "cell_type": "markdown",
   "metadata": {},
   "source": [
    "## 32.A região de `Manhattan` é a região que possui, na média, os maiores aluguéis (diárias) dentro da base de dados?"
   ]
  },
  {
   "cell_type": "code",
   "execution_count": 40,
   "metadata": {
    "ExecuteTime": {
     "end_time": "2022-07-29T12:32:52.112456Z",
     "start_time": "2022-07-29T12:32:51.873325Z"
    }
   },
   "outputs": [
    {
     "data": {
      "text/html": [
       "<div>\n",
       "<style scoped>\n",
       "    .dataframe tbody tr th:only-of-type {\n",
       "        vertical-align: middle;\n",
       "    }\n",
       "\n",
       "    .dataframe tbody tr th {\n",
       "        vertical-align: top;\n",
       "    }\n",
       "\n",
       "    .dataframe thead th {\n",
       "        text-align: right;\n",
       "    }\n",
       "</style>\n",
       "<table border=\"1\" class=\"dataframe\">\n",
       "  <thead>\n",
       "    <tr style=\"text-align: right;\">\n",
       "      <th></th>\n",
       "      <th>neighbourhood_group</th>\n",
       "      <th>price</th>\n",
       "    </tr>\n",
       "  </thead>\n",
       "  <tbody>\n",
       "    <tr>\n",
       "      <th>0</th>\n",
       "      <td>Manhattan</td>\n",
       "      <td>196.876</td>\n",
       "    </tr>\n",
       "    <tr>\n",
       "      <th>1</th>\n",
       "      <td>Brooklyn</td>\n",
       "      <td>124.383</td>\n",
       "    </tr>\n",
       "    <tr>\n",
       "      <th>2</th>\n",
       "      <td>Staten Island</td>\n",
       "      <td>114.812</td>\n",
       "    </tr>\n",
       "    <tr>\n",
       "      <th>3</th>\n",
       "      <td>Queens</td>\n",
       "      <td>99.518</td>\n",
       "    </tr>\n",
       "    <tr>\n",
       "      <th>4</th>\n",
       "      <td>Bronx</td>\n",
       "      <td>87.497</td>\n",
       "    </tr>\n",
       "  </tbody>\n",
       "</table>\n",
       "</div>"
      ],
      "text/plain": [
       "  neighbourhood_group   price\n",
       "0           Manhattan 196.876\n",
       "1            Brooklyn 124.383\n",
       "2       Staten Island 114.812\n",
       "3              Queens  99.518\n",
       "4               Bronx  87.497"
      ]
     },
     "execution_count": 40,
     "metadata": {},
     "output_type": "execute_result"
    }
   ],
   "source": [
    "df[['neighbourhood_group','price']].groupby('neighbourhood_group').mean().sort_values('price',ascending=False).reset_index()"
   ]
  },
  {
   "cell_type": "markdown",
   "metadata": {},
   "source": [
    "## 33.A região de `Queens` é a região que possui, na média, os menores aluguéis (diárias) dentro da base de dados?"
   ]
  },
  {
   "cell_type": "code",
   "execution_count": 41,
   "metadata": {
    "ExecuteTime": {
     "end_time": "2022-07-29T12:32:52.252643Z",
     "start_time": "2022-07-29T12:32:52.117492Z"
    }
   },
   "outputs": [
    {
     "data": {
      "text/html": [
       "<div>\n",
       "<style scoped>\n",
       "    .dataframe tbody tr th:only-of-type {\n",
       "        vertical-align: middle;\n",
       "    }\n",
       "\n",
       "    .dataframe tbody tr th {\n",
       "        vertical-align: top;\n",
       "    }\n",
       "\n",
       "    .dataframe thead th {\n",
       "        text-align: right;\n",
       "    }\n",
       "</style>\n",
       "<table border=\"1\" class=\"dataframe\">\n",
       "  <thead>\n",
       "    <tr style=\"text-align: right;\">\n",
       "      <th></th>\n",
       "      <th>neighbourhood_group</th>\n",
       "      <th>price</th>\n",
       "    </tr>\n",
       "  </thead>\n",
       "  <tbody>\n",
       "    <tr>\n",
       "      <th>0</th>\n",
       "      <td>Bronx</td>\n",
       "      <td>87.497</td>\n",
       "    </tr>\n",
       "    <tr>\n",
       "      <th>1</th>\n",
       "      <td>Queens</td>\n",
       "      <td>99.518</td>\n",
       "    </tr>\n",
       "    <tr>\n",
       "      <th>2</th>\n",
       "      <td>Staten Island</td>\n",
       "      <td>114.812</td>\n",
       "    </tr>\n",
       "    <tr>\n",
       "      <th>3</th>\n",
       "      <td>Brooklyn</td>\n",
       "      <td>124.383</td>\n",
       "    </tr>\n",
       "    <tr>\n",
       "      <th>4</th>\n",
       "      <td>Manhattan</td>\n",
       "      <td>196.876</td>\n",
       "    </tr>\n",
       "  </tbody>\n",
       "</table>\n",
       "</div>"
      ],
      "text/plain": [
       "  neighbourhood_group   price\n",
       "0               Bronx  87.497\n",
       "1              Queens  99.518\n",
       "2       Staten Island 114.812\n",
       "3            Brooklyn 124.383\n",
       "4           Manhattan 196.876"
      ]
     },
     "execution_count": 41,
     "metadata": {},
     "output_type": "execute_result"
    }
   ],
   "source": [
    "df[['neighbourhood_group','price']].groupby('neighbourhood_group').mean().sort_values('price',ascending=True).reset_index()"
   ]
  },
  {
   "cell_type": "markdown",
   "metadata": {},
   "source": [
    "## 34.Qual a região que possui, na média, os imóveis com os menores aluguéis dentro da base de dados?"
   ]
  },
  {
   "cell_type": "code",
   "execution_count": 42,
   "metadata": {
    "ExecuteTime": {
     "end_time": "2022-07-29T12:32:52.408902Z",
     "start_time": "2022-07-29T12:32:52.260354Z"
    }
   },
   "outputs": [
    {
     "data": {
      "text/html": [
       "<div>\n",
       "<style scoped>\n",
       "    .dataframe tbody tr th:only-of-type {\n",
       "        vertical-align: middle;\n",
       "    }\n",
       "\n",
       "    .dataframe tbody tr th {\n",
       "        vertical-align: top;\n",
       "    }\n",
       "\n",
       "    .dataframe thead th {\n",
       "        text-align: right;\n",
       "    }\n",
       "</style>\n",
       "<table border=\"1\" class=\"dataframe\">\n",
       "  <thead>\n",
       "    <tr style=\"text-align: right;\">\n",
       "      <th></th>\n",
       "      <th>neighbourhood_group</th>\n",
       "      <th>price</th>\n",
       "    </tr>\n",
       "  </thead>\n",
       "  <tbody>\n",
       "    <tr>\n",
       "      <th>0</th>\n",
       "      <td>Bronx</td>\n",
       "      <td>87.497</td>\n",
       "    </tr>\n",
       "    <tr>\n",
       "      <th>1</th>\n",
       "      <td>Queens</td>\n",
       "      <td>99.518</td>\n",
       "    </tr>\n",
       "    <tr>\n",
       "      <th>2</th>\n",
       "      <td>Staten Island</td>\n",
       "      <td>114.812</td>\n",
       "    </tr>\n",
       "    <tr>\n",
       "      <th>3</th>\n",
       "      <td>Brooklyn</td>\n",
       "      <td>124.383</td>\n",
       "    </tr>\n",
       "    <tr>\n",
       "      <th>4</th>\n",
       "      <td>Manhattan</td>\n",
       "      <td>196.876</td>\n",
       "    </tr>\n",
       "  </tbody>\n",
       "</table>\n",
       "</div>"
      ],
      "text/plain": [
       "  neighbourhood_group   price\n",
       "0               Bronx  87.497\n",
       "1              Queens  99.518\n",
       "2       Staten Island 114.812\n",
       "3            Brooklyn 124.383\n",
       "4           Manhattan 196.876"
      ]
     },
     "execution_count": 42,
     "metadata": {},
     "output_type": "execute_result"
    }
   ],
   "source": [
    "df[['neighbourhood_group','price']].groupby('neighbourhood_group').mean().sort_values('price',ascending=True).reset_index()"
   ]
  },
  {
   "cell_type": "markdown",
   "metadata": {},
   "source": [
    "## 35.Qual a região que possui os imóveis que ficam, na média, menos tempo disponíveis para aluguel? Ou seja, são alugados mais rápidos na média?"
   ]
  },
  {
   "cell_type": "code",
   "execution_count": 43,
   "metadata": {
    "ExecuteTime": {
     "end_time": "2022-07-29T12:32:52.572998Z",
     "start_time": "2022-07-29T12:32:52.414400Z"
    }
   },
   "outputs": [
    {
     "data": {
      "text/html": [
       "<div>\n",
       "<style scoped>\n",
       "    .dataframe tbody tr th:only-of-type {\n",
       "        vertical-align: middle;\n",
       "    }\n",
       "\n",
       "    .dataframe tbody tr th {\n",
       "        vertical-align: top;\n",
       "    }\n",
       "\n",
       "    .dataframe thead th {\n",
       "        text-align: right;\n",
       "    }\n",
       "</style>\n",
       "<table border=\"1\" class=\"dataframe\">\n",
       "  <thead>\n",
       "    <tr style=\"text-align: right;\">\n",
       "      <th></th>\n",
       "      <th>neighbourhood_group</th>\n",
       "      <th>availability_365</th>\n",
       "    </tr>\n",
       "  </thead>\n",
       "  <tbody>\n",
       "    <tr>\n",
       "      <th>0</th>\n",
       "      <td>Brooklyn</td>\n",
       "      <td>100.232</td>\n",
       "    </tr>\n",
       "    <tr>\n",
       "      <th>1</th>\n",
       "      <td>Manhattan</td>\n",
       "      <td>111.979</td>\n",
       "    </tr>\n",
       "    <tr>\n",
       "      <th>2</th>\n",
       "      <td>Queens</td>\n",
       "      <td>144.452</td>\n",
       "    </tr>\n",
       "    <tr>\n",
       "      <th>3</th>\n",
       "      <td>Bronx</td>\n",
       "      <td>165.759</td>\n",
       "    </tr>\n",
       "    <tr>\n",
       "      <th>4</th>\n",
       "      <td>Staten Island</td>\n",
       "      <td>199.678</td>\n",
       "    </tr>\n",
       "  </tbody>\n",
       "</table>\n",
       "</div>"
      ],
      "text/plain": [
       "  neighbourhood_group  availability_365\n",
       "0            Brooklyn           100.232\n",
       "1           Manhattan           111.979\n",
       "2              Queens           144.452\n",
       "3               Bronx           165.759\n",
       "4       Staten Island           199.678"
      ]
     },
     "execution_count": 43,
     "metadata": {},
     "output_type": "execute_result"
    }
   ],
   "source": [
    "df[['neighbourhood_group','availability_365']].groupby('neighbourhood_group').mean().sort_values('availability_365',ascending=True).reset_index()"
   ]
  },
  {
   "cell_type": "markdown",
   "metadata": {},
   "source": [
    "## 36.Qual o bairro possui a maior quantidade de imóveis ativos para locação?"
   ]
  },
  {
   "cell_type": "code",
   "execution_count": 44,
   "metadata": {
    "ExecuteTime": {
     "end_time": "2022-07-29T12:32:52.683421Z",
     "start_time": "2022-07-29T12:32:52.576350Z"
    }
   },
   "outputs": [
    {
     "data": {
      "text/html": [
       "<div>\n",
       "<style scoped>\n",
       "    .dataframe tbody tr th:only-of-type {\n",
       "        vertical-align: middle;\n",
       "    }\n",
       "\n",
       "    .dataframe tbody tr th {\n",
       "        vertical-align: top;\n",
       "    }\n",
       "\n",
       "    .dataframe thead th {\n",
       "        text-align: right;\n",
       "    }\n",
       "</style>\n",
       "<table border=\"1\" class=\"dataframe\">\n",
       "  <thead>\n",
       "    <tr style=\"text-align: right;\">\n",
       "      <th></th>\n",
       "      <th>neighbourhood</th>\n",
       "      <th>number_of_reviews</th>\n",
       "    </tr>\n",
       "  </thead>\n",
       "  <tbody>\n",
       "    <tr>\n",
       "      <th>0</th>\n",
       "      <td>Williamsburg</td>\n",
       "      <td>3163</td>\n",
       "    </tr>\n",
       "    <tr>\n",
       "      <th>1</th>\n",
       "      <td>Bedford-Stuyvesant</td>\n",
       "      <td>3141</td>\n",
       "    </tr>\n",
       "    <tr>\n",
       "      <th>2</th>\n",
       "      <td>Harlem</td>\n",
       "      <td>2206</td>\n",
       "    </tr>\n",
       "    <tr>\n",
       "      <th>3</th>\n",
       "      <td>Bushwick</td>\n",
       "      <td>1944</td>\n",
       "    </tr>\n",
       "    <tr>\n",
       "      <th>4</th>\n",
       "      <td>Hell's Kitchen</td>\n",
       "      <td>1532</td>\n",
       "    </tr>\n",
       "    <tr>\n",
       "      <th>...</th>\n",
       "      <td>...</td>\n",
       "      <td>...</td>\n",
       "    </tr>\n",
       "    <tr>\n",
       "      <th>213</th>\n",
       "      <td>Castle Hill</td>\n",
       "      <td>2</td>\n",
       "    </tr>\n",
       "    <tr>\n",
       "      <th>214</th>\n",
       "      <td>West Farms</td>\n",
       "      <td>2</td>\n",
       "    </tr>\n",
       "    <tr>\n",
       "      <th>215</th>\n",
       "      <td>Richmondtown</td>\n",
       "      <td>1</td>\n",
       "    </tr>\n",
       "    <tr>\n",
       "      <th>216</th>\n",
       "      <td>Rossville</td>\n",
       "      <td>1</td>\n",
       "    </tr>\n",
       "    <tr>\n",
       "      <th>217</th>\n",
       "      <td>Willowbrook</td>\n",
       "      <td>1</td>\n",
       "    </tr>\n",
       "  </tbody>\n",
       "</table>\n",
       "<p>218 rows × 2 columns</p>\n",
       "</div>"
      ],
      "text/plain": [
       "          neighbourhood  number_of_reviews\n",
       "0          Williamsburg               3163\n",
       "1    Bedford-Stuyvesant               3141\n",
       "2                Harlem               2206\n",
       "3              Bushwick               1944\n",
       "4        Hell's Kitchen               1532\n",
       "..                  ...                ...\n",
       "213         Castle Hill                  2\n",
       "214          West Farms                  2\n",
       "215        Richmondtown                  1\n",
       "216           Rossville                  1\n",
       "217         Willowbrook                  1\n",
       "\n",
       "[218 rows x 2 columns]"
      ]
     },
     "execution_count": 44,
     "metadata": {},
     "output_type": "execute_result"
    }
   ],
   "source": [
    "df_bairro = df.loc[ df['number_of_reviews'] > 0 ]\n",
    "df_bairro[['neighbourhood','number_of_reviews']].groupby('neighbourhood').count().sort_values('number_of_reviews',ascending=False).reset_index()"
   ]
  },
  {
   "cell_type": "markdown",
   "metadata": {
    "ExecuteTime": {
     "end_time": "2022-07-27T13:31:09.747096Z",
     "start_time": "2022-07-27T13:31:09.736485Z"
    }
   },
   "source": [
    "## 37.Qual o bairro possui a menor quantidade de imóveis ativos para locação?"
   ]
  },
  {
   "cell_type": "code",
   "execution_count": 45,
   "metadata": {
    "ExecuteTime": {
     "end_time": "2022-07-29T12:32:52.783454Z",
     "start_time": "2022-07-29T12:32:52.690138Z"
    }
   },
   "outputs": [
    {
     "data": {
      "text/html": [
       "<div>\n",
       "<style scoped>\n",
       "    .dataframe tbody tr th:only-of-type {\n",
       "        vertical-align: middle;\n",
       "    }\n",
       "\n",
       "    .dataframe tbody tr th {\n",
       "        vertical-align: top;\n",
       "    }\n",
       "\n",
       "    .dataframe thead th {\n",
       "        text-align: right;\n",
       "    }\n",
       "</style>\n",
       "<table border=\"1\" class=\"dataframe\">\n",
       "  <thead>\n",
       "    <tr style=\"text-align: right;\">\n",
       "      <th></th>\n",
       "      <th>neighbourhood</th>\n",
       "      <th>number_of_reviews</th>\n",
       "    </tr>\n",
       "  </thead>\n",
       "  <tbody>\n",
       "    <tr>\n",
       "      <th>0</th>\n",
       "      <td>Willowbrook</td>\n",
       "      <td>1</td>\n",
       "    </tr>\n",
       "    <tr>\n",
       "      <th>1</th>\n",
       "      <td>Richmondtown</td>\n",
       "      <td>1</td>\n",
       "    </tr>\n",
       "    <tr>\n",
       "      <th>2</th>\n",
       "      <td>Rossville</td>\n",
       "      <td>1</td>\n",
       "    </tr>\n",
       "    <tr>\n",
       "      <th>3</th>\n",
       "      <td>Castleton Corners</td>\n",
       "      <td>2</td>\n",
       "    </tr>\n",
       "    <tr>\n",
       "      <th>4</th>\n",
       "      <td>West Farms</td>\n",
       "      <td>2</td>\n",
       "    </tr>\n",
       "    <tr>\n",
       "      <th>...</th>\n",
       "      <td>...</td>\n",
       "      <td>...</td>\n",
       "    </tr>\n",
       "    <tr>\n",
       "      <th>213</th>\n",
       "      <td>Hell's Kitchen</td>\n",
       "      <td>1532</td>\n",
       "    </tr>\n",
       "    <tr>\n",
       "      <th>214</th>\n",
       "      <td>Bushwick</td>\n",
       "      <td>1941</td>\n",
       "    </tr>\n",
       "    <tr>\n",
       "      <th>215</th>\n",
       "      <td>Harlem</td>\n",
       "      <td>2206</td>\n",
       "    </tr>\n",
       "    <tr>\n",
       "      <th>216</th>\n",
       "      <td>Bedford-Stuyvesant</td>\n",
       "      <td>3137</td>\n",
       "    </tr>\n",
       "    <tr>\n",
       "      <th>217</th>\n",
       "      <td>Williamsburg</td>\n",
       "      <td>3162</td>\n",
       "    </tr>\n",
       "  </tbody>\n",
       "</table>\n",
       "<p>218 rows × 2 columns</p>\n",
       "</div>"
      ],
      "text/plain": [
       "          neighbourhood  number_of_reviews\n",
       "0           Willowbrook                  1\n",
       "1          Richmondtown                  1\n",
       "2             Rossville                  1\n",
       "3     Castleton Corners                  2\n",
       "4            West Farms                  2\n",
       "..                  ...                ...\n",
       "213      Hell's Kitchen               1532\n",
       "214            Bushwick               1941\n",
       "215              Harlem               2206\n",
       "216  Bedford-Stuyvesant               3137\n",
       "217        Williamsburg               3162\n",
       "\n",
       "[218 rows x 2 columns]"
      ]
     },
     "execution_count": 45,
     "metadata": {},
     "output_type": "execute_result"
    }
   ],
   "source": [
    "df_bairro = df.loc[ (df['number_of_reviews'] > 0) & (df['price'] > 0 )]\n",
    "df_bairro[['neighbourhood','number_of_reviews']].groupby('neighbourhood').count().sort_values('number_of_reviews',ascending=True).reset_index()"
   ]
  },
  {
   "cell_type": "markdown",
   "metadata": {},
   "source": [
    "## 38.Qual o bairro, e de qual região é esse bairro, que possui o imovel com o maior valor de aluguel?"
   ]
  },
  {
   "cell_type": "code",
   "execution_count": 46,
   "metadata": {
    "ExecuteTime": {
     "end_time": "2022-07-29T12:32:52.846125Z",
     "start_time": "2022-07-29T12:32:52.786014Z"
    }
   },
   "outputs": [
    {
     "data": {
      "text/html": [
       "<div>\n",
       "<style scoped>\n",
       "    .dataframe tbody tr th:only-of-type {\n",
       "        vertical-align: middle;\n",
       "    }\n",
       "\n",
       "    .dataframe tbody tr th {\n",
       "        vertical-align: top;\n",
       "    }\n",
       "\n",
       "    .dataframe thead th {\n",
       "        text-align: right;\n",
       "    }\n",
       "</style>\n",
       "<table border=\"1\" class=\"dataframe\">\n",
       "  <thead>\n",
       "    <tr style=\"text-align: right;\">\n",
       "      <th></th>\n",
       "      <th>neighbourhood</th>\n",
       "      <th>neighbourhood_group</th>\n",
       "      <th>price</th>\n",
       "    </tr>\n",
       "  </thead>\n",
       "  <tbody>\n",
       "    <tr>\n",
       "      <th>9151</th>\n",
       "      <td>Astoria</td>\n",
       "      <td>Queens</td>\n",
       "      <td>10000</td>\n",
       "    </tr>\n",
       "    <tr>\n",
       "      <th>17692</th>\n",
       "      <td>Greenpoint</td>\n",
       "      <td>Brooklyn</td>\n",
       "      <td>10000</td>\n",
       "    </tr>\n",
       "    <tr>\n",
       "      <th>6530</th>\n",
       "      <td>East Harlem</td>\n",
       "      <td>Manhattan</td>\n",
       "      <td>9999</td>\n",
       "    </tr>\n",
       "    <tr>\n",
       "      <th>12342</th>\n",
       "      <td>Lower East Side</td>\n",
       "      <td>Manhattan</td>\n",
       "      <td>9999</td>\n",
       "    </tr>\n",
       "    <tr>\n",
       "      <th>30268</th>\n",
       "      <td>Tribeca</td>\n",
       "      <td>Manhattan</td>\n",
       "      <td>8500</td>\n",
       "    </tr>\n",
       "    <tr>\n",
       "      <th>...</th>\n",
       "      <td>...</td>\n",
       "      <td>...</td>\n",
       "      <td>...</td>\n",
       "    </tr>\n",
       "    <tr>\n",
       "      <th>22835</th>\n",
       "      <td>Jamaica</td>\n",
       "      <td>Queens</td>\n",
       "      <td>10</td>\n",
       "    </tr>\n",
       "    <tr>\n",
       "      <th>22287</th>\n",
       "      <td>SoHo</td>\n",
       "      <td>Manhattan</td>\n",
       "      <td>10</td>\n",
       "    </tr>\n",
       "    <tr>\n",
       "      <th>31407</th>\n",
       "      <td>Kips Bay</td>\n",
       "      <td>Manhattan</td>\n",
       "      <td>10</td>\n",
       "    </tr>\n",
       "    <tr>\n",
       "      <th>31066</th>\n",
       "      <td>Upper West Side</td>\n",
       "      <td>Manhattan</td>\n",
       "      <td>10</td>\n",
       "    </tr>\n",
       "    <tr>\n",
       "      <th>24100</th>\n",
       "      <td>Hell's Kitchen</td>\n",
       "      <td>Manhattan</td>\n",
       "      <td>10</td>\n",
       "    </tr>\n",
       "  </tbody>\n",
       "</table>\n",
       "<p>38833 rows × 3 columns</p>\n",
       "</div>"
      ],
      "text/plain": [
       "         neighbourhood neighbourhood_group  price\n",
       "9151           Astoria              Queens  10000\n",
       "17692       Greenpoint            Brooklyn  10000\n",
       "6530       East Harlem           Manhattan   9999\n",
       "12342  Lower East Side           Manhattan   9999\n",
       "30268          Tribeca           Manhattan   8500\n",
       "...                ...                 ...    ...\n",
       "22835          Jamaica              Queens     10\n",
       "22287             SoHo           Manhattan     10\n",
       "31407         Kips Bay           Manhattan     10\n",
       "31066  Upper West Side           Manhattan     10\n",
       "24100   Hell's Kitchen           Manhattan     10\n",
       "\n",
       "[38833 rows x 3 columns]"
      ]
     },
     "execution_count": 46,
     "metadata": {},
     "output_type": "execute_result"
    }
   ],
   "source": [
    "df_bairro[['neighbourhood','neighbourhood_group','price']].sort_values('price',ascending=False)"
   ]
  },
  {
   "cell_type": "markdown",
   "metadata": {},
   "source": [
    "## 39.Qual o bairro, e de qual região é esse bairro, que possui o imovel com o menor valor de aluguel?"
   ]
  },
  {
   "cell_type": "code",
   "execution_count": 47,
   "metadata": {
    "ExecuteTime": {
     "end_time": "2022-07-29T12:32:52.967956Z",
     "start_time": "2022-07-29T12:32:52.849650Z"
    }
   },
   "outputs": [
    {
     "data": {
      "text/html": [
       "<div>\n",
       "<style scoped>\n",
       "    .dataframe tbody tr th:only-of-type {\n",
       "        vertical-align: middle;\n",
       "    }\n",
       "\n",
       "    .dataframe tbody tr th {\n",
       "        vertical-align: top;\n",
       "    }\n",
       "\n",
       "    .dataframe thead th {\n",
       "        text-align: right;\n",
       "    }\n",
       "</style>\n",
       "<table border=\"1\" class=\"dataframe\">\n",
       "  <thead>\n",
       "    <tr style=\"text-align: right;\">\n",
       "      <th></th>\n",
       "      <th>neighbourhood</th>\n",
       "      <th>neighbourhood_group</th>\n",
       "      <th>price</th>\n",
       "    </tr>\n",
       "  </thead>\n",
       "  <tbody>\n",
       "    <tr>\n",
       "      <th>32810</th>\n",
       "      <td>Sunset Park</td>\n",
       "      <td>Brooklyn</td>\n",
       "      <td>10</td>\n",
       "    </tr>\n",
       "    <tr>\n",
       "      <th>33225</th>\n",
       "      <td>Jamaica</td>\n",
       "      <td>Queens</td>\n",
       "      <td>10</td>\n",
       "    </tr>\n",
       "    <tr>\n",
       "      <th>24100</th>\n",
       "      <td>Hell's Kitchen</td>\n",
       "      <td>Manhattan</td>\n",
       "      <td>10</td>\n",
       "    </tr>\n",
       "    <tr>\n",
       "      <th>27972</th>\n",
       "      <td>Greenpoint</td>\n",
       "      <td>Brooklyn</td>\n",
       "      <td>10</td>\n",
       "    </tr>\n",
       "    <tr>\n",
       "      <th>23256</th>\n",
       "      <td>Upper East Side</td>\n",
       "      <td>Manhattan</td>\n",
       "      <td>10</td>\n",
       "    </tr>\n",
       "    <tr>\n",
       "      <th>...</th>\n",
       "      <td>...</td>\n",
       "      <td>...</td>\n",
       "      <td>...</td>\n",
       "    </tr>\n",
       "    <tr>\n",
       "      <th>30268</th>\n",
       "      <td>Tribeca</td>\n",
       "      <td>Manhattan</td>\n",
       "      <td>8500</td>\n",
       "    </tr>\n",
       "    <tr>\n",
       "      <th>6530</th>\n",
       "      <td>East Harlem</td>\n",
       "      <td>Manhattan</td>\n",
       "      <td>9999</td>\n",
       "    </tr>\n",
       "    <tr>\n",
       "      <th>12342</th>\n",
       "      <td>Lower East Side</td>\n",
       "      <td>Manhattan</td>\n",
       "      <td>9999</td>\n",
       "    </tr>\n",
       "    <tr>\n",
       "      <th>9151</th>\n",
       "      <td>Astoria</td>\n",
       "      <td>Queens</td>\n",
       "      <td>10000</td>\n",
       "    </tr>\n",
       "    <tr>\n",
       "      <th>17692</th>\n",
       "      <td>Greenpoint</td>\n",
       "      <td>Brooklyn</td>\n",
       "      <td>10000</td>\n",
       "    </tr>\n",
       "  </tbody>\n",
       "</table>\n",
       "<p>38833 rows × 3 columns</p>\n",
       "</div>"
      ],
      "text/plain": [
       "         neighbourhood neighbourhood_group  price\n",
       "32810      Sunset Park            Brooklyn     10\n",
       "33225          Jamaica              Queens     10\n",
       "24100   Hell's Kitchen           Manhattan     10\n",
       "27972       Greenpoint            Brooklyn     10\n",
       "23256  Upper East Side           Manhattan     10\n",
       "...                ...                 ...    ...\n",
       "30268          Tribeca           Manhattan   8500\n",
       "6530       East Harlem           Manhattan   9999\n",
       "12342  Lower East Side           Manhattan   9999\n",
       "9151           Astoria              Queens  10000\n",
       "17692       Greenpoint            Brooklyn  10000\n",
       "\n",
       "[38833 rows x 3 columns]"
      ]
     },
     "execution_count": 47,
     "metadata": {},
     "output_type": "execute_result"
    }
   ],
   "source": [
    "df_bairro[['neighbourhood','neighbourhood_group','price']].sort_values('price',ascending=True)"
   ]
  },
  {
   "cell_type": "markdown",
   "metadata": {},
   "source": [
    "## 40.Qual região que possui o bairro com mais imóveis ativos disponíveis para locação?"
   ]
  },
  {
   "cell_type": "code",
   "execution_count": 48,
   "metadata": {
    "ExecuteTime": {
     "end_time": "2022-07-29T12:32:53.056623Z",
     "start_time": "2022-07-29T12:32:52.976667Z"
    }
   },
   "outputs": [
    {
     "data": {
      "text/html": [
       "<div>\n",
       "<style scoped>\n",
       "    .dataframe tbody tr th:only-of-type {\n",
       "        vertical-align: middle;\n",
       "    }\n",
       "\n",
       "    .dataframe tbody tr th {\n",
       "        vertical-align: top;\n",
       "    }\n",
       "\n",
       "    .dataframe thead th {\n",
       "        text-align: right;\n",
       "    }\n",
       "</style>\n",
       "<table border=\"1\" class=\"dataframe\">\n",
       "  <thead>\n",
       "    <tr style=\"text-align: right;\">\n",
       "      <th></th>\n",
       "      <th></th>\n",
       "      <th>number_of_reviews</th>\n",
       "    </tr>\n",
       "    <tr>\n",
       "      <th>neighbourhood_group</th>\n",
       "      <th>neighbourhood</th>\n",
       "      <th></th>\n",
       "    </tr>\n",
       "  </thead>\n",
       "  <tbody>\n",
       "    <tr>\n",
       "      <th rowspan=\"2\" valign=\"top\">Brooklyn</th>\n",
       "      <th>Williamsburg</th>\n",
       "      <td>3162</td>\n",
       "    </tr>\n",
       "    <tr>\n",
       "      <th>Bedford-Stuyvesant</th>\n",
       "      <td>3137</td>\n",
       "    </tr>\n",
       "    <tr>\n",
       "      <th>Manhattan</th>\n",
       "      <th>Harlem</th>\n",
       "      <td>2206</td>\n",
       "    </tr>\n",
       "    <tr>\n",
       "      <th>Brooklyn</th>\n",
       "      <th>Bushwick</th>\n",
       "      <td>1941</td>\n",
       "    </tr>\n",
       "    <tr>\n",
       "      <th>Manhattan</th>\n",
       "      <th>Hell's Kitchen</th>\n",
       "      <td>1532</td>\n",
       "    </tr>\n",
       "    <tr>\n",
       "      <th>...</th>\n",
       "      <th>...</th>\n",
       "      <td>...</td>\n",
       "    </tr>\n",
       "    <tr>\n",
       "      <th>Staten Island</th>\n",
       "      <th>Howland Hook</th>\n",
       "      <td>2</td>\n",
       "    </tr>\n",
       "    <tr>\n",
       "      <th>Queens</th>\n",
       "      <th>Breezy Point</th>\n",
       "      <td>2</td>\n",
       "    </tr>\n",
       "    <tr>\n",
       "      <th rowspan=\"3\" valign=\"top\">Staten Island</th>\n",
       "      <th>Rossville</th>\n",
       "      <td>1</td>\n",
       "    </tr>\n",
       "    <tr>\n",
       "      <th>Richmondtown</th>\n",
       "      <td>1</td>\n",
       "    </tr>\n",
       "    <tr>\n",
       "      <th>Willowbrook</th>\n",
       "      <td>1</td>\n",
       "    </tr>\n",
       "  </tbody>\n",
       "</table>\n",
       "<p>218 rows × 1 columns</p>\n",
       "</div>"
      ],
      "text/plain": [
       "                                        number_of_reviews\n",
       "neighbourhood_group neighbourhood                        \n",
       "Brooklyn            Williamsburg                     3162\n",
       "                    Bedford-Stuyvesant               3137\n",
       "Manhattan           Harlem                           2206\n",
       "Brooklyn            Bushwick                         1941\n",
       "Manhattan           Hell's Kitchen                   1532\n",
       "...                                                   ...\n",
       "Staten Island       Howland Hook                        2\n",
       "Queens              Breezy Point                        2\n",
       "Staten Island       Rossville                           1\n",
       "                    Richmondtown                        1\n",
       "                    Willowbrook                         1\n",
       "\n",
       "[218 rows x 1 columns]"
      ]
     },
     "execution_count": 48,
     "metadata": {},
     "output_type": "execute_result"
    }
   ],
   "source": [
    "df_bairro[['neighbourhood_group','neighbourhood','number_of_reviews']].groupby(['neighbourhood_group','neighbourhood',]).count().sort_values('number_of_reviews',ascending=False)"
   ]
  },
  {
   "cell_type": "markdown",
   "metadata": {},
   "source": [
    "## 41.Qual região que possui o bairro com menos imóveis ativos disponíveis para locação?"
   ]
  },
  {
   "cell_type": "code",
   "execution_count": 49,
   "metadata": {
    "ExecuteTime": {
     "end_time": "2022-07-29T12:32:53.155997Z",
     "start_time": "2022-07-29T12:32:53.060411Z"
    }
   },
   "outputs": [
    {
     "data": {
      "text/html": [
       "<div>\n",
       "<style scoped>\n",
       "    .dataframe tbody tr th:only-of-type {\n",
       "        vertical-align: middle;\n",
       "    }\n",
       "\n",
       "    .dataframe tbody tr th {\n",
       "        vertical-align: top;\n",
       "    }\n",
       "\n",
       "    .dataframe thead th {\n",
       "        text-align: right;\n",
       "    }\n",
       "</style>\n",
       "<table border=\"1\" class=\"dataframe\">\n",
       "  <thead>\n",
       "    <tr style=\"text-align: right;\">\n",
       "      <th></th>\n",
       "      <th></th>\n",
       "      <th>number_of_reviews</th>\n",
       "    </tr>\n",
       "    <tr>\n",
       "      <th>neighbourhood_group</th>\n",
       "      <th>neighbourhood</th>\n",
       "      <th></th>\n",
       "    </tr>\n",
       "  </thead>\n",
       "  <tbody>\n",
       "    <tr>\n",
       "      <th rowspan=\"5\" valign=\"top\">Staten Island</th>\n",
       "      <th>Willowbrook</th>\n",
       "      <td>1</td>\n",
       "    </tr>\n",
       "    <tr>\n",
       "      <th>Rossville</th>\n",
       "      <td>1</td>\n",
       "    </tr>\n",
       "    <tr>\n",
       "      <th>Richmondtown</th>\n",
       "      <td>1</td>\n",
       "    </tr>\n",
       "    <tr>\n",
       "      <th>Westerleigh</th>\n",
       "      <td>2</td>\n",
       "    </tr>\n",
       "    <tr>\n",
       "      <th>Eltingville</th>\n",
       "      <td>2</td>\n",
       "    </tr>\n",
       "    <tr>\n",
       "      <th>...</th>\n",
       "      <th>...</th>\n",
       "      <td>...</td>\n",
       "    </tr>\n",
       "    <tr>\n",
       "      <th>Manhattan</th>\n",
       "      <th>Hell's Kitchen</th>\n",
       "      <td>1532</td>\n",
       "    </tr>\n",
       "    <tr>\n",
       "      <th>Brooklyn</th>\n",
       "      <th>Bushwick</th>\n",
       "      <td>1941</td>\n",
       "    </tr>\n",
       "    <tr>\n",
       "      <th>Manhattan</th>\n",
       "      <th>Harlem</th>\n",
       "      <td>2206</td>\n",
       "    </tr>\n",
       "    <tr>\n",
       "      <th rowspan=\"2\" valign=\"top\">Brooklyn</th>\n",
       "      <th>Bedford-Stuyvesant</th>\n",
       "      <td>3137</td>\n",
       "    </tr>\n",
       "    <tr>\n",
       "      <th>Williamsburg</th>\n",
       "      <td>3162</td>\n",
       "    </tr>\n",
       "  </tbody>\n",
       "</table>\n",
       "<p>218 rows × 1 columns</p>\n",
       "</div>"
      ],
      "text/plain": [
       "                                        number_of_reviews\n",
       "neighbourhood_group neighbourhood                        \n",
       "Staten Island       Willowbrook                         1\n",
       "                    Rossville                           1\n",
       "                    Richmondtown                        1\n",
       "                    Westerleigh                         2\n",
       "                    Eltingville                         2\n",
       "...                                                   ...\n",
       "Manhattan           Hell's Kitchen                   1532\n",
       "Brooklyn            Bushwick                         1941\n",
       "Manhattan           Harlem                           2206\n",
       "Brooklyn            Bedford-Stuyvesant               3137\n",
       "                    Williamsburg                     3162\n",
       "\n",
       "[218 rows x 1 columns]"
      ]
     },
     "execution_count": 49,
     "metadata": {},
     "output_type": "execute_result"
    }
   ],
   "source": [
    "df_bairro[['neighbourhood_group','neighbourhood','number_of_reviews']].groupby(['neighbourhood_group','neighbourhood',]).count().sort_values('number_of_reviews',ascending=True)"
   ]
  },
  {
   "cell_type": "markdown",
   "metadata": {},
   "source": [
    "## 42.O Bairro `Upper West Side`, na região de `Manhattan`, é o bairro que possui, na média, o maior aluguel dentro da base de dados?"
   ]
  },
  {
   "cell_type": "code",
   "execution_count": 50,
   "metadata": {
    "ExecuteTime": {
     "end_time": "2022-07-29T12:32:53.475417Z",
     "start_time": "2022-07-29T12:32:53.161594Z"
    }
   },
   "outputs": [
    {
     "data": {
      "text/html": [
       "<div>\n",
       "<style scoped>\n",
       "    .dataframe tbody tr th:only-of-type {\n",
       "        vertical-align: middle;\n",
       "    }\n",
       "\n",
       "    .dataframe tbody tr th {\n",
       "        vertical-align: top;\n",
       "    }\n",
       "\n",
       "    .dataframe thead th {\n",
       "        text-align: right;\n",
       "    }\n",
       "</style>\n",
       "<table border=\"1\" class=\"dataframe\">\n",
       "  <thead>\n",
       "    <tr style=\"text-align: right;\">\n",
       "      <th></th>\n",
       "      <th>price</th>\n",
       "    </tr>\n",
       "    <tr>\n",
       "      <th>neighbourhood</th>\n",
       "      <th></th>\n",
       "    </tr>\n",
       "  </thead>\n",
       "  <tbody>\n",
       "    <tr>\n",
       "      <th>Tribeca</th>\n",
       "      <td>490.638</td>\n",
       "    </tr>\n",
       "    <tr>\n",
       "      <th>Battery Park City</th>\n",
       "      <td>367.557</td>\n",
       "    </tr>\n",
       "    <tr>\n",
       "      <th>Flatiron District</th>\n",
       "      <td>341.925</td>\n",
       "    </tr>\n",
       "    <tr>\n",
       "      <th>NoHo</th>\n",
       "      <td>295.718</td>\n",
       "    </tr>\n",
       "    <tr>\n",
       "      <th>SoHo</th>\n",
       "      <td>287.103</td>\n",
       "    </tr>\n",
       "    <tr>\n",
       "      <th>Midtown</th>\n",
       "      <td>282.719</td>\n",
       "    </tr>\n",
       "    <tr>\n",
       "      <th>West Village</th>\n",
       "      <td>267.682</td>\n",
       "    </tr>\n",
       "    <tr>\n",
       "      <th>Greenwich Village</th>\n",
       "      <td>263.406</td>\n",
       "    </tr>\n",
       "    <tr>\n",
       "      <th>Chelsea</th>\n",
       "      <td>249.739</td>\n",
       "    </tr>\n",
       "    <tr>\n",
       "      <th>Theater District</th>\n",
       "      <td>248.014</td>\n",
       "    </tr>\n",
       "    <tr>\n",
       "      <th>Nolita</th>\n",
       "      <td>230.138</td>\n",
       "    </tr>\n",
       "    <tr>\n",
       "      <th>Financial District</th>\n",
       "      <td>225.491</td>\n",
       "    </tr>\n",
       "    <tr>\n",
       "      <th>Gramercy</th>\n",
       "      <td>222.754</td>\n",
       "    </tr>\n",
       "    <tr>\n",
       "      <th>Little Italy</th>\n",
       "      <td>222.066</td>\n",
       "    </tr>\n",
       "    <tr>\n",
       "      <th>Murray Hill</th>\n",
       "      <td>220.959</td>\n",
       "    </tr>\n",
       "    <tr>\n",
       "      <th>Upper West Side</th>\n",
       "      <td>210.918</td>\n",
       "    </tr>\n",
       "    <tr>\n",
       "      <th>Hell's Kitchen</th>\n",
       "      <td>204.794</td>\n",
       "    </tr>\n",
       "    <tr>\n",
       "      <th>Kips Bay</th>\n",
       "      <td>202.409</td>\n",
       "    </tr>\n",
       "    <tr>\n",
       "      <th>Civic Center</th>\n",
       "      <td>191.942</td>\n",
       "    </tr>\n",
       "    <tr>\n",
       "      <th>Upper East Side</th>\n",
       "      <td>188.948</td>\n",
       "    </tr>\n",
       "    <tr>\n",
       "      <th>Lower East Side</th>\n",
       "      <td>186.313</td>\n",
       "    </tr>\n",
       "    <tr>\n",
       "      <th>East Village</th>\n",
       "      <td>186.083</td>\n",
       "    </tr>\n",
       "    <tr>\n",
       "      <th>Stuyvesant Town</th>\n",
       "      <td>169.108</td>\n",
       "    </tr>\n",
       "    <tr>\n",
       "      <th>Chinatown</th>\n",
       "      <td>161.497</td>\n",
       "    </tr>\n",
       "    <tr>\n",
       "      <th>East Harlem</th>\n",
       "      <td>133.199</td>\n",
       "    </tr>\n",
       "    <tr>\n",
       "      <th>Two Bridges</th>\n",
       "      <td>127.069</td>\n",
       "    </tr>\n",
       "    <tr>\n",
       "      <th>Harlem</th>\n",
       "      <td>118.974</td>\n",
       "    </tr>\n",
       "    <tr>\n",
       "      <th>Morningside Heights</th>\n",
       "      <td>114.783</td>\n",
       "    </tr>\n",
       "    <tr>\n",
       "      <th>Roosevelt Island</th>\n",
       "      <td>113.260</td>\n",
       "    </tr>\n",
       "    <tr>\n",
       "      <th>Washington Heights</th>\n",
       "      <td>89.611</td>\n",
       "    </tr>\n",
       "    <tr>\n",
       "      <th>Marble Hill</th>\n",
       "      <td>89.167</td>\n",
       "    </tr>\n",
       "    <tr>\n",
       "      <th>Inwood</th>\n",
       "      <td>88.897</td>\n",
       "    </tr>\n",
       "  </tbody>\n",
       "</table>\n",
       "</div>"
      ],
      "text/plain": [
       "                      price\n",
       "neighbourhood              \n",
       "Tribeca             490.638\n",
       "Battery Park City   367.557\n",
       "Flatiron District   341.925\n",
       "NoHo                295.718\n",
       "SoHo                287.103\n",
       "Midtown             282.719\n",
       "West Village        267.682\n",
       "Greenwich Village   263.406\n",
       "Chelsea             249.739\n",
       "Theater District    248.014\n",
       "Nolita              230.138\n",
       "Financial District  225.491\n",
       "Gramercy            222.754\n",
       "Little Italy        222.066\n",
       "Murray Hill         220.959\n",
       "Upper West Side     210.918\n",
       "Hell's Kitchen      204.794\n",
       "Kips Bay            202.409\n",
       "Civic Center        191.942\n",
       "Upper East Side     188.948\n",
       "Lower East Side     186.313\n",
       "East Village        186.083\n",
       "Stuyvesant Town     169.108\n",
       "Chinatown           161.497\n",
       "East Harlem         133.199\n",
       "Two Bridges         127.069\n",
       "Harlem              118.974\n",
       "Morningside Heights 114.783\n",
       "Roosevelt Island    113.260\n",
       "Washington Heights   89.611\n",
       "Marble Hill          89.167\n",
       "Inwood               88.897"
      ]
     },
     "execution_count": 50,
     "metadata": {},
     "output_type": "execute_result"
    }
   ],
   "source": [
    "df_manhattan = df.loc[ df['neighbourhood_group'] == 'Manhattan']\n",
    "df_manhattan[['price','neighbourhood']].groupby('neighbourhood').mean().sort_values('price',ascending=False)"
   ]
  },
  {
   "cell_type": "markdown",
   "metadata": {},
   "source": [
    "## 43.Qual é o bairro que possui, na média, o aluguel mais caro da base de dados?"
   ]
  },
  {
   "cell_type": "code",
   "execution_count": 51,
   "metadata": {
    "ExecuteTime": {
     "end_time": "2022-07-29T12:32:53.581738Z",
     "start_time": "2022-07-29T12:32:53.485511Z"
    }
   },
   "outputs": [
    {
     "data": {
      "text/html": [
       "<div>\n",
       "<style scoped>\n",
       "    .dataframe tbody tr th:only-of-type {\n",
       "        vertical-align: middle;\n",
       "    }\n",
       "\n",
       "    .dataframe tbody tr th {\n",
       "        vertical-align: top;\n",
       "    }\n",
       "\n",
       "    .dataframe thead th {\n",
       "        text-align: right;\n",
       "    }\n",
       "</style>\n",
       "<table border=\"1\" class=\"dataframe\">\n",
       "  <thead>\n",
       "    <tr style=\"text-align: right;\">\n",
       "      <th></th>\n",
       "      <th>price</th>\n",
       "    </tr>\n",
       "    <tr>\n",
       "      <th>neighbourhood</th>\n",
       "      <th></th>\n",
       "    </tr>\n",
       "  </thead>\n",
       "  <tbody>\n",
       "    <tr>\n",
       "      <th>Fort Wadsworth</th>\n",
       "      <td>800.000</td>\n",
       "    </tr>\n",
       "    <tr>\n",
       "      <th>Woodrow</th>\n",
       "      <td>700.000</td>\n",
       "    </tr>\n",
       "    <tr>\n",
       "      <th>Tribeca</th>\n",
       "      <td>490.638</td>\n",
       "    </tr>\n",
       "    <tr>\n",
       "      <th>Sea Gate</th>\n",
       "      <td>487.857</td>\n",
       "    </tr>\n",
       "    <tr>\n",
       "      <th>Riverdale</th>\n",
       "      <td>442.091</td>\n",
       "    </tr>\n",
       "    <tr>\n",
       "      <th>...</th>\n",
       "      <td>...</td>\n",
       "    </tr>\n",
       "    <tr>\n",
       "      <th>New Dorp</th>\n",
       "      <td>57.000</td>\n",
       "    </tr>\n",
       "    <tr>\n",
       "      <th>Soundview</th>\n",
       "      <td>53.467</td>\n",
       "    </tr>\n",
       "    <tr>\n",
       "      <th>Tremont</th>\n",
       "      <td>51.545</td>\n",
       "    </tr>\n",
       "    <tr>\n",
       "      <th>Hunts Point</th>\n",
       "      <td>50.500</td>\n",
       "    </tr>\n",
       "    <tr>\n",
       "      <th>Bull's Head</th>\n",
       "      <td>47.333</td>\n",
       "    </tr>\n",
       "  </tbody>\n",
       "</table>\n",
       "<p>221 rows × 1 columns</p>\n",
       "</div>"
      ],
      "text/plain": [
       "                 price\n",
       "neighbourhood         \n",
       "Fort Wadsworth 800.000\n",
       "Woodrow        700.000\n",
       "Tribeca        490.638\n",
       "Sea Gate       487.857\n",
       "Riverdale      442.091\n",
       "...                ...\n",
       "New Dorp        57.000\n",
       "Soundview       53.467\n",
       "Tremont         51.545\n",
       "Hunts Point     50.500\n",
       "Bull's Head     47.333\n",
       "\n",
       "[221 rows x 1 columns]"
      ]
     },
     "execution_count": 51,
     "metadata": {},
     "output_type": "execute_result"
    }
   ],
   "source": [
    "df[['price','neighbourhood']].groupby('neighbourhood').mean().sort_values('price',ascending=False)"
   ]
  },
  {
   "cell_type": "markdown",
   "metadata": {},
   "source": [
    "## 44.Qual o melhor bairro para se adquirir um imóvel, visando o maior valor de aluguel, quantidade de revisões feitas ao longo do tempo e quantidade de revisões mensais? Utilize a seguinte fórmula para verificar qual o melhor imóvel:\n",
    "\n",
    "𝑟𝑒𝑛𝑡𝑎𝑏𝑖𝑙𝑖𝑑𝑎𝑑𝑒 = ( 𝑝𝑟𝑖𝑐𝑒 * (𝑚𝑖𝑛𝑖𝑚𝑢𝑚_𝑛𝑖𝑔ℎ𝑡𝑠 + 1) * 𝑛𝑢𝑚𝑏𝑒𝑟_𝑜𝑓_𝑟𝑒𝑣𝑖𝑒𝑤𝑠 ) / 𝑎𝑣𝑎𝑖𝑙𝑎𝑏𝑖𝑙𝑖𝑡𝑦_365"
   ]
  },
  {
   "cell_type": "code",
   "execution_count": 52,
   "metadata": {
    "ExecuteTime": {
     "end_time": "2022-07-29T12:32:53.779437Z",
     "start_time": "2022-07-29T12:32:53.588905Z"
    }
   },
   "outputs": [
    {
     "name": "stderr",
     "output_type": "stream",
     "text": [
      "/tmp/ipykernel_3968/1393305282.py:2: SettingWithCopyWarning: \n",
      "A value is trying to be set on a copy of a slice from a DataFrame.\n",
      "Try using .loc[row_indexer,col_indexer] = value instead\n",
      "\n",
      "See the caveats in the documentation: https://pandas.pydata.org/pandas-docs/stable/user_guide/indexing.html#returning-a-view-versus-a-copy\n",
      "  df_novo['rentabilidade'] = ( df_novo['price'] * (( df_novo['minimum_nights'] + 1 ) * df_novo['number_of_reviews'] )) / np.sqrt(df_novo['availability_365'])\n"
     ]
    },
    {
     "data": {
      "text/html": [
       "<div>\n",
       "<style scoped>\n",
       "    .dataframe tbody tr th:only-of-type {\n",
       "        vertical-align: middle;\n",
       "    }\n",
       "\n",
       "    .dataframe tbody tr th {\n",
       "        vertical-align: top;\n",
       "    }\n",
       "\n",
       "    .dataframe thead th {\n",
       "        text-align: right;\n",
       "    }\n",
       "</style>\n",
       "<table border=\"1\" class=\"dataframe\">\n",
       "  <thead>\n",
       "    <tr style=\"text-align: right;\">\n",
       "      <th></th>\n",
       "      <th>index</th>\n",
       "      <th>id</th>\n",
       "      <th>name</th>\n",
       "      <th>host_id</th>\n",
       "      <th>host_name</th>\n",
       "      <th>neighbourhood_group</th>\n",
       "      <th>neighbourhood</th>\n",
       "      <th>latitude</th>\n",
       "      <th>longitude</th>\n",
       "      <th>room_type</th>\n",
       "      <th>price</th>\n",
       "      <th>minimum_nights</th>\n",
       "      <th>number_of_reviews</th>\n",
       "      <th>last_review</th>\n",
       "      <th>reviews_per_month</th>\n",
       "      <th>calculated_host_listings_count</th>\n",
       "      <th>availability_365</th>\n",
       "      <th>rentabilidade</th>\n",
       "    </tr>\n",
       "  </thead>\n",
       "  <tbody>\n",
       "    <tr>\n",
       "      <th>0</th>\n",
       "      <td>3605</td>\n",
       "      <td>2154075</td>\n",
       "      <td>Brooklyn Charm, Close to Manhattan (30+ Days O...</td>\n",
       "      <td>10992588</td>\n",
       "      <td>Joni</td>\n",
       "      <td>Brooklyn</td>\n",
       "      <td>Bedford-Stuyvesant</td>\n",
       "      <td>40.686</td>\n",
       "      <td>-73.945</td>\n",
       "      <td>Entire home/apt</td>\n",
       "      <td>112</td>\n",
       "      <td>200</td>\n",
       "      <td>314</td>\n",
       "      <td>2019-06-20</td>\n",
       "      <td>4.820</td>\n",
       "      <td>2</td>\n",
       "      <td>42</td>\n",
       "      <td>1090734.583</td>\n",
       "    </tr>\n",
       "    <tr>\n",
       "      <th>1</th>\n",
       "      <td>6375</td>\n",
       "      <td>4644632</td>\n",
       "      <td>Brooklyn Life, Easy to Manhattan (30+ Days only)</td>\n",
       "      <td>10992588</td>\n",
       "      <td>Joni</td>\n",
       "      <td>Brooklyn</td>\n",
       "      <td>Bedford-Stuyvesant</td>\n",
       "      <td>40.688</td>\n",
       "      <td>-73.947</td>\n",
       "      <td>Entire home/apt</td>\n",
       "      <td>130</td>\n",
       "      <td>200</td>\n",
       "      <td>271</td>\n",
       "      <td>2019-07-03</td>\n",
       "      <td>4.840</td>\n",
       "      <td>2</td>\n",
       "      <td>64</td>\n",
       "      <td>885153.750</td>\n",
       "    </tr>\n",
       "    <tr>\n",
       "      <th>2</th>\n",
       "      <td>12342</td>\n",
       "      <td>9528920</td>\n",
       "      <td>Quiet, Clean, Lit @ LES &amp; Chinatown</td>\n",
       "      <td>3906464</td>\n",
       "      <td>Amy</td>\n",
       "      <td>Manhattan</td>\n",
       "      <td>Lower East Side</td>\n",
       "      <td>40.714</td>\n",
       "      <td>-73.985</td>\n",
       "      <td>Private room</td>\n",
       "      <td>9999</td>\n",
       "      <td>99</td>\n",
       "      <td>6</td>\n",
       "      <td>2016-01-01</td>\n",
       "      <td>0.140</td>\n",
       "      <td>1</td>\n",
       "      <td>83</td>\n",
       "      <td>658519.701</td>\n",
       "    </tr>\n",
       "    <tr>\n",
       "      <th>3</th>\n",
       "      <td>9422</td>\n",
       "      <td>7225366</td>\n",
       "      <td>Spacious, Modern Times Square 3Bdrm *****</td>\n",
       "      <td>9288577</td>\n",
       "      <td>Tina</td>\n",
       "      <td>Manhattan</td>\n",
       "      <td>Chelsea</td>\n",
       "      <td>40.749</td>\n",
       "      <td>-73.994</td>\n",
       "      <td>Entire home/apt</td>\n",
       "      <td>450</td>\n",
       "      <td>4</td>\n",
       "      <td>206</td>\n",
       "      <td>2019-07-03</td>\n",
       "      <td>4.240</td>\n",
       "      <td>1</td>\n",
       "      <td>1</td>\n",
       "      <td>463500.000</td>\n",
       "    </tr>\n",
       "    <tr>\n",
       "      <th>4</th>\n",
       "      <td>5499</td>\n",
       "      <td>3979611</td>\n",
       "      <td>Located at the heart of Manhattan</td>\n",
       "      <td>19407840</td>\n",
       "      <td>Peng</td>\n",
       "      <td>Manhattan</td>\n",
       "      <td>Roosevelt Island</td>\n",
       "      <td>40.756</td>\n",
       "      <td>-73.955</td>\n",
       "      <td>Entire home/apt</td>\n",
       "      <td>1400</td>\n",
       "      <td>90</td>\n",
       "      <td>31</td>\n",
       "      <td>2015-12-03</td>\n",
       "      <td>0.530</td>\n",
       "      <td>1</td>\n",
       "      <td>88</td>\n",
       "      <td>421007.455</td>\n",
       "    </tr>\n",
       "  </tbody>\n",
       "</table>\n",
       "</div>"
      ],
      "text/plain": [
       "   index       id                                               name  \\\n",
       "0   3605  2154075  Brooklyn Charm, Close to Manhattan (30+ Days O...   \n",
       "1   6375  4644632   Brooklyn Life, Easy to Manhattan (30+ Days only)   \n",
       "2  12342  9528920                Quiet, Clean, Lit @ LES & Chinatown   \n",
       "3   9422  7225366          Spacious, Modern Times Square 3Bdrm *****   \n",
       "4   5499  3979611                  Located at the heart of Manhattan   \n",
       "\n",
       "    host_id host_name neighbourhood_group       neighbourhood  latitude  \\\n",
       "0  10992588      Joni            Brooklyn  Bedford-Stuyvesant    40.686   \n",
       "1  10992588      Joni            Brooklyn  Bedford-Stuyvesant    40.688   \n",
       "2   3906464       Amy           Manhattan     Lower East Side    40.714   \n",
       "3   9288577      Tina           Manhattan             Chelsea    40.749   \n",
       "4  19407840      Peng           Manhattan    Roosevelt Island    40.756   \n",
       "\n",
       "   longitude        room_type  price  minimum_nights  number_of_reviews  \\\n",
       "0    -73.945  Entire home/apt    112             200                314   \n",
       "1    -73.947  Entire home/apt    130             200                271   \n",
       "2    -73.985     Private room   9999              99                  6   \n",
       "3    -73.994  Entire home/apt    450               4                206   \n",
       "4    -73.955  Entire home/apt   1400              90                 31   \n",
       "\n",
       "  last_review  reviews_per_month  calculated_host_listings_count  \\\n",
       "0  2019-06-20              4.820                               2   \n",
       "1  2019-07-03              4.840                               2   \n",
       "2  2016-01-01              0.140                               1   \n",
       "3  2019-07-03              4.240                               1   \n",
       "4  2015-12-03              0.530                               1   \n",
       "\n",
       "   availability_365  rentabilidade  \n",
       "0                42    1090734.583  \n",
       "1                64     885153.750  \n",
       "2                83     658519.701  \n",
       "3                 1     463500.000  \n",
       "4                88     421007.455  "
      ]
     },
     "execution_count": 52,
     "metadata": {},
     "output_type": "execute_result"
    }
   ],
   "source": [
    "df_novo = df.loc[ (df['number_of_reviews'] > 0)  & (df['price'] > 0) & (df['availability_365'] > 0)]\n",
    "df_novo['rentabilidade'] = ( df_novo['price'] * (( df_novo['minimum_nights'] + 1 ) * df_novo['number_of_reviews'] )) / np.sqrt(df_novo['availability_365'])\n",
    "df_novo.sort_values('rentabilidade',ascending=False).reset_index().head()"
   ]
  },
  {
   "cell_type": "markdown",
   "metadata": {
    "ExecuteTime": {
     "end_time": "2022-07-27T19:24:08.704213Z",
     "start_time": "2022-07-27T19:24:08.657846Z"
    }
   },
   "source": [
    "## 45.Qual a região em que fica o melhor bairro para se adquirir um imóvel, visando a melhor rentabilidade média? Utilize como métrica o índice criado na questão anterior."
   ]
  },
  {
   "cell_type": "code",
   "execution_count": 53,
   "metadata": {
    "ExecuteTime": {
     "end_time": "2022-07-29T12:32:53.946045Z",
     "start_time": "2022-07-29T12:32:53.782431Z"
    }
   },
   "outputs": [
    {
     "data": {
      "text/html": [
       "<div>\n",
       "<style scoped>\n",
       "    .dataframe tbody tr th:only-of-type {\n",
       "        vertical-align: middle;\n",
       "    }\n",
       "\n",
       "    .dataframe tbody tr th {\n",
       "        vertical-align: top;\n",
       "    }\n",
       "\n",
       "    .dataframe thead th {\n",
       "        text-align: right;\n",
       "    }\n",
       "</style>\n",
       "<table border=\"1\" class=\"dataframe\">\n",
       "  <thead>\n",
       "    <tr style=\"text-align: right;\">\n",
       "      <th></th>\n",
       "      <th></th>\n",
       "      <th>rentabilidade</th>\n",
       "    </tr>\n",
       "    <tr>\n",
       "      <th>neighbourhood_group</th>\n",
       "      <th>neighbourhood</th>\n",
       "      <th></th>\n",
       "    </tr>\n",
       "  </thead>\n",
       "  <tbody>\n",
       "    <tr>\n",
       "      <th rowspan=\"5\" valign=\"top\">Manhattan</th>\n",
       "      <th>Roosevelt Island</th>\n",
       "      <td>14897.288</td>\n",
       "    </tr>\n",
       "    <tr>\n",
       "      <th>Nolita</th>\n",
       "      <td>7499.069</td>\n",
       "    </tr>\n",
       "    <tr>\n",
       "      <th>Tribeca</th>\n",
       "      <td>7120.670</td>\n",
       "    </tr>\n",
       "    <tr>\n",
       "      <th>Greenwich Village</th>\n",
       "      <td>6139.157</td>\n",
       "    </tr>\n",
       "    <tr>\n",
       "      <th>Chelsea</th>\n",
       "      <td>6064.488</td>\n",
       "    </tr>\n",
       "    <tr>\n",
       "      <th>...</th>\n",
       "      <th>...</th>\n",
       "      <td>...</td>\n",
       "    </tr>\n",
       "    <tr>\n",
       "      <th>Staten Island</th>\n",
       "      <th>Port Richmond</th>\n",
       "      <td>142.423</td>\n",
       "    </tr>\n",
       "    <tr>\n",
       "      <th>Queens</th>\n",
       "      <th>Breezy Point</th>\n",
       "      <td>87.051</td>\n",
       "    </tr>\n",
       "    <tr>\n",
       "      <th>Bronx</th>\n",
       "      <th>West Farms</th>\n",
       "      <td>73.942</td>\n",
       "    </tr>\n",
       "    <tr>\n",
       "      <th>Queens</th>\n",
       "      <th>Little Neck</th>\n",
       "      <td>56.393</td>\n",
       "    </tr>\n",
       "    <tr>\n",
       "      <th>Staten Island</th>\n",
       "      <th>Oakwood</th>\n",
       "      <td>32.544</td>\n",
       "    </tr>\n",
       "  </tbody>\n",
       "</table>\n",
       "<p>217 rows × 1 columns</p>\n",
       "</div>"
      ],
      "text/plain": [
       "                                       rentabilidade\n",
       "neighbourhood_group neighbourhood                   \n",
       "Manhattan           Roosevelt Island       14897.288\n",
       "                    Nolita                  7499.069\n",
       "                    Tribeca                 7120.670\n",
       "                    Greenwich Village       6139.157\n",
       "                    Chelsea                 6064.488\n",
       "...                                              ...\n",
       "Staten Island       Port Richmond            142.423\n",
       "Queens              Breezy Point              87.051\n",
       "Bronx               West Farms                73.942\n",
       "Queens              Little Neck               56.393\n",
       "Staten Island       Oakwood                   32.544\n",
       "\n",
       "[217 rows x 1 columns]"
      ]
     },
     "execution_count": 53,
     "metadata": {},
     "output_type": "execute_result"
    }
   ],
   "source": [
    "df_novo[['rentabilidade','neighbourhood_group','neighbourhood']].groupby(['neighbourhood_group','neighbourhood']).mean().sort_values('rentabilidade',ascending=False)"
   ]
  },
  {
   "cell_type": "markdown",
   "metadata": {},
   "source": [
    "## 46.Qual a região em que fica o pior bairro para se adquirir um imóvel, visando a melhor rentabilidade média?  Utilize como métrica o índice criado na questão 44."
   ]
  },
  {
   "cell_type": "code",
   "execution_count": 54,
   "metadata": {
    "ExecuteTime": {
     "end_time": "2022-07-29T12:32:54.045345Z",
     "start_time": "2022-07-29T12:32:53.950824Z"
    }
   },
   "outputs": [
    {
     "data": {
      "text/html": [
       "<div>\n",
       "<style scoped>\n",
       "    .dataframe tbody tr th:only-of-type {\n",
       "        vertical-align: middle;\n",
       "    }\n",
       "\n",
       "    .dataframe tbody tr th {\n",
       "        vertical-align: top;\n",
       "    }\n",
       "\n",
       "    .dataframe thead th {\n",
       "        text-align: right;\n",
       "    }\n",
       "</style>\n",
       "<table border=\"1\" class=\"dataframe\">\n",
       "  <thead>\n",
       "    <tr style=\"text-align: right;\">\n",
       "      <th></th>\n",
       "      <th></th>\n",
       "      <th>rentabilidade</th>\n",
       "    </tr>\n",
       "    <tr>\n",
       "      <th>neighbourhood_group</th>\n",
       "      <th>neighbourhood</th>\n",
       "      <th></th>\n",
       "    </tr>\n",
       "  </thead>\n",
       "  <tbody>\n",
       "    <tr>\n",
       "      <th>Staten Island</th>\n",
       "      <th>Oakwood</th>\n",
       "      <td>32.544</td>\n",
       "    </tr>\n",
       "    <tr>\n",
       "      <th>Queens</th>\n",
       "      <th>Little Neck</th>\n",
       "      <td>56.393</td>\n",
       "    </tr>\n",
       "    <tr>\n",
       "      <th>Bronx</th>\n",
       "      <th>West Farms</th>\n",
       "      <td>73.942</td>\n",
       "    </tr>\n",
       "    <tr>\n",
       "      <th>Queens</th>\n",
       "      <th>Breezy Point</th>\n",
       "      <td>87.051</td>\n",
       "    </tr>\n",
       "    <tr>\n",
       "      <th>Staten Island</th>\n",
       "      <th>Port Richmond</th>\n",
       "      <td>142.423</td>\n",
       "    </tr>\n",
       "    <tr>\n",
       "      <th>...</th>\n",
       "      <th>...</th>\n",
       "      <td>...</td>\n",
       "    </tr>\n",
       "    <tr>\n",
       "      <th rowspan=\"5\" valign=\"top\">Manhattan</th>\n",
       "      <th>Chelsea</th>\n",
       "      <td>6064.488</td>\n",
       "    </tr>\n",
       "    <tr>\n",
       "      <th>Greenwich Village</th>\n",
       "      <td>6139.157</td>\n",
       "    </tr>\n",
       "    <tr>\n",
       "      <th>Tribeca</th>\n",
       "      <td>7120.670</td>\n",
       "    </tr>\n",
       "    <tr>\n",
       "      <th>Nolita</th>\n",
       "      <td>7499.069</td>\n",
       "    </tr>\n",
       "    <tr>\n",
       "      <th>Roosevelt Island</th>\n",
       "      <td>14897.288</td>\n",
       "    </tr>\n",
       "  </tbody>\n",
       "</table>\n",
       "<p>217 rows × 1 columns</p>\n",
       "</div>"
      ],
      "text/plain": [
       "                                       rentabilidade\n",
       "neighbourhood_group neighbourhood                   \n",
       "Staten Island       Oakwood                   32.544\n",
       "Queens              Little Neck               56.393\n",
       "Bronx               West Farms                73.942\n",
       "Queens              Breezy Point              87.051\n",
       "Staten Island       Port Richmond            142.423\n",
       "...                                              ...\n",
       "Manhattan           Chelsea                 6064.488\n",
       "                    Greenwich Village       6139.157\n",
       "                    Tribeca                 7120.670\n",
       "                    Nolita                  7499.069\n",
       "                    Roosevelt Island       14897.288\n",
       "\n",
       "[217 rows x 1 columns]"
      ]
     },
     "execution_count": 54,
     "metadata": {},
     "output_type": "execute_result"
    }
   ],
   "source": [
    "df_novo[['rentabilidade','neighbourhood_group','neighbourhood']].groupby(['neighbourhood_group','neighbourhood']).mean().sort_values('rentabilidade',ascending=True)"
   ]
  },
  {
   "cell_type": "markdown",
   "metadata": {},
   "source": [
    "## 47.Levando em conta o bairro encontrado na questão anterior, verifique qual é o `id` do imóvel ativo que possui a pior rentabilidade desse bairro"
   ]
  },
  {
   "cell_type": "code",
   "execution_count": 55,
   "metadata": {
    "ExecuteTime": {
     "end_time": "2022-07-29T12:32:54.152050Z",
     "start_time": "2022-07-29T12:32:54.047848Z"
    }
   },
   "outputs": [
    {
     "data": {
      "text/html": [
       "<div>\n",
       "<style scoped>\n",
       "    .dataframe tbody tr th:only-of-type {\n",
       "        vertical-align: middle;\n",
       "    }\n",
       "\n",
       "    .dataframe tbody tr th {\n",
       "        vertical-align: top;\n",
       "    }\n",
       "\n",
       "    .dataframe thead th {\n",
       "        text-align: right;\n",
       "    }\n",
       "</style>\n",
       "<table border=\"1\" class=\"dataframe\">\n",
       "  <thead>\n",
       "    <tr style=\"text-align: right;\">\n",
       "      <th></th>\n",
       "      <th>index</th>\n",
       "      <th>id</th>\n",
       "      <th>name</th>\n",
       "      <th>host_id</th>\n",
       "      <th>host_name</th>\n",
       "      <th>neighbourhood_group</th>\n",
       "      <th>neighbourhood</th>\n",
       "      <th>latitude</th>\n",
       "      <th>longitude</th>\n",
       "      <th>room_type</th>\n",
       "      <th>price</th>\n",
       "      <th>minimum_nights</th>\n",
       "      <th>number_of_reviews</th>\n",
       "      <th>last_review</th>\n",
       "      <th>reviews_per_month</th>\n",
       "      <th>calculated_host_listings_count</th>\n",
       "      <th>availability_365</th>\n",
       "      <th>rentabilidade</th>\n",
       "    </tr>\n",
       "  </thead>\n",
       "  <tbody>\n",
       "    <tr>\n",
       "      <th>0</th>\n",
       "      <td>44777</td>\n",
       "      <td>34396747</td>\n",
       "      <td>Double Room</td>\n",
       "      <td>95570540</td>\n",
       "      <td>Eileen</td>\n",
       "      <td>Staten Island</td>\n",
       "      <td>Oakwood</td>\n",
       "      <td>40.559</td>\n",
       "      <td>-74.120</td>\n",
       "      <td>Private room</td>\n",
       "      <td>65</td>\n",
       "      <td>1</td>\n",
       "      <td>1</td>\n",
       "      <td>2019-06-14</td>\n",
       "      <td>1.000</td>\n",
       "      <td>3</td>\n",
       "      <td>364</td>\n",
       "      <td>6.814</td>\n",
       "    </tr>\n",
       "    <tr>\n",
       "      <th>1</th>\n",
       "      <td>44583</td>\n",
       "      <td>34312163</td>\n",
       "      <td>Queen Room</td>\n",
       "      <td>95570540</td>\n",
       "      <td>Eileen</td>\n",
       "      <td>Staten Island</td>\n",
       "      <td>Oakwood</td>\n",
       "      <td>40.560</td>\n",
       "      <td>-74.120</td>\n",
       "      <td>Private room</td>\n",
       "      <td>65</td>\n",
       "      <td>1</td>\n",
       "      <td>1</td>\n",
       "      <td>2019-06-28</td>\n",
       "      <td>1.000</td>\n",
       "      <td>3</td>\n",
       "      <td>179</td>\n",
       "      <td>9.717</td>\n",
       "    </tr>\n",
       "    <tr>\n",
       "      <th>2</th>\n",
       "      <td>44703</td>\n",
       "      <td>34368051</td>\n",
       "      <td>Home Away from Home</td>\n",
       "      <td>95570540</td>\n",
       "      <td>Eileen</td>\n",
       "      <td>Staten Island</td>\n",
       "      <td>Oakwood</td>\n",
       "      <td>40.561</td>\n",
       "      <td>-74.120</td>\n",
       "      <td>Entire home/apt</td>\n",
       "      <td>130</td>\n",
       "      <td>1</td>\n",
       "      <td>1</td>\n",
       "      <td>2019-06-26</td>\n",
       "      <td>1.000</td>\n",
       "      <td>3</td>\n",
       "      <td>363</td>\n",
       "      <td>13.646</td>\n",
       "    </tr>\n",
       "    <tr>\n",
       "      <th>3</th>\n",
       "      <td>19899</td>\n",
       "      <td>15949915</td>\n",
       "      <td>Quiet, Private  3.5 rooms, Manhattan convenient</td>\n",
       "      <td>103545877</td>\n",
       "      <td>Jon</td>\n",
       "      <td>Staten Island</td>\n",
       "      <td>Oakwood</td>\n",
       "      <td>40.562</td>\n",
       "      <td>-74.127</td>\n",
       "      <td>Entire home/apt</td>\n",
       "      <td>100</td>\n",
       "      <td>2</td>\n",
       "      <td>2</td>\n",
       "      <td>2017-01-30</td>\n",
       "      <td>0.060</td>\n",
       "      <td>1</td>\n",
       "      <td>36</td>\n",
       "      <td>100.000</td>\n",
       "    </tr>\n",
       "  </tbody>\n",
       "</table>\n",
       "</div>"
      ],
      "text/plain": [
       "   index        id                                             name  \\\n",
       "0  44777  34396747                                      Double Room   \n",
       "1  44583  34312163                                       Queen Room   \n",
       "2  44703  34368051                              Home Away from Home   \n",
       "3  19899  15949915  Quiet, Private  3.5 rooms, Manhattan convenient   \n",
       "\n",
       "     host_id host_name neighbourhood_group neighbourhood  latitude  longitude  \\\n",
       "0   95570540    Eileen       Staten Island       Oakwood    40.559    -74.120   \n",
       "1   95570540    Eileen       Staten Island       Oakwood    40.560    -74.120   \n",
       "2   95570540    Eileen       Staten Island       Oakwood    40.561    -74.120   \n",
       "3  103545877       Jon       Staten Island       Oakwood    40.562    -74.127   \n",
       "\n",
       "         room_type  price  minimum_nights  number_of_reviews last_review  \\\n",
       "0     Private room     65               1                  1  2019-06-14   \n",
       "1     Private room     65               1                  1  2019-06-28   \n",
       "2  Entire home/apt    130               1                  1  2019-06-26   \n",
       "3  Entire home/apt    100               2                  2  2017-01-30   \n",
       "\n",
       "   reviews_per_month  calculated_host_listings_count  availability_365  \\\n",
       "0              1.000                               3               364   \n",
       "1              1.000                               3               179   \n",
       "2              1.000                               3               363   \n",
       "3              0.060                               1                36   \n",
       "\n",
       "   rentabilidade  \n",
       "0          6.814  \n",
       "1          9.717  \n",
       "2         13.646  \n",
       "3        100.000  "
      ]
     },
     "execution_count": 55,
     "metadata": {},
     "output_type": "execute_result"
    }
   ],
   "source": [
    "df_novo.loc[ (df_novo['neighbourhood_group'] == 'Staten Island' ) & ( df_novo['neighbourhood'] == 'Oakwood' )].sort_values( 'rentabilidade',ascending=True).reset_index()"
   ]
  },
  {
   "cell_type": "markdown",
   "metadata": {},
   "source": [
    "## 48.Levando em conta o bairro encontrado na questão 45, verifique qual o id do imóvel ativo que possui a melhor rentabilidade desse bairro"
   ]
  },
  {
   "cell_type": "code",
   "execution_count": 56,
   "metadata": {
    "ExecuteTime": {
     "end_time": "2022-07-29T12:32:54.328978Z",
     "start_time": "2022-07-29T12:32:54.160331Z"
    }
   },
   "outputs": [
    {
     "data": {
      "text/html": [
       "<div>\n",
       "<style scoped>\n",
       "    .dataframe tbody tr th:only-of-type {\n",
       "        vertical-align: middle;\n",
       "    }\n",
       "\n",
       "    .dataframe tbody tr th {\n",
       "        vertical-align: top;\n",
       "    }\n",
       "\n",
       "    .dataframe thead th {\n",
       "        text-align: right;\n",
       "    }\n",
       "</style>\n",
       "<table border=\"1\" class=\"dataframe\">\n",
       "  <thead>\n",
       "    <tr style=\"text-align: right;\">\n",
       "      <th></th>\n",
       "      <th>index</th>\n",
       "      <th>id</th>\n",
       "      <th>name</th>\n",
       "      <th>host_id</th>\n",
       "      <th>host_name</th>\n",
       "      <th>neighbourhood_group</th>\n",
       "      <th>neighbourhood</th>\n",
       "      <th>latitude</th>\n",
       "      <th>longitude</th>\n",
       "      <th>room_type</th>\n",
       "      <th>price</th>\n",
       "      <th>minimum_nights</th>\n",
       "      <th>number_of_reviews</th>\n",
       "      <th>last_review</th>\n",
       "      <th>reviews_per_month</th>\n",
       "      <th>calculated_host_listings_count</th>\n",
       "      <th>availability_365</th>\n",
       "      <th>rentabilidade</th>\n",
       "    </tr>\n",
       "  </thead>\n",
       "  <tbody>\n",
       "    <tr>\n",
       "      <th>0</th>\n",
       "      <td>5499</td>\n",
       "      <td>3979611</td>\n",
       "      <td>Located at the heart of Manhattan</td>\n",
       "      <td>19407840</td>\n",
       "      <td>Peng</td>\n",
       "      <td>Manhattan</td>\n",
       "      <td>Roosevelt Island</td>\n",
       "      <td>40.756</td>\n",
       "      <td>-73.955</td>\n",
       "      <td>Entire home/apt</td>\n",
       "      <td>1400</td>\n",
       "      <td>90</td>\n",
       "      <td>31</td>\n",
       "      <td>2015-12-03</td>\n",
       "      <td>0.530</td>\n",
       "      <td>1</td>\n",
       "      <td>88</td>\n",
       "      <td>421007.455</td>\n",
       "    </tr>\n",
       "    <tr>\n",
       "      <th>1</th>\n",
       "      <td>2617</td>\n",
       "      <td>1367775</td>\n",
       "      <td>Furnished room with private bathroom</td>\n",
       "      <td>7419960</td>\n",
       "      <td>Marilyn</td>\n",
       "      <td>Manhattan</td>\n",
       "      <td>Roosevelt Island</td>\n",
       "      <td>40.762</td>\n",
       "      <td>-73.950</td>\n",
       "      <td>Private room</td>\n",
       "      <td>54</td>\n",
       "      <td>30</td>\n",
       "      <td>5</td>\n",
       "      <td>2018-08-18</td>\n",
       "      <td>0.150</td>\n",
       "      <td>1</td>\n",
       "      <td>2</td>\n",
       "      <td>5918.484</td>\n",
       "    </tr>\n",
       "    <tr>\n",
       "      <th>2</th>\n",
       "      <td>31368</td>\n",
       "      <td>24374428</td>\n",
       "      <td>Quiet two BEDROOM APT in MANHATTAN UPPER EAST ...</td>\n",
       "      <td>183950956</td>\n",
       "      <td>Dante</td>\n",
       "      <td>Manhattan</td>\n",
       "      <td>Roosevelt Island</td>\n",
       "      <td>40.759</td>\n",
       "      <td>-73.951</td>\n",
       "      <td>Entire home/apt</td>\n",
       "      <td>220</td>\n",
       "      <td>1</td>\n",
       "      <td>76</td>\n",
       "      <td>2019-06-24</td>\n",
       "      <td>5.300</td>\n",
       "      <td>1</td>\n",
       "      <td>60</td>\n",
       "      <td>4317.085</td>\n",
       "    </tr>\n",
       "    <tr>\n",
       "      <th>3</th>\n",
       "      <td>28055</td>\n",
       "      <td>21913309</td>\n",
       "      <td>One nice room on the Roosevelt Island; 罗岛一间卧室出租</td>\n",
       "      <td>159884558</td>\n",
       "      <td>Lily</td>\n",
       "      <td>Manhattan</td>\n",
       "      <td>Roosevelt Island</td>\n",
       "      <td>40.762</td>\n",
       "      <td>-73.949</td>\n",
       "      <td>Private room</td>\n",
       "      <td>45</td>\n",
       "      <td>25</td>\n",
       "      <td>37</td>\n",
       "      <td>2018-07-01</td>\n",
       "      <td>1.890</td>\n",
       "      <td>1</td>\n",
       "      <td>149</td>\n",
       "      <td>3546.455</td>\n",
       "    </tr>\n",
       "    <tr>\n",
       "      <th>4</th>\n",
       "      <td>9285</td>\n",
       "      <td>7093920</td>\n",
       "      <td>Roosevelt Island Charm</td>\n",
       "      <td>37181980</td>\n",
       "      <td>Svetlana</td>\n",
       "      <td>Manhattan</td>\n",
       "      <td>Roosevelt Island</td>\n",
       "      <td>40.762</td>\n",
       "      <td>-73.949</td>\n",
       "      <td>Private room</td>\n",
       "      <td>83</td>\n",
       "      <td>2</td>\n",
       "      <td>178</td>\n",
       "      <td>2019-07-05</td>\n",
       "      <td>3.720</td>\n",
       "      <td>1</td>\n",
       "      <td>255</td>\n",
       "      <td>2775.551</td>\n",
       "    </tr>\n",
       "  </tbody>\n",
       "</table>\n",
       "</div>"
      ],
      "text/plain": [
       "   index        id                                               name  \\\n",
       "0   5499   3979611                  Located at the heart of Manhattan   \n",
       "1   2617   1367775               Furnished room with private bathroom   \n",
       "2  31368  24374428  Quiet two BEDROOM APT in MANHATTAN UPPER EAST ...   \n",
       "3  28055  21913309    One nice room on the Roosevelt Island; 罗岛一间卧室出租   \n",
       "4   9285   7093920                             Roosevelt Island Charm   \n",
       "\n",
       "     host_id host_name neighbourhood_group     neighbourhood  latitude  \\\n",
       "0   19407840      Peng           Manhattan  Roosevelt Island    40.756   \n",
       "1    7419960   Marilyn           Manhattan  Roosevelt Island    40.762   \n",
       "2  183950956     Dante           Manhattan  Roosevelt Island    40.759   \n",
       "3  159884558      Lily           Manhattan  Roosevelt Island    40.762   \n",
       "4   37181980  Svetlana           Manhattan  Roosevelt Island    40.762   \n",
       "\n",
       "   longitude        room_type  price  minimum_nights  number_of_reviews  \\\n",
       "0    -73.955  Entire home/apt   1400              90                 31   \n",
       "1    -73.950     Private room     54              30                  5   \n",
       "2    -73.951  Entire home/apt    220               1                 76   \n",
       "3    -73.949     Private room     45              25                 37   \n",
       "4    -73.949     Private room     83               2                178   \n",
       "\n",
       "  last_review  reviews_per_month  calculated_host_listings_count  \\\n",
       "0  2015-12-03              0.530                               1   \n",
       "1  2018-08-18              0.150                               1   \n",
       "2  2019-06-24              5.300                               1   \n",
       "3  2018-07-01              1.890                               1   \n",
       "4  2019-07-05              3.720                               1   \n",
       "\n",
       "   availability_365  rentabilidade  \n",
       "0                88     421007.455  \n",
       "1                 2       5918.484  \n",
       "2                60       4317.085  \n",
       "3               149       3546.455  \n",
       "4               255       2775.551  "
      ]
     },
     "execution_count": 56,
     "metadata": {},
     "output_type": "execute_result"
    }
   ],
   "source": [
    "df_novo.loc[ df_novo['neighbourhood'] == 'Roosevelt Island' ].sort_values( 'rentabilidade' , ascending=False ).reset_index().head()"
   ]
  },
  {
   "cell_type": "markdown",
   "metadata": {},
   "source": [
    "## 49.Caso eu, investidor, compre o imóvel da questão anterior com um investimento de 1.000.000,00, quantas vezes eu teria que locá-lo para ter o retorno do investimento feito? Utilize a fórmula abaixo para calcular o tempo de retorno do investimento \n",
    "\n",
    "𝑟𝑒𝑡𝑢𝑟𝑛_𝑖𝑛𝑣𝑒𝑠𝑡𝑚𝑒𝑛𝑡 =          𝑖𝑛𝑣𝑒𝑠𝑡𝑚𝑒𝑛𝑡  /  𝑝𝑟𝑖𝑐𝑒 * (𝑚𝑖𝑛𝑖𝑚𝑢𝑚_𝑛𝑖𝑔ℎ𝑡𝑠 + 1)"
   ]
  },
  {
   "cell_type": "code",
   "execution_count": 57,
   "metadata": {
    "ExecuteTime": {
     "end_time": "2022-07-29T12:32:54.501347Z",
     "start_time": "2022-07-29T12:32:54.334107Z"
    }
   },
   "outputs": [
    {
     "name": "stdout",
     "output_type": "stream",
     "text": [
      "5499   7.850\n",
      "dtype: float64\n"
     ]
    }
   ],
   "source": [
    "df_best_invest = df_novo.loc[df_novo['id']  == 3979611 ]\n",
    "return_investiment = 1000000.00 / ( df_best_invest['price'] * ( df_best_invest['minimum_nights'] + 1))\n",
    "print( np.round( return_investiment, 2 ) )"
   ]
  },
  {
   "cell_type": "code",
   "execution_count": 58,
   "metadata": {
    "ExecuteTime": {
     "end_time": "2022-07-29T12:32:54.746207Z",
     "start_time": "2022-07-29T12:32:54.508240Z"
    }
   },
   "outputs": [
    {
     "data": {
      "text/html": [
       "<div>\n",
       "<style scoped>\n",
       "    .dataframe tbody tr th:only-of-type {\n",
       "        vertical-align: middle;\n",
       "    }\n",
       "\n",
       "    .dataframe tbody tr th {\n",
       "        vertical-align: top;\n",
       "    }\n",
       "\n",
       "    .dataframe thead th {\n",
       "        text-align: right;\n",
       "    }\n",
       "</style>\n",
       "<table border=\"1\" class=\"dataframe\">\n",
       "  <thead>\n",
       "    <tr style=\"text-align: right;\">\n",
       "      <th></th>\n",
       "      <th>id</th>\n",
       "      <th>name</th>\n",
       "      <th>host_id</th>\n",
       "      <th>host_name</th>\n",
       "      <th>neighbourhood_group</th>\n",
       "      <th>neighbourhood</th>\n",
       "      <th>latitude</th>\n",
       "      <th>longitude</th>\n",
       "      <th>room_type</th>\n",
       "      <th>price</th>\n",
       "      <th>minimum_nights</th>\n",
       "      <th>number_of_reviews</th>\n",
       "      <th>last_review</th>\n",
       "      <th>reviews_per_month</th>\n",
       "      <th>calculated_host_listings_count</th>\n",
       "      <th>availability_365</th>\n",
       "      <th>rentabilidade</th>\n",
       "    </tr>\n",
       "  </thead>\n",
       "  <tbody>\n",
       "    <tr>\n",
       "      <th>5499</th>\n",
       "      <td>3979611</td>\n",
       "      <td>Located at the heart of Manhattan</td>\n",
       "      <td>19407840</td>\n",
       "      <td>Peng</td>\n",
       "      <td>Manhattan</td>\n",
       "      <td>Roosevelt Island</td>\n",
       "      <td>40.756</td>\n",
       "      <td>-73.955</td>\n",
       "      <td>Entire home/apt</td>\n",
       "      <td>1400</td>\n",
       "      <td>90</td>\n",
       "      <td>31</td>\n",
       "      <td>2015-12-03</td>\n",
       "      <td>0.530</td>\n",
       "      <td>1</td>\n",
       "      <td>88</td>\n",
       "      <td>421007.455</td>\n",
       "    </tr>\n",
       "  </tbody>\n",
       "</table>\n",
       "</div>"
      ],
      "text/plain": [
       "           id                               name   host_id host_name  \\\n",
       "5499  3979611  Located at the heart of Manhattan  19407840      Peng   \n",
       "\n",
       "     neighbourhood_group     neighbourhood  latitude  longitude  \\\n",
       "5499           Manhattan  Roosevelt Island    40.756    -73.955   \n",
       "\n",
       "            room_type  price  minimum_nights  number_of_reviews last_review  \\\n",
       "5499  Entire home/apt   1400              90                 31  2015-12-03   \n",
       "\n",
       "      reviews_per_month  calculated_host_listings_count  availability_365  \\\n",
       "5499              0.530                               1                88   \n",
       "\n",
       "      rentabilidade  \n",
       "5499     421007.455  "
      ]
     },
     "execution_count": 58,
     "metadata": {},
     "output_type": "execute_result"
    }
   ],
   "source": [
    "df_best_invest\n"
   ]
  },
  {
   "cell_type": "markdown",
   "metadata": {},
   "source": [
    "## 50. Se eu desejasse comprar um imóvel que esteja ativo em um dos bairros abaixo, qual seria o `id` do imóvel com a melhor rentabilidade dentre esses bairros? Utilize o índice calculado na questão 44."
   ]
  },
  {
   "cell_type": "code",
   "execution_count": 59,
   "metadata": {
    "ExecuteTime": {
     "end_time": "2022-07-29T12:32:55.173099Z",
     "start_time": "2022-07-29T12:32:54.749886Z"
    }
   },
   "outputs": [
    {
     "name": "stderr",
     "output_type": "stream",
     "text": [
      "/tmp/ipykernel_3968/4222319957.py:2: FutureWarning: Dropping of nuisance columns in DataFrame reductions (with 'numeric_only=None') is deprecated; in a future version this will raise TypeError.  Select only valid columns before calling the reduction.\n",
      "  df2 = df_novo.loc[ df_novo['neighbourhood'] == 'Harlem' ].max()\n"
     ]
    },
    {
     "data": {
      "text/html": [
       "<div>\n",
       "<style scoped>\n",
       "    .dataframe tbody tr th:only-of-type {\n",
       "        vertical-align: middle;\n",
       "    }\n",
       "\n",
       "    .dataframe tbody tr th {\n",
       "        vertical-align: top;\n",
       "    }\n",
       "\n",
       "    .dataframe thead th {\n",
       "        text-align: right;\n",
       "    }\n",
       "</style>\n",
       "<table border=\"1\" class=\"dataframe\">\n",
       "  <thead>\n",
       "    <tr style=\"text-align: right;\">\n",
       "      <th></th>\n",
       "      <th>id</th>\n",
       "      <th>name</th>\n",
       "      <th>host_id</th>\n",
       "      <th>host_name</th>\n",
       "      <th>neighbourhood_group</th>\n",
       "      <th>neighbourhood</th>\n",
       "      <th>latitude</th>\n",
       "      <th>longitude</th>\n",
       "      <th>room_type</th>\n",
       "      <th>price</th>\n",
       "      <th>minimum_nights</th>\n",
       "      <th>number_of_reviews</th>\n",
       "      <th>last_review</th>\n",
       "      <th>reviews_per_month</th>\n",
       "      <th>calculated_host_listings_count</th>\n",
       "      <th>availability_365</th>\n",
       "      <th>rentabilidade</th>\n",
       "    </tr>\n",
       "  </thead>\n",
       "  <tbody>\n",
       "    <tr>\n",
       "      <th>0</th>\n",
       "      <td>36205674</td>\n",
       "      <td>★ UES | Cozy bedroom near LGA, free coffee &amp; tea!</td>\n",
       "      <td>271432195</td>\n",
       "      <td>Zoila</td>\n",
       "      <td>Manhattan</td>\n",
       "      <td>East Harlem</td>\n",
       "      <td>40.817</td>\n",
       "      <td>-73.931</td>\n",
       "      <td>Shared room</td>\n",
       "      <td>1500</td>\n",
       "      <td>32</td>\n",
       "      <td>325</td>\n",
       "      <td>2019-07-07</td>\n",
       "      <td>8.060</td>\n",
       "      <td>103</td>\n",
       "      <td>365</td>\n",
       "      <td>90254.919</td>\n",
       "    </tr>\n",
       "    <tr>\n",
       "      <th>1</th>\n",
       "      <td>36235154</td>\n",
       "      <td>⭐️Harlem getaway w/ great amenities</td>\n",
       "      <td>271029539</td>\n",
       "      <td>NaN</td>\n",
       "      <td>Manhattan</td>\n",
       "      <td>Harlem</td>\n",
       "      <td>40.834</td>\n",
       "      <td>-73.935</td>\n",
       "      <td>Shared room</td>\n",
       "      <td>5000</td>\n",
       "      <td>999</td>\n",
       "      <td>607</td>\n",
       "      <td>2019-07-08</td>\n",
       "      <td>9.290</td>\n",
       "      <td>103</td>\n",
       "      <td>365</td>\n",
       "      <td>194435.504</td>\n",
       "    </tr>\n",
       "    <tr>\n",
       "      <th>2</th>\n",
       "      <td>36318560</td>\n",
       "      <td>➖PRIVATE ROOFTOP ➖ LUXURY LIVING IN NEW YORK C...</td>\n",
       "      <td>269585762</td>\n",
       "      <td>Zoie + Chris</td>\n",
       "      <td>Manhattan</td>\n",
       "      <td>Midtown</td>\n",
       "      <td>40.768</td>\n",
       "      <td>-73.961</td>\n",
       "      <td>Shared room</td>\n",
       "      <td>5100</td>\n",
       "      <td>365</td>\n",
       "      <td>275</td>\n",
       "      <td>2019-07-07</td>\n",
       "      <td>11.140</td>\n",
       "      <td>232</td>\n",
       "      <td>365</td>\n",
       "      <td>310182.009</td>\n",
       "    </tr>\n",
       "    <tr>\n",
       "      <th>3</th>\n",
       "      <td>35645630</td>\n",
       "      <td>哥伦比亚大学附近步行3分钟高档公寓主卧暑期降价转租</td>\n",
       "      <td>264495166</td>\n",
       "      <td>Wenfei</td>\n",
       "      <td>Manhattan</td>\n",
       "      <td>Morningside Heights</td>\n",
       "      <td>40.817</td>\n",
       "      <td>-73.955</td>\n",
       "      <td>Private room</td>\n",
       "      <td>450</td>\n",
       "      <td>31</td>\n",
       "      <td>233</td>\n",
       "      <td>2019-07-07</td>\n",
       "      <td>10.000</td>\n",
       "      <td>12</td>\n",
       "      <td>365</td>\n",
       "      <td>24793.522</td>\n",
       "    </tr>\n",
       "    <tr>\n",
       "      <th>4</th>\n",
       "      <td>36351128</td>\n",
       "      <td>曼哈顿108街转租!</td>\n",
       "      <td>273361532</td>\n",
       "      <td>思铨</td>\n",
       "      <td>Manhattan</td>\n",
       "      <td>Upper West Side</td>\n",
       "      <td>40.804</td>\n",
       "      <td>-73.959</td>\n",
       "      <td>Shared room</td>\n",
       "      <td>6000</td>\n",
       "      <td>300</td>\n",
       "      <td>401</td>\n",
       "      <td>2019-07-07</td>\n",
       "      <td>13.130</td>\n",
       "      <td>232</td>\n",
       "      <td>365</td>\n",
       "      <td>191731.297</td>\n",
       "    </tr>\n",
       "    <tr>\n",
       "      <th>5</th>\n",
       "      <td>36425863</td>\n",
       "      <td>안전하고 조용한 숙소</td>\n",
       "      <td>271391063</td>\n",
       "      <td>Zs</td>\n",
       "      <td>Manhattan</td>\n",
       "      <td>Upper East Side</td>\n",
       "      <td>40.788</td>\n",
       "      <td>-73.942</td>\n",
       "      <td>Shared room</td>\n",
       "      <td>2300</td>\n",
       "      <td>365</td>\n",
       "      <td>389</td>\n",
       "      <td>2019-07-07</td>\n",
       "      <td>11.250</td>\n",
       "      <td>327</td>\n",
       "      <td>365</td>\n",
       "      <td>239673.705</td>\n",
       "    </tr>\n",
       "  </tbody>\n",
       "</table>\n",
       "</div>"
      ],
      "text/plain": [
       "         id                                               name    host_id  \\\n",
       "0  36205674  ★ UES | Cozy bedroom near LGA, free coffee & tea!  271432195   \n",
       "1  36235154                ⭐️Harlem getaway w/ great amenities  271029539   \n",
       "2  36318560  ➖PRIVATE ROOFTOP ➖ LUXURY LIVING IN NEW YORK C...  269585762   \n",
       "3  35645630                          哥伦比亚大学附近步行3分钟高档公寓主卧暑期降价转租  264495166   \n",
       "4  36351128                                         曼哈顿108街转租!  273361532   \n",
       "5  36425863                                        안전하고 조용한 숙소  271391063   \n",
       "\n",
       "      host_name neighbourhood_group        neighbourhood latitude longitude  \\\n",
       "0         Zoila           Manhattan          East Harlem   40.817   -73.931   \n",
       "1           NaN           Manhattan               Harlem   40.834   -73.935   \n",
       "2  Zoie + Chris           Manhattan              Midtown   40.768   -73.961   \n",
       "3        Wenfei           Manhattan  Morningside Heights   40.817   -73.955   \n",
       "4            思铨           Manhattan      Upper West Side   40.804   -73.959   \n",
       "5            Zs           Manhattan      Upper East Side   40.788   -73.942   \n",
       "\n",
       "      room_type price minimum_nights number_of_reviews last_review  \\\n",
       "0   Shared room  1500             32               325  2019-07-07   \n",
       "1   Shared room  5000            999               607  2019-07-08   \n",
       "2   Shared room  5100            365               275  2019-07-07   \n",
       "3  Private room   450             31               233  2019-07-07   \n",
       "4   Shared room  6000            300               401  2019-07-07   \n",
       "5   Shared room  2300            365               389  2019-07-07   \n",
       "\n",
       "  reviews_per_month calculated_host_listings_count availability_365  \\\n",
       "0             8.060                            103              365   \n",
       "1             9.290                            103              365   \n",
       "2            11.140                            232              365   \n",
       "3            10.000                             12              365   \n",
       "4            13.130                            232              365   \n",
       "5            11.250                            327              365   \n",
       "\n",
       "  rentabilidade  \n",
       "0     90254.919  \n",
       "1    194435.504  \n",
       "2    310182.009  \n",
       "3     24793.522  \n",
       "4    191731.297  \n",
       "5    239673.705  "
      ]
     },
     "execution_count": 59,
     "metadata": {},
     "output_type": "execute_result"
    }
   ],
   "source": [
    "df1 = df_novo.loc[ df_novo['neighbourhood'] == 'East Harlem' ].max()\n",
    "df2 = df_novo.loc[ df_novo['neighbourhood'] == 'Harlem' ].max()\n",
    "df3 = df_novo.loc[ df_novo['neighbourhood'] == 'Midtown' ].max()\n",
    "df4 = df_novo.loc[ df_novo['neighbourhood'] == 'Morningside Heights' ].max()\n",
    "df5 = df_novo.loc[ df_novo['neighbourhood'] == 'Upper West Side' ].max()\n",
    "df6 = df_novo.loc[ df_novo['neighbourhood'] == 'Upper East Side' ].max()\n",
    "\n",
    "df_result = pd.concat([df1, df2, df3, df4, df5, df6], axis=1 ).T\n",
    "\n",
    "df_result\n"
   ]
  },
  {
   "cell_type": "code",
   "execution_count": null,
   "metadata": {},
   "outputs": [],
   "source": []
  },
  {
   "cell_type": "code",
   "execution_count": null,
   "metadata": {},
   "outputs": [],
   "source": []
  }
 ],
 "metadata": {
  "kernelspec": {
   "display_name": "Python 3 (ipykernel)",
   "language": "python",
   "name": "python3"
  },
  "language_info": {
   "codemirror_mode": {
    "name": "ipython",
    "version": 3
   },
   "file_extension": ".py",
   "mimetype": "text/x-python",
   "name": "python",
   "nbconvert_exporter": "python",
   "pygments_lexer": "ipython3",
   "version": "3.8.5"
  }
 },
 "nbformat": 4,
 "nbformat_minor": 4
}
