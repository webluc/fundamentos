{
 "cells": [
  {
   "cell_type": "markdown",
   "metadata": {
    "ExecuteTime": {
     "end_time": "2022-07-20T19:49:34.620816Z",
     "start_time": "2022-07-20T19:49:34.615291Z"
    }
   },
   "source": [
    "# Imports"
   ]
  },
  {
   "cell_type": "code",
   "execution_count": 1,
   "metadata": {
    "ExecuteTime": {
     "end_time": "2022-07-28T13:03:29.680857Z",
     "start_time": "2022-07-28T13:03:29.300496Z"
    }
   },
   "outputs": [],
   "source": [
    "import pandas as pd\n",
    "import numpy as np\n",
    "from tabulate import tabulate\n",
    "\n",
    "pd.set_option('display.float_format', lambda x: '%.3f' % x)"
   ]
  },
  {
   "cell_type": "markdown",
   "metadata": {},
   "source": [
    "# Carregar os dados do csv"
   ]
  },
  {
   "cell_type": "code",
   "execution_count": 2,
   "metadata": {
    "ExecuteTime": {
     "end_time": "2022-07-28T13:03:37.489637Z",
     "start_time": "2022-07-28T13:03:37.219098Z"
    },
    "scrolled": true
   },
   "outputs": [
    {
     "data": {
      "text/html": [
       "<div>\n",
       "<style scoped>\n",
       "    .dataframe tbody tr th:only-of-type {\n",
       "        vertical-align: middle;\n",
       "    }\n",
       "\n",
       "    .dataframe tbody tr th {\n",
       "        vertical-align: top;\n",
       "    }\n",
       "\n",
       "    .dataframe thead th {\n",
       "        text-align: right;\n",
       "    }\n",
       "</style>\n",
       "<table border=\"1\" class=\"dataframe\">\n",
       "  <thead>\n",
       "    <tr style=\"text-align: right;\">\n",
       "      <th></th>\n",
       "      <th>id</th>\n",
       "      <th>name</th>\n",
       "      <th>host_id</th>\n",
       "      <th>host_name</th>\n",
       "      <th>neighbourhood_group</th>\n",
       "      <th>neighbourhood</th>\n",
       "      <th>latitude</th>\n",
       "      <th>longitude</th>\n",
       "      <th>room_type</th>\n",
       "      <th>price</th>\n",
       "      <th>minimum_nights</th>\n",
       "      <th>number_of_reviews</th>\n",
       "      <th>last_review</th>\n",
       "      <th>reviews_per_month</th>\n",
       "      <th>calculated_host_listings_count</th>\n",
       "      <th>availability_365</th>\n",
       "    </tr>\n",
       "  </thead>\n",
       "  <tbody>\n",
       "    <tr>\n",
       "      <th>0</th>\n",
       "      <td>2539</td>\n",
       "      <td>Clean &amp; quiet apt home by the park</td>\n",
       "      <td>2787</td>\n",
       "      <td>John</td>\n",
       "      <td>Brooklyn</td>\n",
       "      <td>Kensington</td>\n",
       "      <td>40.647</td>\n",
       "      <td>-73.972</td>\n",
       "      <td>Private room</td>\n",
       "      <td>149</td>\n",
       "      <td>1</td>\n",
       "      <td>9</td>\n",
       "      <td>2018-10-19</td>\n",
       "      <td>0.210</td>\n",
       "      <td>6</td>\n",
       "      <td>365</td>\n",
       "    </tr>\n",
       "    <tr>\n",
       "      <th>1</th>\n",
       "      <td>2595</td>\n",
       "      <td>Skylit Midtown Castle</td>\n",
       "      <td>2845</td>\n",
       "      <td>Jennifer</td>\n",
       "      <td>Manhattan</td>\n",
       "      <td>Midtown</td>\n",
       "      <td>40.754</td>\n",
       "      <td>-73.984</td>\n",
       "      <td>Entire home/apt</td>\n",
       "      <td>225</td>\n",
       "      <td>1</td>\n",
       "      <td>45</td>\n",
       "      <td>2019-05-21</td>\n",
       "      <td>0.380</td>\n",
       "      <td>2</td>\n",
       "      <td>355</td>\n",
       "    </tr>\n",
       "    <tr>\n",
       "      <th>2</th>\n",
       "      <td>3647</td>\n",
       "      <td>THE VILLAGE OF HARLEM....NEW YORK !</td>\n",
       "      <td>4632</td>\n",
       "      <td>Elisabeth</td>\n",
       "      <td>Manhattan</td>\n",
       "      <td>Harlem</td>\n",
       "      <td>40.809</td>\n",
       "      <td>-73.942</td>\n",
       "      <td>Private room</td>\n",
       "      <td>150</td>\n",
       "      <td>3</td>\n",
       "      <td>0</td>\n",
       "      <td>NaN</td>\n",
       "      <td>NaN</td>\n",
       "      <td>1</td>\n",
       "      <td>365</td>\n",
       "    </tr>\n",
       "    <tr>\n",
       "      <th>3</th>\n",
       "      <td>3831</td>\n",
       "      <td>Cozy Entire Floor of Brownstone</td>\n",
       "      <td>4869</td>\n",
       "      <td>LisaRoxanne</td>\n",
       "      <td>Brooklyn</td>\n",
       "      <td>Clinton Hill</td>\n",
       "      <td>40.685</td>\n",
       "      <td>-73.960</td>\n",
       "      <td>Entire home/apt</td>\n",
       "      <td>89</td>\n",
       "      <td>1</td>\n",
       "      <td>270</td>\n",
       "      <td>2019-07-05</td>\n",
       "      <td>4.640</td>\n",
       "      <td>1</td>\n",
       "      <td>194</td>\n",
       "    </tr>\n",
       "    <tr>\n",
       "      <th>4</th>\n",
       "      <td>5022</td>\n",
       "      <td>Entire Apt: Spacious Studio/Loft by central park</td>\n",
       "      <td>7192</td>\n",
       "      <td>Laura</td>\n",
       "      <td>Manhattan</td>\n",
       "      <td>East Harlem</td>\n",
       "      <td>40.799</td>\n",
       "      <td>-73.944</td>\n",
       "      <td>Entire home/apt</td>\n",
       "      <td>80</td>\n",
       "      <td>10</td>\n",
       "      <td>9</td>\n",
       "      <td>2018-11-19</td>\n",
       "      <td>0.100</td>\n",
       "      <td>1</td>\n",
       "      <td>0</td>\n",
       "    </tr>\n",
       "  </tbody>\n",
       "</table>\n",
       "</div>"
      ],
      "text/plain": [
       "     id                                              name  host_id  \\\n",
       "0  2539                Clean & quiet apt home by the park     2787   \n",
       "1  2595                             Skylit Midtown Castle     2845   \n",
       "2  3647               THE VILLAGE OF HARLEM....NEW YORK !     4632   \n",
       "3  3831                   Cozy Entire Floor of Brownstone     4869   \n",
       "4  5022  Entire Apt: Spacious Studio/Loft by central park     7192   \n",
       "\n",
       "     host_name neighbourhood_group neighbourhood  latitude  longitude  \\\n",
       "0         John            Brooklyn    Kensington    40.647    -73.972   \n",
       "1     Jennifer           Manhattan       Midtown    40.754    -73.984   \n",
       "2    Elisabeth           Manhattan        Harlem    40.809    -73.942   \n",
       "3  LisaRoxanne            Brooklyn  Clinton Hill    40.685    -73.960   \n",
       "4        Laura           Manhattan   East Harlem    40.799    -73.944   \n",
       "\n",
       "         room_type  price  minimum_nights  number_of_reviews last_review  \\\n",
       "0     Private room    149               1                  9  2018-10-19   \n",
       "1  Entire home/apt    225               1                 45  2019-05-21   \n",
       "2     Private room    150               3                  0         NaN   \n",
       "3  Entire home/apt     89               1                270  2019-07-05   \n",
       "4  Entire home/apt     80              10                  9  2018-11-19   \n",
       "\n",
       "   reviews_per_month  calculated_host_listings_count  availability_365  \n",
       "0              0.210                               6               365  \n",
       "1              0.380                               2               355  \n",
       "2                NaN                               1               365  \n",
       "3              4.640                               1               194  \n",
       "4              0.100                               1                 0  "
      ]
     },
     "execution_count": 2,
     "metadata": {},
     "output_type": "execute_result"
    }
   ],
   "source": [
    "df_raw = pd.read_csv('data/AB_NYC_2019.csv')\n",
    "df_raw.head()"
   ]
  },
  {
   "cell_type": "code",
   "execution_count": 24,
   "metadata": {
    "ExecuteTime": {
     "end_time": "2022-07-28T13:11:43.458750Z",
     "start_time": "2022-07-28T13:11:43.413601Z"
    }
   },
   "outputs": [
    {
     "data": {
      "text/html": [
       "<div>\n",
       "<style scoped>\n",
       "    .dataframe tbody tr th:only-of-type {\n",
       "        vertical-align: middle;\n",
       "    }\n",
       "\n",
       "    .dataframe tbody tr th {\n",
       "        vertical-align: top;\n",
       "    }\n",
       "\n",
       "    .dataframe thead th {\n",
       "        text-align: right;\n",
       "    }\n",
       "</style>\n",
       "<table border=\"1\" class=\"dataframe\">\n",
       "  <thead>\n",
       "    <tr style=\"text-align: right;\">\n",
       "      <th></th>\n",
       "      <th>id</th>\n",
       "      <th>name</th>\n",
       "      <th>host_id</th>\n",
       "      <th>host_name</th>\n",
       "      <th>neighbourhood_group</th>\n",
       "      <th>neighbourhood</th>\n",
       "      <th>latitude</th>\n",
       "      <th>longitude</th>\n",
       "      <th>room_type</th>\n",
       "      <th>price</th>\n",
       "      <th>minimum_nights</th>\n",
       "      <th>number_of_reviews</th>\n",
       "      <th>last_review</th>\n",
       "      <th>reviews_per_month</th>\n",
       "      <th>calculated_host_listings_count</th>\n",
       "      <th>availability_365</th>\n",
       "    </tr>\n",
       "  </thead>\n",
       "  <tbody>\n",
       "    <tr>\n",
       "      <th>2854</th>\n",
       "      <td>1615764</td>\n",
       "      <td>NaN</td>\n",
       "      <td>6676776</td>\n",
       "      <td>Peter</td>\n",
       "      <td>Manhattan</td>\n",
       "      <td>Battery Park City</td>\n",
       "      <td>40.712</td>\n",
       "      <td>-74.016</td>\n",
       "      <td>Entire home/apt</td>\n",
       "      <td>400</td>\n",
       "      <td>1000</td>\n",
       "      <td>0</td>\n",
       "      <td>NaN</td>\n",
       "      <td>NaN</td>\n",
       "      <td>1</td>\n",
       "      <td>362</td>\n",
       "    </tr>\n",
       "    <tr>\n",
       "      <th>3703</th>\n",
       "      <td>2232600</td>\n",
       "      <td>NaN</td>\n",
       "      <td>11395220</td>\n",
       "      <td>Anna</td>\n",
       "      <td>Manhattan</td>\n",
       "      <td>East Village</td>\n",
       "      <td>40.732</td>\n",
       "      <td>-73.988</td>\n",
       "      <td>Entire home/apt</td>\n",
       "      <td>200</td>\n",
       "      <td>1</td>\n",
       "      <td>28</td>\n",
       "      <td>2015-06-08</td>\n",
       "      <td>0.450</td>\n",
       "      <td>1</td>\n",
       "      <td>341</td>\n",
       "    </tr>\n",
       "    <tr>\n",
       "      <th>5775</th>\n",
       "      <td>4209595</td>\n",
       "      <td>NaN</td>\n",
       "      <td>20700823</td>\n",
       "      <td>Jesse</td>\n",
       "      <td>Manhattan</td>\n",
       "      <td>Greenwich Village</td>\n",
       "      <td>40.735</td>\n",
       "      <td>-73.992</td>\n",
       "      <td>Entire home/apt</td>\n",
       "      <td>225</td>\n",
       "      <td>1</td>\n",
       "      <td>1</td>\n",
       "      <td>2015-01-01</td>\n",
       "      <td>0.020</td>\n",
       "      <td>1</td>\n",
       "      <td>0</td>\n",
       "    </tr>\n",
       "    <tr>\n",
       "      <th>5975</th>\n",
       "      <td>4370230</td>\n",
       "      <td>NaN</td>\n",
       "      <td>22686810</td>\n",
       "      <td>Michaël</td>\n",
       "      <td>Manhattan</td>\n",
       "      <td>Nolita</td>\n",
       "      <td>40.720</td>\n",
       "      <td>-73.996</td>\n",
       "      <td>Entire home/apt</td>\n",
       "      <td>215</td>\n",
       "      <td>7</td>\n",
       "      <td>5</td>\n",
       "      <td>2016-01-02</td>\n",
       "      <td>0.090</td>\n",
       "      <td>1</td>\n",
       "      <td>0</td>\n",
       "    </tr>\n",
       "    <tr>\n",
       "      <th>6269</th>\n",
       "      <td>4581788</td>\n",
       "      <td>NaN</td>\n",
       "      <td>21600904</td>\n",
       "      <td>Lucie</td>\n",
       "      <td>Brooklyn</td>\n",
       "      <td>Williamsburg</td>\n",
       "      <td>40.714</td>\n",
       "      <td>-73.944</td>\n",
       "      <td>Private room</td>\n",
       "      <td>150</td>\n",
       "      <td>1</td>\n",
       "      <td>0</td>\n",
       "      <td>NaN</td>\n",
       "      <td>NaN</td>\n",
       "      <td>1</td>\n",
       "      <td>0</td>\n",
       "    </tr>\n",
       "    <tr>\n",
       "      <th>6567</th>\n",
       "      <td>4756856</td>\n",
       "      <td>NaN</td>\n",
       "      <td>1832442</td>\n",
       "      <td>Carolina</td>\n",
       "      <td>Brooklyn</td>\n",
       "      <td>Bushwick</td>\n",
       "      <td>40.700</td>\n",
       "      <td>-73.928</td>\n",
       "      <td>Private room</td>\n",
       "      <td>70</td>\n",
       "      <td>1</td>\n",
       "      <td>0</td>\n",
       "      <td>NaN</td>\n",
       "      <td>NaN</td>\n",
       "      <td>1</td>\n",
       "      <td>0</td>\n",
       "    </tr>\n",
       "    <tr>\n",
       "      <th>6605</th>\n",
       "      <td>4774658</td>\n",
       "      <td>NaN</td>\n",
       "      <td>24625694</td>\n",
       "      <td>Josh</td>\n",
       "      <td>Manhattan</td>\n",
       "      <td>Washington Heights</td>\n",
       "      <td>40.852</td>\n",
       "      <td>-73.931</td>\n",
       "      <td>Private room</td>\n",
       "      <td>40</td>\n",
       "      <td>1</td>\n",
       "      <td>0</td>\n",
       "      <td>NaN</td>\n",
       "      <td>NaN</td>\n",
       "      <td>1</td>\n",
       "      <td>0</td>\n",
       "    </tr>\n",
       "    <tr>\n",
       "      <th>8841</th>\n",
       "      <td>6782407</td>\n",
       "      <td>NaN</td>\n",
       "      <td>31147528</td>\n",
       "      <td>Huei-Yin</td>\n",
       "      <td>Brooklyn</td>\n",
       "      <td>Williamsburg</td>\n",
       "      <td>40.714</td>\n",
       "      <td>-73.939</td>\n",
       "      <td>Private room</td>\n",
       "      <td>45</td>\n",
       "      <td>1</td>\n",
       "      <td>0</td>\n",
       "      <td>NaN</td>\n",
       "      <td>NaN</td>\n",
       "      <td>1</td>\n",
       "      <td>0</td>\n",
       "    </tr>\n",
       "    <tr>\n",
       "      <th>11963</th>\n",
       "      <td>9325951</td>\n",
       "      <td>NaN</td>\n",
       "      <td>33377685</td>\n",
       "      <td>Jonathan</td>\n",
       "      <td>Manhattan</td>\n",
       "      <td>Hell's Kitchen</td>\n",
       "      <td>40.764</td>\n",
       "      <td>-73.986</td>\n",
       "      <td>Entire home/apt</td>\n",
       "      <td>190</td>\n",
       "      <td>4</td>\n",
       "      <td>1</td>\n",
       "      <td>2016-01-05</td>\n",
       "      <td>0.020</td>\n",
       "      <td>1</td>\n",
       "      <td>0</td>\n",
       "    </tr>\n",
       "    <tr>\n",
       "      <th>12824</th>\n",
       "      <td>9787590</td>\n",
       "      <td>NaN</td>\n",
       "      <td>50448556</td>\n",
       "      <td>Miguel</td>\n",
       "      <td>Manhattan</td>\n",
       "      <td>Harlem</td>\n",
       "      <td>40.803</td>\n",
       "      <td>-73.952</td>\n",
       "      <td>Entire home/apt</td>\n",
       "      <td>300</td>\n",
       "      <td>5</td>\n",
       "      <td>0</td>\n",
       "      <td>NaN</td>\n",
       "      <td>NaN</td>\n",
       "      <td>5</td>\n",
       "      <td>0</td>\n",
       "    </tr>\n",
       "    <tr>\n",
       "      <th>13059</th>\n",
       "      <td>9885866</td>\n",
       "      <td>NaN</td>\n",
       "      <td>37306329</td>\n",
       "      <td>Juliette</td>\n",
       "      <td>Manhattan</td>\n",
       "      <td>Chinatown</td>\n",
       "      <td>40.716</td>\n",
       "      <td>-73.993</td>\n",
       "      <td>Private room</td>\n",
       "      <td>67</td>\n",
       "      <td>4</td>\n",
       "      <td>0</td>\n",
       "      <td>NaN</td>\n",
       "      <td>NaN</td>\n",
       "      <td>1</td>\n",
       "      <td>0</td>\n",
       "    </tr>\n",
       "    <tr>\n",
       "      <th>13401</th>\n",
       "      <td>10052289</td>\n",
       "      <td>NaN</td>\n",
       "      <td>49522403</td>\n",
       "      <td>Vanessa</td>\n",
       "      <td>Brooklyn</td>\n",
       "      <td>Brownsville</td>\n",
       "      <td>40.664</td>\n",
       "      <td>-73.923</td>\n",
       "      <td>Private room</td>\n",
       "      <td>50</td>\n",
       "      <td>3</td>\n",
       "      <td>3</td>\n",
       "      <td>2016-08-18</td>\n",
       "      <td>0.070</td>\n",
       "      <td>1</td>\n",
       "      <td>362</td>\n",
       "    </tr>\n",
       "    <tr>\n",
       "      <th>15819</th>\n",
       "      <td>12797684</td>\n",
       "      <td>NaN</td>\n",
       "      <td>69715276</td>\n",
       "      <td>Yan</td>\n",
       "      <td>Manhattan</td>\n",
       "      <td>Upper West Side</td>\n",
       "      <td>40.798</td>\n",
       "      <td>-73.964</td>\n",
       "      <td>Private room</td>\n",
       "      <td>100</td>\n",
       "      <td>1</td>\n",
       "      <td>0</td>\n",
       "      <td>NaN</td>\n",
       "      <td>NaN</td>\n",
       "      <td>2</td>\n",
       "      <td>0</td>\n",
       "    </tr>\n",
       "    <tr>\n",
       "      <th>16071</th>\n",
       "      <td>12988898</td>\n",
       "      <td>NaN</td>\n",
       "      <td>71552588</td>\n",
       "      <td>Andrea</td>\n",
       "      <td>Bronx</td>\n",
       "      <td>Fordham</td>\n",
       "      <td>40.860</td>\n",
       "      <td>-73.885</td>\n",
       "      <td>Shared room</td>\n",
       "      <td>130</td>\n",
       "      <td>1</td>\n",
       "      <td>0</td>\n",
       "      <td>NaN</td>\n",
       "      <td>NaN</td>\n",
       "      <td>1</td>\n",
       "      <td>365</td>\n",
       "    </tr>\n",
       "    <tr>\n",
       "      <th>18047</th>\n",
       "      <td>14135050</td>\n",
       "      <td>NaN</td>\n",
       "      <td>85288337</td>\n",
       "      <td>Jeff</td>\n",
       "      <td>Brooklyn</td>\n",
       "      <td>Bedford-Stuyvesant</td>\n",
       "      <td>40.694</td>\n",
       "      <td>-73.932</td>\n",
       "      <td>Private room</td>\n",
       "      <td>70</td>\n",
       "      <td>3</td>\n",
       "      <td>0</td>\n",
       "      <td>NaN</td>\n",
       "      <td>NaN</td>\n",
       "      <td>1</td>\n",
       "      <td>0</td>\n",
       "    </tr>\n",
       "    <tr>\n",
       "      <th>28889</th>\n",
       "      <td>22275821</td>\n",
       "      <td>NaN</td>\n",
       "      <td>49662398</td>\n",
       "      <td>Kathleen</td>\n",
       "      <td>Brooklyn</td>\n",
       "      <td>Bushwick</td>\n",
       "      <td>40.695</td>\n",
       "      <td>-73.927</td>\n",
       "      <td>Entire home/apt</td>\n",
       "      <td>110</td>\n",
       "      <td>4</td>\n",
       "      <td>5</td>\n",
       "      <td>2018-08-13</td>\n",
       "      <td>0.270</td>\n",
       "      <td>1</td>\n",
       "      <td>0</td>\n",
       "    </tr>\n",
       "  </tbody>\n",
       "</table>\n",
       "</div>"
      ],
      "text/plain": [
       "             id name   host_id host_name neighbourhood_group  \\\n",
       "2854    1615764  NaN   6676776     Peter           Manhattan   \n",
       "3703    2232600  NaN  11395220      Anna           Manhattan   \n",
       "5775    4209595  NaN  20700823     Jesse           Manhattan   \n",
       "5975    4370230  NaN  22686810   Michaël           Manhattan   \n",
       "6269    4581788  NaN  21600904     Lucie            Brooklyn   \n",
       "6567    4756856  NaN   1832442  Carolina            Brooklyn   \n",
       "6605    4774658  NaN  24625694      Josh           Manhattan   \n",
       "8841    6782407  NaN  31147528  Huei-Yin            Brooklyn   \n",
       "11963   9325951  NaN  33377685  Jonathan           Manhattan   \n",
       "12824   9787590  NaN  50448556    Miguel           Manhattan   \n",
       "13059   9885866  NaN  37306329  Juliette           Manhattan   \n",
       "13401  10052289  NaN  49522403   Vanessa            Brooklyn   \n",
       "15819  12797684  NaN  69715276       Yan           Manhattan   \n",
       "16071  12988898  NaN  71552588    Andrea               Bronx   \n",
       "18047  14135050  NaN  85288337      Jeff            Brooklyn   \n",
       "28889  22275821  NaN  49662398  Kathleen            Brooklyn   \n",
       "\n",
       "            neighbourhood  latitude  longitude        room_type  price  \\\n",
       "2854    Battery Park City    40.712    -74.016  Entire home/apt    400   \n",
       "3703         East Village    40.732    -73.988  Entire home/apt    200   \n",
       "5775    Greenwich Village    40.735    -73.992  Entire home/apt    225   \n",
       "5975               Nolita    40.720    -73.996  Entire home/apt    215   \n",
       "6269         Williamsburg    40.714    -73.944     Private room    150   \n",
       "6567             Bushwick    40.700    -73.928     Private room     70   \n",
       "6605   Washington Heights    40.852    -73.931     Private room     40   \n",
       "8841         Williamsburg    40.714    -73.939     Private room     45   \n",
       "11963      Hell's Kitchen    40.764    -73.986  Entire home/apt    190   \n",
       "12824              Harlem    40.803    -73.952  Entire home/apt    300   \n",
       "13059           Chinatown    40.716    -73.993     Private room     67   \n",
       "13401         Brownsville    40.664    -73.923     Private room     50   \n",
       "15819     Upper West Side    40.798    -73.964     Private room    100   \n",
       "16071             Fordham    40.860    -73.885      Shared room    130   \n",
       "18047  Bedford-Stuyvesant    40.694    -73.932     Private room     70   \n",
       "28889            Bushwick    40.695    -73.927  Entire home/apt    110   \n",
       "\n",
       "       minimum_nights  number_of_reviews last_review  reviews_per_month  \\\n",
       "2854             1000                  0         NaN                NaN   \n",
       "3703                1                 28  2015-06-08              0.450   \n",
       "5775                1                  1  2015-01-01              0.020   \n",
       "5975                7                  5  2016-01-02              0.090   \n",
       "6269                1                  0         NaN                NaN   \n",
       "6567                1                  0         NaN                NaN   \n",
       "6605                1                  0         NaN                NaN   \n",
       "8841                1                  0         NaN                NaN   \n",
       "11963               4                  1  2016-01-05              0.020   \n",
       "12824               5                  0         NaN                NaN   \n",
       "13059               4                  0         NaN                NaN   \n",
       "13401               3                  3  2016-08-18              0.070   \n",
       "15819               1                  0         NaN                NaN   \n",
       "16071               1                  0         NaN                NaN   \n",
       "18047               3                  0         NaN                NaN   \n",
       "28889               4                  5  2018-08-13              0.270   \n",
       "\n",
       "       calculated_host_listings_count  availability_365  \n",
       "2854                                1               362  \n",
       "3703                                1               341  \n",
       "5775                                1                 0  \n",
       "5975                                1                 0  \n",
       "6269                                1                 0  \n",
       "6567                                1                 0  \n",
       "6605                                1                 0  \n",
       "8841                                1                 0  \n",
       "11963                               1                 0  \n",
       "12824                               5                 0  \n",
       "13059                               1                 0  \n",
       "13401                               1               362  \n",
       "15819                               2                 0  \n",
       "16071                               1               365  \n",
       "18047                               1                 0  \n",
       "28889                               1                 0  "
      ]
     },
     "execution_count": 24,
     "metadata": {},
     "output_type": "execute_result"
    }
   ],
   "source": [
    "df_raw.loc[ df_raw['name'].isna() ]"
   ]
  },
  {
   "cell_type": "code",
   "execution_count": 3,
   "metadata": {
    "ExecuteTime": {
     "end_time": "2022-07-28T13:03:40.984755Z",
     "start_time": "2022-07-28T13:03:40.970297Z"
    }
   },
   "outputs": [
    {
     "data": {
      "text/plain": [
       "Index(['id', 'name', 'host_id', 'host_name', 'neighbourhood_group',\n",
       "       'neighbourhood', 'latitude', 'longitude', 'room_type', 'price',\n",
       "       'minimum_nights', 'number_of_reviews', 'last_review',\n",
       "       'reviews_per_month', 'calculated_host_listings_count',\n",
       "       'availability_365'],\n",
       "      dtype='object')"
      ]
     },
     "execution_count": 3,
     "metadata": {},
     "output_type": "execute_result"
    }
   ],
   "source": [
    "df_raw.columns"
   ]
  },
  {
   "cell_type": "code",
   "execution_count": 4,
   "metadata": {
    "ExecuteTime": {
     "end_time": "2022-07-28T13:03:42.992714Z",
     "start_time": "2022-07-28T13:03:42.983202Z"
    }
   },
   "outputs": [
    {
     "name": "stdout",
     "output_type": "stream",
     "text": [
      "------------------------------  ----------------------------------\n",
      "id                              id do imóvel\n",
      "name                            Descrição do Imóvel\n",
      "host_id                         Id do proprietário\n",
      "host_name                       Nome do Proprietário\n",
      "neighbourhood_group             Região\n",
      "neighbourhood                   Bairro\n",
      "latitude                        latitute\n",
      "longitude                       longitude\n",
      "room_type                       Categoria\n",
      "price                           Preço\n",
      "minimum_nights                  Mínimo de Locação\n",
      "number_of_reviews               Número de Locação/comentarios\n",
      "last_review                     Última Locação\n",
      "reviews_per_month               Locações por mês\n",
      "calculated_host_listings_count  Pode ser numero de imoveis do host\n",
      "availability_365                Disponibilidade\n",
      "------------------------------  ----------------------------------\n"
     ]
    }
   ],
   "source": [
    "table_coluns = [[ 'id', 'id do imóvel'],\n",
    "                ['name', 'Descrição do Imóvel' ],\n",
    "                ['host_id','Id do proprietário'],\n",
    "                ['host_name','Nome do Proprietário'],\n",
    "                ['neighbourhood_group','Região'],\n",
    "                ['neighbourhood','Bairro'],\n",
    "                ['latitude','latitute'],\n",
    "                ['longitude','longitude'],\n",
    "                ['room_type', \"Categoria\"],\n",
    "                ['price','Preço'],\n",
    "                ['minimum_nights','Mínimo de Locação'],\n",
    "                ['number_of_reviews','Número de Locação/comentarios'],\n",
    "                ['last_review','Última Locação'],\n",
    "                ['reviews_per_month','Locações por mês'],\n",
    "                ['calculated_host_listings_count','Pode ser numero de imoveis do host '],\n",
    "                ['availability_365', 'Disponibilidade']\n",
    "            ]\n",
    "\n",
    "print(tabulate(table_coluns))\n",
    "            "
   ]
  },
  {
   "cell_type": "code",
   "execution_count": 5,
   "metadata": {
    "ExecuteTime": {
     "end_time": "2022-07-28T13:03:46.330966Z",
     "start_time": "2022-07-28T13:03:46.318966Z"
    },
    "cell_style": "split"
   },
   "outputs": [
    {
     "data": {
      "text/plain": [
       "id                                  int64\n",
       "name                               object\n",
       "host_id                             int64\n",
       "host_name                          object\n",
       "neighbourhood_group                object\n",
       "neighbourhood                      object\n",
       "latitude                          float64\n",
       "longitude                         float64\n",
       "room_type                          object\n",
       "price                               int64\n",
       "minimum_nights                      int64\n",
       "number_of_reviews                   int64\n",
       "last_review                        object\n",
       "reviews_per_month                 float64\n",
       "calculated_host_listings_count      int64\n",
       "availability_365                    int64\n",
       "dtype: object"
      ]
     },
     "execution_count": 5,
     "metadata": {},
     "output_type": "execute_result"
    }
   ],
   "source": [
    "df_raw.dtypes"
   ]
  },
  {
   "cell_type": "code",
   "execution_count": 14,
   "metadata": {
    "ExecuteTime": {
     "end_time": "2022-07-28T13:08:02.346823Z",
     "start_time": "2022-07-28T13:08:02.221091Z"
    },
    "cell_style": "split",
    "scrolled": false
   },
   "outputs": [
    {
     "data": {
      "text/plain": [
       "id                                    0\n",
       "name                                 16\n",
       "host_id                               0\n",
       "host_name                            21\n",
       "neighbourhood_group                   0\n",
       "neighbourhood                         0\n",
       "latitude                              0\n",
       "longitude                             0\n",
       "room_type                             0\n",
       "price                                 0\n",
       "minimum_nights                        0\n",
       "number_of_reviews                     0\n",
       "last_review                       10052\n",
       "reviews_per_month                 10052\n",
       "calculated_host_listings_count        0\n",
       "availability_365                      0\n",
       "dtype: int64"
      ]
     },
     "execution_count": 14,
     "metadata": {},
     "output_type": "execute_result"
    }
   ],
   "source": [
    "df_raw.isna().sum()"
   ]
  },
  {
   "cell_type": "code",
   "execution_count": 7,
   "metadata": {
    "ExecuteTime": {
     "end_time": "2022-07-28T13:03:49.971366Z",
     "start_time": "2022-07-28T13:03:49.959031Z"
    }
   },
   "outputs": [],
   "source": [
    "df = df_raw.copy()"
   ]
  },
  {
   "cell_type": "code",
   "execution_count": 8,
   "metadata": {
    "ExecuteTime": {
     "end_time": "2022-07-28T13:03:51.127287Z",
     "start_time": "2022-07-28T13:03:51.094137Z"
    }
   },
   "outputs": [],
   "source": [
    "df['last_review'] = pd.to_datetime( df['last_review'] )"
   ]
  },
  {
   "cell_type": "code",
   "execution_count": 9,
   "metadata": {
    "ExecuteTime": {
     "end_time": "2022-07-28T13:04:08.559891Z",
     "start_time": "2022-07-28T13:04:08.546481Z"
    }
   },
   "outputs": [
    {
     "data": {
      "text/plain": [
       "id                                         int64\n",
       "name                                      object\n",
       "host_id                                    int64\n",
       "host_name                                 object\n",
       "neighbourhood_group                       object\n",
       "neighbourhood                             object\n",
       "latitude                                 float64\n",
       "longitude                                float64\n",
       "room_type                                 object\n",
       "price                                      int64\n",
       "minimum_nights                             int64\n",
       "number_of_reviews                          int64\n",
       "last_review                       datetime64[ns]\n",
       "reviews_per_month                        float64\n",
       "calculated_host_listings_count             int64\n",
       "availability_365                           int64\n",
       "dtype: object"
      ]
     },
     "execution_count": 9,
     "metadata": {},
     "output_type": "execute_result"
    }
   ],
   "source": [
    "df.dtypes"
   ]
  },
  {
   "cell_type": "code",
   "execution_count": 26,
   "metadata": {
    "ExecuteTime": {
     "end_time": "2022-07-28T13:14:33.461769Z",
     "start_time": "2022-07-28T13:14:28.670597Z"
    }
   },
   "outputs": [],
   "source": [
    "#name\n",
    "df['name'] = df[['name','id']].apply( lambda x : x['id'] if pd.isnull( x['name'] ) else x['name'], axis=1 )\n",
    "\n",
    "# host_name\n",
    "df['host_name'] = df[['host_name','host_id']].apply( lambda x : x['host_id'] if pd.isnull( x['host_name'] ) else x['host_name'], axis=1 )\n",
    "\n",
    "# last_review\n",
    "df['last_review'] = df[['last_review','number_of_reviews']].apply( lambda x : 0 if x['number_of_reviews'] == 0 else x['last_review'], axis=1 )\n",
    "\n",
    "# reviews_per_month\n",
    "df['reviews_per_month'] = df[['reviews_per_month','number_of_reviews']].apply( lambda x : 0 if x['number_of_reviews'] == 0 else x['reviews_per_month'], axis=1 )\n"
   ]
  },
  {
   "cell_type": "code",
   "execution_count": 27,
   "metadata": {
    "ExecuteTime": {
     "end_time": "2022-07-28T13:14:36.864922Z",
     "start_time": "2022-07-28T13:14:36.758728Z"
    },
    "cell_style": "split"
   },
   "outputs": [
    {
     "data": {
      "text/plain": [
       "id                                0\n",
       "name                              0\n",
       "host_id                           0\n",
       "host_name                         0\n",
       "neighbourhood_group               0\n",
       "neighbourhood                     0\n",
       "latitude                          0\n",
       "longitude                         0\n",
       "room_type                         0\n",
       "price                             0\n",
       "minimum_nights                    0\n",
       "number_of_reviews                 0\n",
       "last_review                       0\n",
       "reviews_per_month                 0\n",
       "calculated_host_listings_count    0\n",
       "availability_365                  0\n",
       "dtype: int64"
      ]
     },
     "execution_count": 27,
     "metadata": {},
     "output_type": "execute_result"
    }
   ],
   "source": [
    "df.isna().sum()"
   ]
  },
  {
   "cell_type": "code",
   "execution_count": 28,
   "metadata": {
    "ExecuteTime": {
     "end_time": "2022-07-28T13:15:04.459055Z",
     "start_time": "2022-07-28T13:15:04.443009Z"
    },
    "cell_style": "split"
   },
   "outputs": [
    {
     "data": {
      "text/plain": [
       "(48895, 16)"
      ]
     },
     "execution_count": 28,
     "metadata": {},
     "output_type": "execute_result"
    }
   ],
   "source": [
    "df.shape"
   ]
  },
  {
   "cell_type": "code",
   "execution_count": 30,
   "metadata": {
    "ExecuteTime": {
     "end_time": "2022-07-28T13:18:55.720059Z",
     "start_time": "2022-07-28T13:18:55.460335Z"
    },
    "cell_style": "center"
   },
   "outputs": [
    {
     "data": {
      "text/html": [
       "<div>\n",
       "<style scoped>\n",
       "    .dataframe tbody tr th:only-of-type {\n",
       "        vertical-align: middle;\n",
       "    }\n",
       "\n",
       "    .dataframe tbody tr th {\n",
       "        vertical-align: top;\n",
       "    }\n",
       "\n",
       "    .dataframe thead th {\n",
       "        text-align: right;\n",
       "    }\n",
       "</style>\n",
       "<table border=\"1\" class=\"dataframe\">\n",
       "  <thead>\n",
       "    <tr style=\"text-align: right;\">\n",
       "      <th></th>\n",
       "      <th>id</th>\n",
       "      <th>host_id</th>\n",
       "      <th>latitude</th>\n",
       "      <th>longitude</th>\n",
       "      <th>price</th>\n",
       "      <th>minimum_nights</th>\n",
       "      <th>number_of_reviews</th>\n",
       "      <th>reviews_per_month</th>\n",
       "      <th>calculated_host_listings_count</th>\n",
       "      <th>availability_365</th>\n",
       "    </tr>\n",
       "  </thead>\n",
       "  <tbody>\n",
       "    <tr>\n",
       "      <th>count</th>\n",
       "      <td>48895.000</td>\n",
       "      <td>48895.000</td>\n",
       "      <td>48895.000</td>\n",
       "      <td>48895.000</td>\n",
       "      <td>48895.000</td>\n",
       "      <td>48895.000</td>\n",
       "      <td>48895.000</td>\n",
       "      <td>48895.000</td>\n",
       "      <td>48895.000</td>\n",
       "      <td>48895.000</td>\n",
       "    </tr>\n",
       "    <tr>\n",
       "      <th>mean</th>\n",
       "      <td>19017143.236</td>\n",
       "      <td>67620010.647</td>\n",
       "      <td>40.729</td>\n",
       "      <td>-73.952</td>\n",
       "      <td>152.721</td>\n",
       "      <td>7.030</td>\n",
       "      <td>23.274</td>\n",
       "      <td>1.091</td>\n",
       "      <td>7.144</td>\n",
       "      <td>112.781</td>\n",
       "    </tr>\n",
       "    <tr>\n",
       "      <th>std</th>\n",
       "      <td>10983108.386</td>\n",
       "      <td>78610967.033</td>\n",
       "      <td>0.055</td>\n",
       "      <td>0.046</td>\n",
       "      <td>240.154</td>\n",
       "      <td>20.511</td>\n",
       "      <td>44.551</td>\n",
       "      <td>1.597</td>\n",
       "      <td>32.953</td>\n",
       "      <td>131.622</td>\n",
       "    </tr>\n",
       "    <tr>\n",
       "      <th>min</th>\n",
       "      <td>2539.000</td>\n",
       "      <td>2438.000</td>\n",
       "      <td>40.500</td>\n",
       "      <td>-74.244</td>\n",
       "      <td>0.000</td>\n",
       "      <td>1.000</td>\n",
       "      <td>0.000</td>\n",
       "      <td>0.000</td>\n",
       "      <td>1.000</td>\n",
       "      <td>0.000</td>\n",
       "    </tr>\n",
       "    <tr>\n",
       "      <th>25%</th>\n",
       "      <td>9471945.000</td>\n",
       "      <td>7822033.000</td>\n",
       "      <td>40.690</td>\n",
       "      <td>-73.983</td>\n",
       "      <td>69.000</td>\n",
       "      <td>1.000</td>\n",
       "      <td>1.000</td>\n",
       "      <td>0.040</td>\n",
       "      <td>1.000</td>\n",
       "      <td>0.000</td>\n",
       "    </tr>\n",
       "    <tr>\n",
       "      <th>50%</th>\n",
       "      <td>19677284.000</td>\n",
       "      <td>30793816.000</td>\n",
       "      <td>40.723</td>\n",
       "      <td>-73.956</td>\n",
       "      <td>106.000</td>\n",
       "      <td>3.000</td>\n",
       "      <td>5.000</td>\n",
       "      <td>0.370</td>\n",
       "      <td>1.000</td>\n",
       "      <td>45.000</td>\n",
       "    </tr>\n",
       "    <tr>\n",
       "      <th>75%</th>\n",
       "      <td>29152178.500</td>\n",
       "      <td>107434423.000</td>\n",
       "      <td>40.763</td>\n",
       "      <td>-73.936</td>\n",
       "      <td>175.000</td>\n",
       "      <td>5.000</td>\n",
       "      <td>24.000</td>\n",
       "      <td>1.580</td>\n",
       "      <td>2.000</td>\n",
       "      <td>227.000</td>\n",
       "    </tr>\n",
       "    <tr>\n",
       "      <th>max</th>\n",
       "      <td>36487245.000</td>\n",
       "      <td>274321313.000</td>\n",
       "      <td>40.913</td>\n",
       "      <td>-73.713</td>\n",
       "      <td>10000.000</td>\n",
       "      <td>1250.000</td>\n",
       "      <td>629.000</td>\n",
       "      <td>58.500</td>\n",
       "      <td>327.000</td>\n",
       "      <td>365.000</td>\n",
       "    </tr>\n",
       "  </tbody>\n",
       "</table>\n",
       "</div>"
      ],
      "text/plain": [
       "                id       host_id  latitude  longitude     price  \\\n",
       "count    48895.000     48895.000 48895.000  48895.000 48895.000   \n",
       "mean  19017143.236  67620010.647    40.729    -73.952   152.721   \n",
       "std   10983108.386  78610967.033     0.055      0.046   240.154   \n",
       "min       2539.000      2438.000    40.500    -74.244     0.000   \n",
       "25%    9471945.000   7822033.000    40.690    -73.983    69.000   \n",
       "50%   19677284.000  30793816.000    40.723    -73.956   106.000   \n",
       "75%   29152178.500 107434423.000    40.763    -73.936   175.000   \n",
       "max   36487245.000 274321313.000    40.913    -73.713 10000.000   \n",
       "\n",
       "       minimum_nights  number_of_reviews  reviews_per_month  \\\n",
       "count       48895.000          48895.000          48895.000   \n",
       "mean            7.030             23.274              1.091   \n",
       "std            20.511             44.551              1.597   \n",
       "min             1.000              0.000              0.000   \n",
       "25%             1.000              1.000              0.040   \n",
       "50%             3.000              5.000              0.370   \n",
       "75%             5.000             24.000              1.580   \n",
       "max          1250.000            629.000             58.500   \n",
       "\n",
       "       calculated_host_listings_count  availability_365  \n",
       "count                       48895.000         48895.000  \n",
       "mean                            7.144           112.781  \n",
       "std                            32.953           131.622  \n",
       "min                             1.000             0.000  \n",
       "25%                             1.000             0.000  \n",
       "50%                             1.000            45.000  \n",
       "75%                             2.000           227.000  \n",
       "max                           327.000           365.000  "
      ]
     },
     "execution_count": 30,
     "metadata": {},
     "output_type": "execute_result"
    }
   ],
   "source": [
    "df.describe()"
   ]
  },
  {
   "cell_type": "code",
   "execution_count": null,
   "metadata": {},
   "outputs": [],
   "source": []
  },
  {
   "cell_type": "code",
   "execution_count": null,
   "metadata": {},
   "outputs": [],
   "source": []
  },
  {
   "cell_type": "code",
   "execution_count": null,
   "metadata": {},
   "outputs": [],
   "source": []
  },
  {
   "cell_type": "code",
   "execution_count": null,
   "metadata": {},
   "outputs": [],
   "source": []
  },
  {
   "cell_type": "markdown",
   "metadata": {
    "ExecuteTime": {
     "end_time": "2022-07-20T20:32:32.311681Z",
     "start_time": "2022-07-20T20:32:32.306489Z"
    },
    "heading_collapsed": true
   },
   "source": [
    "# Problema de Negócio - Respondendo."
   ]
  },
  {
   "cell_type": "markdown",
   "metadata": {
    "ExecuteTime": {
     "end_time": "2022-07-20T20:22:51.956192Z",
     "start_time": "2022-07-20T20:22:51.886340Z"
    },
    "hidden": true
   },
   "source": [
    "## 1. Qual o `id` do imóvel com o aluguel (diária) mais caro da base de dados?"
   ]
  },
  {
   "cell_type": "code",
   "execution_count": null,
   "metadata": {
    "ExecuteTime": {
     "end_time": "2022-07-27T12:46:56.149566Z",
     "start_time": "2022-07-27T12:46:56.017107Z"
    },
    "hidden": true
   },
   "outputs": [],
   "source": [
    "df[['id','price']].sort_values('price', ascending=False).reset_index(drop=True).loc[0,'id']"
   ]
  },
  {
   "cell_type": "markdown",
   "metadata": {
    "ExecuteTime": {
     "end_time": "2022-07-21T14:49:16.875505Z",
     "start_time": "2022-07-21T14:49:16.863960Z"
    },
    "hidden": true
   },
   "source": [
    "## 2. Qual o `id` do imóvel com o aluguel (diária) mais barato da base de dados?"
   ]
  },
  {
   "cell_type": "code",
   "execution_count": null,
   "metadata": {
    "ExecuteTime": {
     "end_time": "2022-07-27T12:46:56.247200Z",
     "start_time": "2022-07-27T12:46:56.156019Z"
    },
    "hidden": true
   },
   "outputs": [],
   "source": [
    "df[['id','price']].sort_values('price', ascending=True).reset_index(drop=True).loc[0,'id']"
   ]
  },
  {
   "cell_type": "markdown",
   "metadata": {
    "ExecuteTime": {
     "end_time": "2022-07-21T14:51:26.098335Z",
     "start_time": "2022-07-21T14:51:26.074977Z"
    },
    "hidden": true
   },
   "source": [
    "## 3. Qual o `id` do imóvel que foi mais locado da base de dados?"
   ]
  },
  {
   "cell_type": "code",
   "execution_count": null,
   "metadata": {
    "ExecuteTime": {
     "end_time": "2022-07-27T12:46:56.336527Z",
     "start_time": "2022-07-27T12:46:56.250289Z"
    },
    "hidden": true
   },
   "outputs": [],
   "source": [
    "df[['id','number_of_reviews']].sort_values('number_of_reviews', ascending=False ).reset_index( drop=True ).loc[0,'id']"
   ]
  },
  {
   "cell_type": "markdown",
   "metadata": {
    "ExecuteTime": {
     "end_time": "2022-07-21T16:49:05.100273Z",
     "start_time": "2022-07-21T16:49:05.090456Z"
    },
    "hidden": true
   },
   "source": [
    "## 4. Qual o `id` do imóvel que ficou mais tempo com o anúncio disponível, em dias, para locação na base de dados?"
   ]
  },
  {
   "cell_type": "code",
   "execution_count": null,
   "metadata": {
    "ExecuteTime": {
     "end_time": "2022-07-27T12:46:56.430261Z",
     "start_time": "2022-07-27T12:46:56.341785Z"
    },
    "hidden": true
   },
   "outputs": [],
   "source": [
    "df[['id','availability_365']].sort_values('availability_365', ascending=False).reset_index(drop=True).loc[0,['id','availability_365']]"
   ]
  },
  {
   "cell_type": "markdown",
   "metadata": {
    "hidden": true
   },
   "source": [
    "## 5. Qual o `id` do imóvel que ficou menos tempo com o anúncio disponível, em dias, para locação na base de dados?"
   ]
  },
  {
   "cell_type": "code",
   "execution_count": null,
   "metadata": {
    "ExecuteTime": {
     "end_time": "2022-07-27T12:46:56.517136Z",
     "start_time": "2022-07-27T12:46:56.432901Z"
    },
    "hidden": true
   },
   "outputs": [],
   "source": [
    "df[['id','availability_365']].sort_values('availability_365', ascending=True).reset_index(drop=True).loc[0,['id','availability_365']]"
   ]
  },
  {
   "cell_type": "markdown",
   "metadata": {
    "hidden": true
   },
   "source": [
    "## 6. O imóvel com o maior valor de aluguel (diária) da base de dados é o imóvel que possui mais avaliações na base de dados?"
   ]
  },
  {
   "cell_type": "code",
   "execution_count": null,
   "metadata": {
    "ExecuteTime": {
     "end_time": "2022-07-27T12:46:56.609205Z",
     "start_time": "2022-07-27T12:46:56.519807Z"
    },
    "hidden": true
   },
   "outputs": [],
   "source": [
    "df_price_max = df[['id','price']].sort_values('price',ascending=False).reset_index(drop=True).loc[0,'id']\n",
    "df_aval_max = df[['id','number_of_reviews']].sort_values('number_of_reviews',ascending=False).reset_index(drop=True).loc[0,'id']\n",
    "\n",
    "print(f'O Imóvel com maior diária é ', df_price_max )\n",
    "print(f'O Imóvel com melhor avaliação é ', df_aval_max )"
   ]
  },
  {
   "cell_type": "markdown",
   "metadata": {
    "hidden": true
   },
   "source": [
    "## 7. O imóvel que possui a menor quantidade mínima de diárias para locação é também o imóvel que possui o aluguel mais caro?"
   ]
  },
  {
   "cell_type": "code",
   "execution_count": null,
   "metadata": {
    "ExecuteTime": {
     "end_time": "2022-07-27T12:46:56.697837Z",
     "start_time": "2022-07-27T12:46:56.612252Z"
    },
    "hidden": true
   },
   "outputs": [],
   "source": [
    "df_min_night = df[['id','minimum_nights']].sort_values('minimum_nights',ascending=True).reset_index(drop=True).loc[0,'id']\n",
    "df_price_max = df[['id','price']].sort_values('price',ascending=False).reset_index(drop=True).loc[0,'id']\n",
    "\n",
    "print(f'O Imóvel com menor quantidade de diária é ', df_min_night )\n",
    "print(f'O Imóvel com maior diária é ', df_price_max )"
   ]
  },
  {
   "cell_type": "markdown",
   "metadata": {
    "ExecuteTime": {
     "end_time": "2022-07-21T21:43:21.820333Z",
     "start_time": "2022-07-21T21:43:21.796455Z"
    },
    "hidden": true
   },
   "source": [
    "## 8. Qual é a média de diárias mínimas para locação de um imóvel?"
   ]
  },
  {
   "cell_type": "code",
   "execution_count": null,
   "metadata": {
    "ExecuteTime": {
     "end_time": "2022-07-27T12:46:56.812105Z",
     "start_time": "2022-07-27T12:46:56.705442Z"
    },
    "hidden": true
   },
   "outputs": [],
   "source": [
    "np.round(df['price'].mean(),2)"
   ]
  },
  {
   "cell_type": "markdown",
   "metadata": {
    "hidden": true
   },
   "source": [
    "## 9. Qual é o `id` do imóvel com a quantidade mínima de diárias para locação da base de dados?"
   ]
  },
  {
   "cell_type": "code",
   "execution_count": null,
   "metadata": {
    "ExecuteTime": {
     "end_time": "2022-07-27T12:46:56.922573Z",
     "start_time": "2022-07-27T12:46:56.814354Z"
    },
    "hidden": true
   },
   "outputs": [],
   "source": [
    "df[['id','minimum_nights']].sort_values('minimum_nights',ascending=True).reset_index(drop=True)\n"
   ]
  },
  {
   "cell_type": "markdown",
   "metadata": {
    "hidden": true
   },
   "source": [
    "## 10.Qual é o `id` do host que possui o imóvel mais alugado na base de dados?"
   ]
  },
  {
   "cell_type": "code",
   "execution_count": null,
   "metadata": {
    "ExecuteTime": {
     "end_time": "2022-07-27T12:46:57.018614Z",
     "start_time": "2022-07-27T12:46:56.925072Z"
    },
    "hidden": true
   },
   "outputs": [],
   "source": [
    "df[['host_id','number_of_reviews']].sort_values('number_of_reviews', ascending=False).reset_index(drop=True)"
   ]
  },
  {
   "cell_type": "markdown",
   "metadata": {
    "hidden": true
   },
   "source": [
    "## 11. Qual é o `id` do host que possui o imóvel menos alugado na base de dado"
   ]
  },
  {
   "cell_type": "code",
   "execution_count": null,
   "metadata": {
    "ExecuteTime": {
     "end_time": "2022-07-27T12:46:57.114581Z",
     "start_time": "2022-07-27T12:46:57.021362Z"
    },
    "hidden": true
   },
   "outputs": [],
   "source": [
    "df[['host_id','number_of_reviews']].sort_values('number_of_reviews', ascending=True).reset_index(drop=True)\n"
   ]
  },
  {
   "cell_type": "markdown",
   "metadata": {
    "hidden": true
   },
   "source": [
    "## 12.Qual é o `id` do host que possui o imóvel com mais avaliações na base de dados?"
   ]
  },
  {
   "cell_type": "code",
   "execution_count": null,
   "metadata": {
    "ExecuteTime": {
     "end_time": "2022-07-27T12:46:57.204147Z",
     "start_time": "2022-07-27T12:46:57.117184Z"
    },
    "hidden": true
   },
   "outputs": [],
   "source": [
    "df[['host_id','number_of_reviews']].sort_values('number_of_reviews',ascending=False).reset_index(drop=True)\n"
   ]
  },
  {
   "cell_type": "markdown",
   "metadata": {
    "hidden": true
   },
   "source": [
    "## 13.Qual é o `id` do host que possui a maior quantidade de imóveis cadastrados na base de dados?"
   ]
  },
  {
   "cell_type": "code",
   "execution_count": null,
   "metadata": {
    "ExecuteTime": {
     "end_time": "2022-07-27T12:46:57.298602Z",
     "start_time": "2022-07-27T12:46:57.206289Z"
    },
    "hidden": true
   },
   "outputs": [],
   "source": [
    "df[['id','host_id']].groupby('host_id').count().sort_values('id', ascending=False ).reset_index()"
   ]
  },
  {
   "cell_type": "markdown",
   "metadata": {
    "hidden": true
   },
   "source": [
    "## 14.Qual o `id` do host que possui o imóvel com a última avaliação feita na base de dados?"
   ]
  },
  {
   "cell_type": "code",
   "execution_count": null,
   "metadata": {
    "ExecuteTime": {
     "end_time": "2022-07-27T12:46:57.380960Z",
     "start_time": "2022-07-27T12:46:57.301810Z"
    },
    "hidden": true
   },
   "outputs": [],
   "source": [
    "df[['host_id','last_review']].sort_values('last_review', ascending=False).reset_index(drop=True)\n"
   ]
  },
  {
   "cell_type": "markdown",
   "metadata": {
    "hidden": true
   },
   "source": [
    "## 15.Qual o `id` do host que possui mais imóveis ativos dentro da base de dados?"
   ]
  },
  {
   "cell_type": "code",
   "execution_count": null,
   "metadata": {
    "ExecuteTime": {
     "end_time": "2022-07-27T12:46:57.582397Z",
     "start_time": "2022-07-27T12:46:57.383667Z"
    },
    "hidden": true
   },
   "outputs": [],
   "source": [
    "df_ativos = df[df['number_of_reviews'] > 0 ]\n",
    "\n",
    "df_ativos[['host_id','number_of_reviews']].groupby('host_id').sum().sort_values('number_of_reviews', ascending=False ).reset_index()"
   ]
  },
  {
   "cell_type": "markdown",
   "metadata": {
    "hidden": true
   },
   "source": [
    "## 16.O host que possui mais imóveis é o host que também possui mais avaliações?"
   ]
  },
  {
   "cell_type": "code",
   "execution_count": null,
   "metadata": {
    "ExecuteTime": {
     "end_time": "2022-07-27T12:46:57.758300Z",
     "start_time": "2022-07-27T12:46:57.587862Z"
    },
    "hidden": true
   },
   "outputs": [],
   "source": [
    "max_host_imovel = df[['host_id','id']].groupby('host_id').sum().sort_values('id',ascending=False).reset_index().loc[0,'host_id']\n",
    "max_host_aval = df[['host_id','number_of_reviews']].groupby('host_id').sum().sort_values('number_of_reviews',ascending=False).reset_index().loc[0,'host_id']\n",
    "\n",
    "print( max_host_imovel)\n",
    "print( max_host_aval )"
   ]
  },
  {
   "cell_type": "markdown",
   "metadata": {
    "hidden": true
   },
   "source": [
    "## 17.Qual é a categoria que mais possui imóveis dentro da base de dados?"
   ]
  },
  {
   "cell_type": "code",
   "execution_count": null,
   "metadata": {
    "ExecuteTime": {
     "end_time": "2022-07-27T12:46:57.873193Z",
     "start_time": "2022-07-27T12:46:57.761136Z"
    },
    "hidden": true
   },
   "outputs": [],
   "source": [
    "df[['id','room_type',]].groupby('room_type').count().sort_values('id',ascending= False).reset_index()"
   ]
  },
  {
   "cell_type": "markdown",
   "metadata": {
    "hidden": true
   },
   "source": [
    "## 18.Qual é a categoria que menos possui imóveis dentro da base de dados?"
   ]
  },
  {
   "cell_type": "code",
   "execution_count": null,
   "metadata": {
    "ExecuteTime": {
     "end_time": "2022-07-27T12:46:57.967551Z",
     "start_time": "2022-07-27T12:46:57.876083Z"
    },
    "hidden": true
   },
   "outputs": [],
   "source": [
    "df[['id','room_type',]].groupby('room_type').count().sort_values('id',ascending= True).reset_index()"
   ]
  },
  {
   "cell_type": "markdown",
   "metadata": {
    "hidden": true
   },
   "source": [
    "## 19.A região de Manhattan é a região que mais possui imóveis ativos para locação, da categoria `Private room`?"
   ]
  },
  {
   "cell_type": "code",
   "execution_count": null,
   "metadata": {
    "ExecuteTime": {
     "end_time": "2022-07-27T12:46:58.075268Z",
     "start_time": "2022-07-27T12:46:57.975820Z"
    },
    "hidden": true
   },
   "outputs": [],
   "source": [
    "df_ativos = df[df['number_of_reviews'] > 0 ]\n",
    "df_ativos[['neighbourhood_group','number_of_reviews']].groupby('neighbourhood_group').sum().sort_values('number_of_reviews', ascending=False).reset_index()\n"
   ]
  },
  {
   "cell_type": "markdown",
   "metadata": {
    "hidden": true
   },
   "source": [
    "## 20.Qual a categoria de imóvel que possui a maior média de tempo de disponibilidade para serem locados da região do `Bronx`? Considere somente imóveis ativos"
   ]
  },
  {
   "cell_type": "code",
   "execution_count": null,
   "metadata": {
    "ExecuteTime": {
     "end_time": "2022-07-27T12:46:58.181186Z",
     "start_time": "2022-07-27T12:46:58.081413Z"
    },
    "hidden": true
   },
   "outputs": [],
   "source": [
    "df_bronx = df.loc[ ( df['number_of_reviews'] > 0 ) & (df['neighbourhood_group'] == 'Bronx')] \n",
    "df_bronx[['room_type','minimum_nights']].groupby('room_type').mean()"
   ]
  },
  {
   "cell_type": "markdown",
   "metadata": {
    "hidden": true
   },
   "source": [
    "## 21.Qual a categoria de imóvel ativo que possui o maior valor de aluguel (diária) na região de `Manhattan`?"
   ]
  },
  {
   "cell_type": "code",
   "execution_count": null,
   "metadata": {
    "ExecuteTime": {
     "end_time": "2022-07-27T12:46:58.314192Z",
     "start_time": "2022-07-27T12:46:58.183797Z"
    },
    "hidden": true
   },
   "outputs": [],
   "source": [
    "df_manhattan = df.loc[  ( df['number_of_reviews'] > 0 ) & (df['neighbourhood_group'] == 'Manhattan') ]\n",
    "df_manhattan[['room_type','price']].groupby('room_type').sum().reset_index()"
   ]
  },
  {
   "cell_type": "markdown",
   "metadata": {
    "hidden": true
   },
   "source": [
    "## 22.A categoria de imóvel `Private Room` é a categoria que fica mais tempo disponível para locação?"
   ]
  },
  {
   "cell_type": "code",
   "execution_count": null,
   "metadata": {
    "ExecuteTime": {
     "end_time": "2022-07-27T12:46:58.401803Z",
     "start_time": "2022-07-27T12:46:58.316960Z"
    },
    "hidden": true
   },
   "outputs": [],
   "source": [
    "df[['room_type','availability_365']].groupby('room_type').sum().reset_index()"
   ]
  },
  {
   "cell_type": "markdown",
   "metadata": {
    "hidden": true
   },
   "source": [
    "## 23.Qual a categoria de imóvel que fica mais tempo disponível, na média, para locação?"
   ]
  },
  {
   "cell_type": "code",
   "execution_count": null,
   "metadata": {
    "ExecuteTime": {
     "end_time": "2022-07-27T12:46:58.485668Z",
     "start_time": "2022-07-27T12:46:58.404312Z"
    },
    "hidden": true
   },
   "outputs": [],
   "source": [
    "df[['room_type','availability_365']].groupby('room_type').mean().sort_values('availability_365',ascending=True).reset_index().loc[0,'room_type']"
   ]
  },
  {
   "cell_type": "markdown",
   "metadata": {
    "hidden": true
   },
   "source": [
    "## 24. A categoria de imóvel que fica menos tempo disponível, na média, para locação é a categoria que possui, em média, o menor aluguel (diária)?"
   ]
  },
  {
   "cell_type": "code",
   "execution_count": null,
   "metadata": {
    "ExecuteTime": {
     "end_time": "2022-07-27T12:46:58.590863Z",
     "start_time": "2022-07-27T12:46:58.488283Z"
    },
    "hidden": true
   },
   "outputs": [],
   "source": [
    "df[['room_type','availability_365','price']].groupby('room_type').mean().reset_index()"
   ]
  },
  {
   "cell_type": "markdown",
   "metadata": {
    "hidden": true
   },
   "source": [
    "## 25. A categoria de imóvel `Entire home/apt` é a categoria que possui, na média, o maior valor de aluguel?"
   ]
  },
  {
   "cell_type": "code",
   "execution_count": null,
   "metadata": {
    "ExecuteTime": {
     "end_time": "2022-07-27T12:46:58.703549Z",
     "start_time": "2022-07-27T12:46:58.593532Z"
    },
    "hidden": true
   },
   "outputs": [],
   "source": [
    "df[['room_type','availability_365','price']].groupby('room_type').mean().sort_values('price',ascending=False).reset_index()"
   ]
  },
  {
   "cell_type": "markdown",
   "metadata": {
    "hidden": true
   },
   "source": [
    "## 26. A categoria de imóvel `Entire home/apt` é a categoria que possui, na média, menos locações?"
   ]
  },
  {
   "cell_type": "code",
   "execution_count": null,
   "metadata": {
    "ExecuteTime": {
     "end_time": "2022-07-27T12:46:58.901693Z",
     "start_time": "2022-07-27T12:46:58.711681Z"
    },
    "hidden": true
   },
   "outputs": [],
   "source": [
    "df[['room_type','number_of_reviews']].groupby('room_type').mean().sort_values('number_of_reviews',ascending=False).reset_index()"
   ]
  },
  {
   "cell_type": "markdown",
   "metadata": {
    "hidden": true
   },
   "source": [
    "##  27.A categoria de imóvel `Private Room` na região de `Manhattan`, na média, é a categoria que possui o menor valor (diária) de locação, comparado as outras categorias na mesma região?"
   ]
  },
  {
   "cell_type": "code",
   "execution_count": null,
   "metadata": {
    "ExecuteTime": {
     "end_time": "2022-07-27T12:46:58.995405Z",
     "start_time": "2022-07-27T12:46:58.907411Z"
    },
    "hidden": true
   },
   "outputs": [],
   "source": [
    "df_manhattan = df.loc[df['neighbourhood_group'] == 'Manhattan']\n",
    "df_manhattan[['room_type','price']].groupby('room_type').mean().reset_index()"
   ]
  },
  {
   "cell_type": "markdown",
   "metadata": {
    "ExecuteTime": {
     "end_time": "2022-07-24T21:09:32.510029Z",
     "start_time": "2022-07-24T21:09:32.472645Z"
    },
    "hidden": true
   },
   "source": [
    "## 28. Qual a região que possui a maior quantidade de imóveis?"
   ]
  },
  {
   "cell_type": "code",
   "execution_count": null,
   "metadata": {
    "ExecuteTime": {
     "end_time": "2022-07-27T12:47:48.555095Z",
     "start_time": "2022-07-27T12:47:48.533984Z"
    },
    "hidden": true
   },
   "outputs": [],
   "source": [
    "df[['neighbourhood_group','id']].groupby('neighbourhood_group').count().sort_values('id',ascending=False).reset_index()"
   ]
  },
  {
   "cell_type": "markdown",
   "metadata": {
    "ExecuteTime": {
     "end_time": "2022-07-24T21:11:07.828779Z",
     "start_time": "2022-07-24T21:11:07.815092Z"
    },
    "hidden": true
   },
   "source": [
    "## 29. Qual a região que possui a menor quantidade de imóveis?"
   ]
  },
  {
   "cell_type": "code",
   "execution_count": null,
   "metadata": {
    "ExecuteTime": {
     "end_time": "2022-07-27T12:49:24.236580Z",
     "start_time": "2022-07-27T12:49:24.215625Z"
    },
    "hidden": true
   },
   "outputs": [],
   "source": [
    "df[['neighbourhood_group','id']].groupby('neighbourhood_group').count().sort_values('id',ascending=True).reset_index()"
   ]
  },
  {
   "cell_type": "markdown",
   "metadata": {
    "hidden": true
   },
   "source": [
    "## 30.A região que possui a maior quantidade de imóveis é também a região que possui os imóveis mais locados?"
   ]
  },
  {
   "cell_type": "code",
   "execution_count": null,
   "metadata": {
    "ExecuteTime": {
     "end_time": "2022-07-27T12:57:01.426687Z",
     "start_time": "2022-07-27T12:57:01.391187Z"
    },
    "hidden": true
   },
   "outputs": [],
   "source": [
    "df1 = df[['neighbourhood_group','id']].groupby('neighbourhood_group').count().sort_values('id',ascending=False).reset_index()\n",
    "df2 = df[['neighbourhood_group','number_of_reviews']].groupby('neighbourhood_group').sum().sort_values('number_of_reviews',ascending=False).reset_index()\n",
    "df_merge = pd.merge( df1, df2 )\n",
    "df_merge"
   ]
  },
  {
   "cell_type": "markdown",
   "metadata": {
    "ExecuteTime": {
     "end_time": "2022-07-27T12:57:29.575767Z",
     "start_time": "2022-07-27T12:57:29.562550Z"
    },
    "hidden": true
   },
   "source": [
    "## 31.Qual a região que possui a menor quantidade de imóveis locados dentro da base de dados?"
   ]
  },
  {
   "cell_type": "code",
   "execution_count": null,
   "metadata": {
    "ExecuteTime": {
     "end_time": "2022-07-27T12:59:29.063999Z",
     "start_time": "2022-07-27T12:59:29.050896Z"
    },
    "hidden": true
   },
   "outputs": [],
   "source": [
    "df2 "
   ]
  },
  {
   "cell_type": "markdown",
   "metadata": {
    "hidden": true
   },
   "source": [
    "## 32.A região de `Manhattan` é a região que possui, na média, os maiores aluguéis (diárias) dentro da base de dados?"
   ]
  },
  {
   "cell_type": "code",
   "execution_count": null,
   "metadata": {
    "ExecuteTime": {
     "end_time": "2022-07-27T13:04:06.286920Z",
     "start_time": "2022-07-27T13:04:06.265373Z"
    },
    "hidden": true
   },
   "outputs": [],
   "source": [
    "df[['neighbourhood_group','price']].groupby('neighbourhood_group').mean().sort_values('price',ascending=False).reset_index()"
   ]
  },
  {
   "cell_type": "markdown",
   "metadata": {
    "hidden": true
   },
   "source": [
    "## 33.A região de `Queens` é a região que possui, na média, os menores aluguéis (diárias) dentro da base de dados?"
   ]
  },
  {
   "cell_type": "code",
   "execution_count": null,
   "metadata": {
    "ExecuteTime": {
     "end_time": "2022-07-27T13:05:12.886640Z",
     "start_time": "2022-07-27T13:05:12.864312Z"
    },
    "hidden": true
   },
   "outputs": [],
   "source": [
    "df[['neighbourhood_group','price']].groupby('neighbourhood_group').mean().sort_values('price',ascending=True).reset_index()"
   ]
  },
  {
   "cell_type": "markdown",
   "metadata": {
    "hidden": true
   },
   "source": [
    "## 34.Qual a região que possui, na média, os imóveis com os menores aluguéis dentro da base de dados?"
   ]
  },
  {
   "cell_type": "code",
   "execution_count": null,
   "metadata": {
    "ExecuteTime": {
     "end_time": "2022-07-27T13:06:52.265704Z",
     "start_time": "2022-07-27T13:06:52.243681Z"
    },
    "hidden": true
   },
   "outputs": [],
   "source": [
    "df[['neighbourhood_group','price']].groupby('neighbourhood_group').mean().sort_values('price',ascending=True).reset_index()"
   ]
  },
  {
   "cell_type": "markdown",
   "metadata": {
    "hidden": true
   },
   "source": [
    "## 35.Qual a região que possui os imóveis que ficam, na média, menos tempo disponíveis para aluguel? Ou seja, são alugados mais rápidos na média?"
   ]
  },
  {
   "cell_type": "code",
   "execution_count": null,
   "metadata": {
    "ExecuteTime": {
     "end_time": "2022-07-27T13:11:25.361438Z",
     "start_time": "2022-07-27T13:11:25.333837Z"
    },
    "hidden": true
   },
   "outputs": [],
   "source": [
    "df[['neighbourhood_group','availability_365']].groupby('neighbourhood_group').mean().sort_values('availability_365',ascending=True).reset_index()"
   ]
  },
  {
   "cell_type": "markdown",
   "metadata": {
    "hidden": true
   },
   "source": [
    "## 36.Qual o bairro possui a maior quantidade de imóveis ativos para locação?"
   ]
  },
  {
   "cell_type": "code",
   "execution_count": null,
   "metadata": {
    "ExecuteTime": {
     "end_time": "2022-07-27T13:30:37.264329Z",
     "start_time": "2022-07-27T13:30:37.234811Z"
    },
    "hidden": true
   },
   "outputs": [],
   "source": [
    "df_bairro = df.loc[ df['number_of_reviews'] > 0 ]\n",
    "df_bairro[['neighbourhood','number_of_reviews']].groupby('neighbourhood').count().sort_values('number_of_reviews',ascending=False).reset_index()"
   ]
  },
  {
   "cell_type": "markdown",
   "metadata": {
    "ExecuteTime": {
     "end_time": "2022-07-27T13:31:09.747096Z",
     "start_time": "2022-07-27T13:31:09.736485Z"
    },
    "hidden": true
   },
   "source": [
    "## 37.Qual o bairro possui a menor quantidade de imóveis ativos para locação?"
   ]
  },
  {
   "cell_type": "code",
   "execution_count": null,
   "metadata": {
    "ExecuteTime": {
     "end_time": "2022-07-27T13:40:43.293249Z",
     "start_time": "2022-07-27T13:40:43.268102Z"
    },
    "hidden": true
   },
   "outputs": [],
   "source": [
    "df_bairro = df.loc[ (df['number_of_reviews'] > 0) & (df['price'] > 0 )]\n",
    "df_bairro[['neighbourhood','number_of_reviews']].groupby('neighbourhood').count().sort_values('number_of_reviews',ascending=True).reset_index()"
   ]
  },
  {
   "cell_type": "markdown",
   "metadata": {
    "hidden": true
   },
   "source": [
    "## 38.Qual o bairro, e de qual região é esse bairro, que possui o imovel com o maior valor de aluguel?"
   ]
  },
  {
   "cell_type": "code",
   "execution_count": null,
   "metadata": {
    "ExecuteTime": {
     "end_time": "2022-07-27T13:40:50.126358Z",
     "start_time": "2022-07-27T13:40:50.107791Z"
    },
    "hidden": true
   },
   "outputs": [],
   "source": [
    "df_bairro[['neighbourhood','neighbourhood_group','price']].sort_values('price',ascending=False)"
   ]
  },
  {
   "cell_type": "markdown",
   "metadata": {
    "hidden": true
   },
   "source": [
    "## 39.Qual o bairro, e de qual região é esse bairro, que possui o imovel com o menor valor de aluguel?"
   ]
  },
  {
   "cell_type": "code",
   "execution_count": null,
   "metadata": {
    "ExecuteTime": {
     "end_time": "2022-07-27T13:40:53.034585Z",
     "start_time": "2022-07-27T13:40:53.010159Z"
    },
    "hidden": true
   },
   "outputs": [],
   "source": [
    "df_bairro[['neighbourhood','neighbourhood_group','price']].sort_values('price',ascending=True)"
   ]
  },
  {
   "cell_type": "markdown",
   "metadata": {
    "hidden": true
   },
   "source": [
    "## 40.Qual região que possui o bairro com mais imóveis ativos disponíveis para locação?"
   ]
  },
  {
   "cell_type": "code",
   "execution_count": null,
   "metadata": {
    "ExecuteTime": {
     "end_time": "2022-07-27T15:32:59.704200Z",
     "start_time": "2022-07-27T15:32:59.668283Z"
    },
    "hidden": true
   },
   "outputs": [],
   "source": [
    "df_bairro[['neighbourhood_group','neighbourhood','number_of_reviews']].groupby(['neighbourhood_group','neighbourhood',]).count().sort_values('number_of_reviews',ascending=False)"
   ]
  },
  {
   "cell_type": "markdown",
   "metadata": {
    "hidden": true
   },
   "source": [
    "## 41.Qual região que possui o bairro com menos imóveis ativos disponíveis para locação?"
   ]
  },
  {
   "cell_type": "code",
   "execution_count": null,
   "metadata": {
    "ExecuteTime": {
     "end_time": "2022-07-27T15:32:49.816508Z",
     "start_time": "2022-07-27T15:32:49.790325Z"
    },
    "hidden": true
   },
   "outputs": [],
   "source": [
    "df_bairro[['neighbourhood_group','neighbourhood','number_of_reviews']].groupby(['neighbourhood_group','neighbourhood',]).count().sort_values('number_of_reviews',ascending=True)"
   ]
  },
  {
   "cell_type": "markdown",
   "metadata": {
    "hidden": true
   },
   "source": [
    "## 42.O Bairro `Upper West Side`, na região de `Manhattan`, é o bairro que possui, na média, o maior aluguel dentro da base de dados?"
   ]
  },
  {
   "cell_type": "code",
   "execution_count": null,
   "metadata": {
    "ExecuteTime": {
     "end_time": "2022-07-27T15:39:38.262377Z",
     "start_time": "2022-07-27T15:39:38.230891Z"
    },
    "hidden": true
   },
   "outputs": [],
   "source": [
    "df_manhattan = df.loc[ df['neighbourhood_group'] == 'Manhattan']\n",
    "df_manhattan[['price','neighbourhood']].groupby('neighbourhood').mean().sort_values('price',ascending=False)"
   ]
  },
  {
   "cell_type": "markdown",
   "metadata": {
    "hidden": true
   },
   "source": [
    "## 43.Qual é o bairro que possui, na média, o aluguel mais caro da base de dados?"
   ]
  },
  {
   "cell_type": "code",
   "execution_count": null,
   "metadata": {
    "ExecuteTime": {
     "end_time": "2022-07-27T15:43:07.748774Z",
     "start_time": "2022-07-27T15:43:07.728865Z"
    },
    "hidden": true
   },
   "outputs": [],
   "source": [
    "df[['price','neighbourhood']].groupby('neighbourhood').mean().sort_values('price',ascending=False)"
   ]
  },
  {
   "cell_type": "markdown",
   "metadata": {
    "hidden": true
   },
   "source": [
    "## 44.Qual o melhor bairro para se adquirir um imóvel, visando o maior valor de aluguel, quantidade de revisões feitas ao longo do tempo e quantidade de revisões mensais? Utilize a seguinte fórmula para verificar qual o melhor imóvel:\n",
    "\n",
    "𝑟𝑒𝑛𝑡𝑎𝑏𝑖𝑙𝑖𝑑𝑎𝑑𝑒 = ( 𝑝𝑟𝑖𝑐𝑒 * (𝑚𝑖𝑛𝑖𝑚𝑢𝑚_𝑛𝑖𝑔ℎ𝑡𝑠 + 1) * 𝑛𝑢𝑚𝑏𝑒𝑟_𝑜𝑓_𝑟𝑒𝑣𝑖𝑒𝑤𝑠 ) / 𝑎𝑣𝑎𝑖𝑙𝑎𝑏𝑖𝑙𝑖𝑡𝑦_365"
   ]
  },
  {
   "cell_type": "code",
   "execution_count": null,
   "metadata": {
    "ExecuteTime": {
     "end_time": "2022-07-27T19:31:45.143616Z",
     "start_time": "2022-07-27T19:31:45.099312Z"
    },
    "hidden": true
   },
   "outputs": [],
   "source": [
    "df_novo = df.loc[ (df['number_of_reviews'] > 0)  & (df['price'] > 0) & (df['availability_365'] > 0)]\n",
    "df_novo['rentabilidade'] = ( df_novo['price'] * (( df_novo['minimum_nights'] + 1 ) * df_novo['number_of_reviews'] )) / np.sqrt(df_novo['availability_365'])\n",
    "df_novo.sort_values('rentabilidade',ascending=False).reset_index().head()"
   ]
  },
  {
   "cell_type": "markdown",
   "metadata": {
    "ExecuteTime": {
     "end_time": "2022-07-27T19:24:08.704213Z",
     "start_time": "2022-07-27T19:24:08.657846Z"
    },
    "hidden": true
   },
   "source": [
    "## 45.Qual a região em que fica o melhor bairro para se adquirir um imóvel, visando a melhor rentabilidade média? Utilize como métrica o índice criado na questão anterior."
   ]
  },
  {
   "cell_type": "code",
   "execution_count": null,
   "metadata": {
    "ExecuteTime": {
     "end_time": "2022-07-27T19:35:07.634480Z",
     "start_time": "2022-07-27T19:35:07.610170Z"
    },
    "hidden": true
   },
   "outputs": [],
   "source": [
    "df_novo[['rentabilidade','neighbourhood_group','neighbourhood']].groupby(['neighbourhood_group','neighbourhood']).mean().sort_values('rentabilidade',ascending=False)"
   ]
  },
  {
   "cell_type": "markdown",
   "metadata": {
    "hidden": true
   },
   "source": [
    "## 46.Qual a região em que fica o pior bairro para se adquirir um imóvel, visando a melhor rentabilidade média?  Utilize como métrica o índice criado na questão 44."
   ]
  },
  {
   "cell_type": "code",
   "execution_count": null,
   "metadata": {
    "ExecuteTime": {
     "end_time": "2022-07-27T19:34:32.594420Z",
     "start_time": "2022-07-27T19:34:32.571035Z"
    },
    "hidden": true
   },
   "outputs": [],
   "source": [
    "df_novo[['rentabilidade','neighbourhood_group','neighbourhood']].groupby(['neighbourhood_group','neighbourhood']).mean().sort_values('rentabilidade',ascending=True)"
   ]
  },
  {
   "cell_type": "markdown",
   "metadata": {
    "hidden": true
   },
   "source": [
    "## 47.Levando em conta o bairro encontrado na questão anterior, verifique qual é o `id` do imóvel ativo que possui a pior rentabilidade desse bairro"
   ]
  },
  {
   "cell_type": "code",
   "execution_count": null,
   "metadata": {
    "ExecuteTime": {
     "end_time": "2022-07-27T19:44:25.564446Z",
     "start_time": "2022-07-27T19:44:25.533973Z"
    },
    "hidden": true
   },
   "outputs": [],
   "source": [
    "df_novo.loc[ (df_novo['neighbourhood_group'] == 'Staten Island' ) & ( df_novo['neighbourhood'] == 'Oakwood' )].sort_values( 'rentabilidade',ascending=True).reset_index()"
   ]
  },
  {
   "cell_type": "markdown",
   "metadata": {
    "hidden": true
   },
   "source": [
    "## 48.Levando em conta o bairro encontrado na questão 45, verifique qual o id do imóvel ativo que possui a melhor rentabilidade desse bairro"
   ]
  },
  {
   "cell_type": "code",
   "execution_count": null,
   "metadata": {
    "ExecuteTime": {
     "end_time": "2022-07-27T19:47:56.692113Z",
     "start_time": "2022-07-27T19:47:56.662594Z"
    },
    "hidden": true
   },
   "outputs": [],
   "source": [
    "df_novo.loc[ df_novo['neighbourhood'] == 'Roosevelt Island' ].sort_values( 'rentabilidade' , ascending=False ).reset_index().head()"
   ]
  },
  {
   "cell_type": "markdown",
   "metadata": {
    "hidden": true
   },
   "source": [
    "## 49.Caso eu, investidor, compre o imóvel da questão anterior com um investimento de 1.000.000,00, quantas vezes eu teria que locá-lo para ter o retorno do investimento feito? Utilize a fórmula abaixo para calcular o tempo de retorno do investimento \n",
    "\n",
    "𝑟𝑒𝑡𝑢𝑟𝑛_𝑖𝑛𝑣𝑒𝑠𝑡𝑚𝑒𝑛𝑡 =          𝑖𝑛𝑣𝑒𝑠𝑡𝑚𝑒𝑛𝑡  /  𝑝𝑟𝑖𝑐𝑒 * (𝑚𝑖𝑛𝑖𝑚𝑢𝑚_𝑛𝑖𝑔ℎ𝑡𝑠 + 1)"
   ]
  },
  {
   "cell_type": "code",
   "execution_count": null,
   "metadata": {
    "ExecuteTime": {
     "end_time": "2022-07-27T20:04:53.009619Z",
     "start_time": "2022-07-27T20:04:52.996592Z"
    },
    "hidden": true
   },
   "outputs": [],
   "source": [
    "df_best_invest = df_novo.loc[df_novo['id']  == 3979611 ]\n",
    "return_investiment = 1000000.00 / ( df_best_invest['price'] * ( df_best_invest['minimum_nights'] + 1))\n",
    "print( np.round( return_investiment, 2 ) )"
   ]
  },
  {
   "cell_type": "code",
   "execution_count": null,
   "metadata": {
    "ExecuteTime": {
     "end_time": "2022-07-27T20:02:44.005433Z",
     "start_time": "2022-07-27T20:02:43.989065Z"
    },
    "hidden": true
   },
   "outputs": [],
   "source": [
    "df_best_invest\n"
   ]
  },
  {
   "cell_type": "markdown",
   "metadata": {
    "hidden": true
   },
   "source": [
    "## 50. Se eu desejasse comprar um imóvel que esteja ativo em um dos bairros abaixo, qual seria o `id` do imóvel com a melhor rentabilidade dentre esses bairros? Utilize o índice calculado na questão 44."
   ]
  },
  {
   "cell_type": "code",
   "execution_count": null,
   "metadata": {
    "ExecuteTime": {
     "end_time": "2022-07-27T20:14:46.481561Z",
     "start_time": "2022-07-27T20:14:46.404878Z"
    },
    "hidden": true
   },
   "outputs": [],
   "source": [
    "df1 = df_novo.loc[ df_novo['neighbourhood'] == 'East Harlem' ].max()\n",
    "df2 = df_novo.loc[ df_novo['neighbourhood'] == 'Harlem' ].max()\n",
    "df3 = df_novo.loc[ df_novo['neighbourhood'] == 'Midtown' ].max()\n",
    "df4 = df_novo.loc[ df_novo['neighbourhood'] == 'Morningside Heights' ].max()\n",
    "df5 = df_novo.loc[ df_novo['neighbourhood'] == 'Upper West Side' ].max()\n",
    "df6 = df_novo.loc[ df_novo['neighbourhood'] == 'Upper East Side' ].max()\n",
    "\n",
    "df_result = pd.concat([df1, df2, df3, df4, df5, df6], axis=1 ).T\n",
    "\n",
    "df_result\n"
   ]
  },
  {
   "cell_type": "code",
   "execution_count": null,
   "metadata": {
    "hidden": true
   },
   "outputs": [],
   "source": []
  },
  {
   "cell_type": "code",
   "execution_count": null,
   "metadata": {
    "hidden": true
   },
   "outputs": [],
   "source": []
  }
 ],
 "metadata": {
  "kernelspec": {
   "display_name": "Python 3 (ipykernel)",
   "language": "python",
   "name": "python3"
  },
  "language_info": {
   "codemirror_mode": {
    "name": "ipython",
    "version": 3
   },
   "file_extension": ".py",
   "mimetype": "text/x-python",
   "name": "python",
   "nbconvert_exporter": "python",
   "pygments_lexer": "ipython3",
   "version": "3.8.5"
  }
 },
 "nbformat": 4,
 "nbformat_minor": 4
}
